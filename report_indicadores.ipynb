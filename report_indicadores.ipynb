{
 "cells": [
  {
   "cell_type": "code",
   "execution_count": 1,
   "id": "d7cae23d-58bb-4f2c-bb36-41a1a1c86123",
   "metadata": {},
   "outputs": [],
   "source": [
    "from core.dao import QueryMaker\n",
    "import re\n",
    "import datetime"
   ]
  },
  {
   "cell_type": "code",
   "execution_count": 2,
   "id": "c061c6c4-9c15-4de7-a62d-9a499c827389",
   "metadata": {},
   "outputs": [],
   "source": [
    "q = QueryMaker()"
   ]
  },
  {
   "cell_type": "code",
   "execution_count": 3,
   "id": "6462aad2-196d-42bd-b10e-01b6f9d23cfb",
   "metadata": {},
   "outputs": [
    {
     "data": {
      "text/plain": [
       "['gerenciador_dashboard',\n",
       " 'auditoria_tabela',\n",
       " 'conteudo',\n",
       " 'estatistica_acesso',\n",
       " 'fonte',\n",
       " 'indicador',\n",
       " 'indicador_resultado',\n",
       " 'indicador_tema',\n",
       " 'nivel_regiao',\n",
       " 'parametro_sistema',\n",
       " 'periodo',\n",
       " 'regiao',\n",
       " 'tema',\n",
       " 'tipo_conteudo',\n",
       " 'tipo_origem',\n",
       " 'tipo_periodo',\n",
       " 'tipo_situacao',\n",
       " 'tipo_unidade_medida',\n",
       " 'variavel',\n",
       " 'variavel_indicador',\n",
       " 'variavel_resultado']"
      ]
     },
     "execution_count": 3,
     "metadata": {},
     "output_type": "execute_result"
    }
   ],
   "source": [
    "q.list_tables()"
   ]
  },
  {
   "cell_type": "code",
   "execution_count": 4,
   "id": "91920340-b274-4db0-8ac9-8db1eed6d1cd",
   "metadata": {},
   "outputs": [],
   "source": [
    "indi = q('indicador', limit=None)"
   ]
  },
  {
   "cell_type": "code",
   "execution_count": 5,
   "id": "43358d2b-9a69-4fc9-bb30-8c5a132e3964",
   "metadata": {},
   "outputs": [
    {
     "data": {
      "text/plain": [
       "Index(['cd_indicador', 'nm_indicador', 'dc_formula_indicador',\n",
       "       'dc_conceito_indicador', 'dc_interpretacao_indicador',\n",
       "       'dc_nota_tecnica', 'in_visibilidade', 'cd_tipo_situacao',\n",
       "       'dt_atualizacao', 'cd_operador', 'cd_tipo_unidade_medida', 'cd_fonte',\n",
       "       'nm_completo_indicador', 'dc_periodicidade_indicador',\n",
       "       'dc_unidade_territorial', 'dc_serie_historica', 'dc_tag_indicador',\n",
       "       'dc_observacao_indicador', 'tx_fonte_indicador',\n",
       "       'in_consideracao_regiao'],\n",
       "      dtype='object')"
      ]
     },
     "execution_count": 5,
     "metadata": {},
     "output_type": "execute_result"
    }
   ],
   "source": [
    "indi.keys()"
   ]
  },
  {
   "cell_type": "code",
   "execution_count": 6,
   "id": "010c9b08-f5d9-48c2-8234-678a164e6d4e",
   "metadata": {},
   "outputs": [
    {
     "data": {
      "text/html": [
       "<div>\n",
       "<style scoped>\n",
       "    .dataframe tbody tr th:only-of-type {\n",
       "        vertical-align: middle;\n",
       "    }\n",
       "\n",
       "    .dataframe tbody tr th {\n",
       "        vertical-align: top;\n",
       "    }\n",
       "\n",
       "    .dataframe thead th {\n",
       "        text-align: right;\n",
       "    }\n",
       "</style>\n",
       "<table border=\"1\" class=\"dataframe\">\n",
       "  <thead>\n",
       "    <tr style=\"text-align: right;\">\n",
       "      <th></th>\n",
       "      <th>cd_indicador</th>\n",
       "      <th>nm_indicador</th>\n",
       "      <th>dc_formula_indicador</th>\n",
       "      <th>dc_conceito_indicador</th>\n",
       "      <th>dc_interpretacao_indicador</th>\n",
       "      <th>dc_nota_tecnica</th>\n",
       "      <th>in_visibilidade</th>\n",
       "      <th>cd_tipo_situacao</th>\n",
       "      <th>dt_atualizacao</th>\n",
       "      <th>cd_operador</th>\n",
       "      <th>cd_tipo_unidade_medida</th>\n",
       "      <th>cd_fonte</th>\n",
       "      <th>nm_completo_indicador</th>\n",
       "      <th>dc_periodicidade_indicador</th>\n",
       "      <th>dc_unidade_territorial</th>\n",
       "      <th>dc_serie_historica</th>\n",
       "      <th>dc_tag_indicador</th>\n",
       "      <th>dc_observacao_indicador</th>\n",
       "      <th>tx_fonte_indicador</th>\n",
       "      <th>in_consideracao_regiao</th>\n",
       "    </tr>\n",
       "  </thead>\n",
       "  <tbody>\n",
       "    <tr>\n",
       "      <th>0</th>\n",
       "      <td>13</td>\n",
       "      <td>PIB per capita</td>\n",
       "      <td>[{\"caractere\":\"PIB582\",\"tipo\":\"variavel\"},{\"ca...</td>\n",
       "      <td>None</td>\n",
       "      <td>None</td>\n",
       "      <td>None</td>\n",
       "      <td>False</td>\n",
       "      <td>3</td>\n",
       "      <td>2019-01-30 15:40:38.830537</td>\n",
       "      <td>t010001</td>\n",
       "      <td>1</td>\n",
       "      <td>None</td>\n",
       "      <td>None</td>\n",
       "      <td>None</td>\n",
       "      <td>None</td>\n",
       "      <td>None</td>\n",
       "      <td>None</td>\n",
       "      <td>None</td>\n",
       "      <td>None</td>\n",
       "      <td>True</td>\n",
       "    </tr>\n",
       "    <tr>\n",
       "      <th>1</th>\n",
       "      <td>7</td>\n",
       "      <td>TEste de exclusão</td>\n",
       "      <td>[{\"caractere\":\"FdÔC882\",\"tipo\":\"variavel\"},{\"c...</td>\n",
       "      <td>None</td>\n",
       "      <td>None</td>\n",
       "      <td>None</td>\n",
       "      <td>True</td>\n",
       "      <td>3</td>\n",
       "      <td>2019-01-25 15:38:17.590074</td>\n",
       "      <td>t010001</td>\n",
       "      <td>2</td>\n",
       "      <td>None</td>\n",
       "      <td>None</td>\n",
       "      <td>None</td>\n",
       "      <td>None</td>\n",
       "      <td>None</td>\n",
       "      <td>None</td>\n",
       "      <td>None</td>\n",
       "      <td>None</td>\n",
       "      <td>True</td>\n",
       "    </tr>\n",
       "    <tr>\n",
       "      <th>2</th>\n",
       "      <td>1</td>\n",
       "      <td>Porcentagem da população com deficiência menta...</td>\n",
       "      <td>[{\"caractere\":\"(\",\"tipo\":\"agregador\"},{\"caract...</td>\n",
       "      <td>Porcentagem da população com deficiência menta...</td>\n",
       "      <td>SALVAR IXXXXXXX</td>\n",
       "      <td>Na contagem da população com deficiência, foi ...</td>\n",
       "      <td>True</td>\n",
       "      <td>3</td>\n",
       "      <td>2019-01-24 10:37:49.389301</td>\n",
       "      <td>t010001</td>\n",
       "      <td>1</td>\n",
       "      <td>None</td>\n",
       "      <td>None</td>\n",
       "      <td>None</td>\n",
       "      <td>None</td>\n",
       "      <td>None</td>\n",
       "      <td>None</td>\n",
       "      <td>None</td>\n",
       "      <td>None</td>\n",
       "      <td>True</td>\n",
       "    </tr>\n",
       "    <tr>\n",
       "      <th>3</th>\n",
       "      <td>5</td>\n",
       "      <td>TEste de exclusão</td>\n",
       "      <td>[{\"caractere\":\"FdÔC882\",\"tipo\":\"variavel\"},{\"c...</td>\n",
       "      <td>None</td>\n",
       "      <td>None</td>\n",
       "      <td>None</td>\n",
       "      <td>False</td>\n",
       "      <td>3</td>\n",
       "      <td>2019-01-25 13:40:50.882457</td>\n",
       "      <td>t010001</td>\n",
       "      <td>1</td>\n",
       "      <td>None</td>\n",
       "      <td>None</td>\n",
       "      <td>None</td>\n",
       "      <td>None</td>\n",
       "      <td>None</td>\n",
       "      <td>None</td>\n",
       "      <td>None</td>\n",
       "      <td>None</td>\n",
       "      <td>True</td>\n",
       "    </tr>\n",
       "    <tr>\n",
       "      <th>4</th>\n",
       "      <td>6</td>\n",
       "      <td>TEste de exclusão</td>\n",
       "      <td>[{\"caractere\":\"FdÔC882\",\"tipo\":\"variavel\"},{\"c...</td>\n",
       "      <td>None</td>\n",
       "      <td>None</td>\n",
       "      <td>None</td>\n",
       "      <td>False</td>\n",
       "      <td>3</td>\n",
       "      <td>2019-01-25 15:36:10.068724</td>\n",
       "      <td>t010001</td>\n",
       "      <td>1</td>\n",
       "      <td>None</td>\n",
       "      <td>None</td>\n",
       "      <td>None</td>\n",
       "      <td>None</td>\n",
       "      <td>None</td>\n",
       "      <td>None</td>\n",
       "      <td>None</td>\n",
       "      <td>None</td>\n",
       "      <td>True</td>\n",
       "    </tr>\n",
       "  </tbody>\n",
       "</table>\n",
       "</div>"
      ],
      "text/plain": [
       "  cd_indicador                                       nm_indicador  \\\n",
       "0           13                                     PIB per capita   \n",
       "1            7                                  TEste de exclusão   \n",
       "2            1  Porcentagem da população com deficiência menta...   \n",
       "3            5                                  TEste de exclusão   \n",
       "4            6                                  TEste de exclusão   \n",
       "\n",
       "                                dc_formula_indicador  \\\n",
       "0  [{\"caractere\":\"PIB582\",\"tipo\":\"variavel\"},{\"ca...   \n",
       "1  [{\"caractere\":\"FdÔC882\",\"tipo\":\"variavel\"},{\"c...   \n",
       "2  [{\"caractere\":\"(\",\"tipo\":\"agregador\"},{\"caract...   \n",
       "3  [{\"caractere\":\"FdÔC882\",\"tipo\":\"variavel\"},{\"c...   \n",
       "4  [{\"caractere\":\"FdÔC882\",\"tipo\":\"variavel\"},{\"c...   \n",
       "\n",
       "                               dc_conceito_indicador  \\\n",
       "0                                               None   \n",
       "1                                               None   \n",
       "2  Porcentagem da população com deficiência menta...   \n",
       "3                                               None   \n",
       "4                                               None   \n",
       "\n",
       "  dc_interpretacao_indicador  \\\n",
       "0                       None   \n",
       "1                       None   \n",
       "2            SALVAR IXXXXXXX   \n",
       "3                       None   \n",
       "4                       None   \n",
       "\n",
       "                                     dc_nota_tecnica  in_visibilidade  \\\n",
       "0                                               None            False   \n",
       "1                                               None             True   \n",
       "2  Na contagem da população com deficiência, foi ...             True   \n",
       "3                                               None            False   \n",
       "4                                               None            False   \n",
       "\n",
       "   cd_tipo_situacao             dt_atualizacao cd_operador  \\\n",
       "0                 3 2019-01-30 15:40:38.830537     t010001   \n",
       "1                 3 2019-01-25 15:38:17.590074     t010001   \n",
       "2                 3 2019-01-24 10:37:49.389301     t010001   \n",
       "3                 3 2019-01-25 13:40:50.882457     t010001   \n",
       "4                 3 2019-01-25 15:36:10.068724     t010001   \n",
       "\n",
       "   cd_tipo_unidade_medida cd_fonte nm_completo_indicador  \\\n",
       "0                       1     None                  None   \n",
       "1                       2     None                  None   \n",
       "2                       1     None                  None   \n",
       "3                       1     None                  None   \n",
       "4                       1     None                  None   \n",
       "\n",
       "  dc_periodicidade_indicador dc_unidade_territorial dc_serie_historica  \\\n",
       "0                       None                   None               None   \n",
       "1                       None                   None               None   \n",
       "2                       None                   None               None   \n",
       "3                       None                   None               None   \n",
       "4                       None                   None               None   \n",
       "\n",
       "  dc_tag_indicador dc_observacao_indicador tx_fonte_indicador  \\\n",
       "0             None                    None               None   \n",
       "1             None                    None               None   \n",
       "2             None                    None               None   \n",
       "3             None                    None               None   \n",
       "4             None                    None               None   \n",
       "\n",
       "   in_consideracao_regiao  \n",
       "0                    True  \n",
       "1                    True  \n",
       "2                    True  \n",
       "3                    True  \n",
       "4                    True  "
      ]
     },
     "execution_count": 6,
     "metadata": {},
     "output_type": "execute_result"
    }
   ],
   "source": [
    "indi.head()"
   ]
  },
  {
   "cell_type": "code",
   "execution_count": 7,
   "id": "791d2326-71c6-4d8e-996b-7ce7550626ce",
   "metadata": {},
   "outputs": [],
   "source": [
    "#filtrando ativos\n",
    "indi=indi[indi['cd_tipo_situacao']==1].reset_index(drop=True)"
   ]
  },
  {
   "cell_type": "code",
   "execution_count": 8,
   "id": "f2e043f9-2104-4929-b944-2b4015d2189c",
   "metadata": {},
   "outputs": [],
   "source": [
    "def padronizar_periodicidade(serie:str):\n",
    "    \n",
    "    if serie is None:\n",
    "        return None\n",
    "    \n",
    "    mapper = {\n",
    "        #como os dados sao anuais, mensal atual como se fosse anual\n",
    "        'mensal' : 1,\n",
    "        'anual' : 1,\n",
    "        'bienal' : 2,\n",
    "        'quinquenal' : 5,\n",
    "        'decenal' : 10,\n",
    "    }\n",
    "    \n",
    "    for key, val in mapper.items():\n",
    "        if key in serie.lower():\n",
    "            return val\n",
    "    else:\n",
    "        return None"
   ]
  },
  {
   "cell_type": "code",
   "execution_count": 9,
   "id": "ce16bfd7-1689-4aaf-b0c0-7c379495ac1e",
   "metadata": {},
   "outputs": [],
   "source": [
    "indi['periodicidade_padrao'] = indi['dc_periodicidade_indicador'].apply(padronizar_periodicidade)"
   ]
  },
  {
   "cell_type": "code",
   "execution_count": 10,
   "id": "5b990d18-205e-431d-bf7d-30a3fdc00b9f",
   "metadata": {},
   "outputs": [
    {
     "data": {
      "text/plain": [
       "<AxesSubplot: >"
      ]
     },
     "execution_count": 10,
     "metadata": {},
     "output_type": "execute_result"
    },
    {
     "data": {
      "image/png": "[encoded data removed]",
      "text/plain": [
       "<Figure size 640x480 with 1 Axes>"
      ]
     },
     "metadata": {},
     "output_type": "display_data"
    }
   ],
   "source": [
    "indi['periodicidade_padrao'].value_counts(normalize=True).plot.bar()"
   ]
  },
  {
   "cell_type": "code",
   "execution_count": 11,
   "id": "7a866701-ce92-4782-a95b-0f6ce22f74ea",
   "metadata": {},
   "outputs": [
    {
     "data": {
      "text/plain": [
       "0.04252199413489736"
      ]
     },
     "execution_count": 11,
     "metadata": {},
     "output_type": "execute_result"
    }
   ],
   "source": [
    "indi['periodicidade_padrao'].isnull().mean()"
   ]
  },
  {
   "cell_type": "code",
   "execution_count": 12,
   "id": "b476bf24-3109-4866-80d0-fc9817267044",
   "metadata": {},
   "outputs": [
    {
     "data": {
      "text/html": [
       "<div>\n",
       "<style scoped>\n",
       "    .dataframe tbody tr th:only-of-type {\n",
       "        vertical-align: middle;\n",
       "    }\n",
       "\n",
       "    .dataframe tbody tr th {\n",
       "        vertical-align: top;\n",
       "    }\n",
       "\n",
       "    .dataframe thead th {\n",
       "        text-align: right;\n",
       "    }\n",
       "</style>\n",
       "<table border=\"1\" class=\"dataframe\">\n",
       "  <thead>\n",
       "    <tr style=\"text-align: right;\">\n",
       "      <th></th>\n",
       "      <th>periodicidade_padrao</th>\n",
       "      <th>dc_periodicidade_indicador</th>\n",
       "    </tr>\n",
       "  </thead>\n",
       "  <tbody>\n",
       "    <tr>\n",
       "      <th>55</th>\n",
       "      <td>NaN</td>\n",
       "      <td>None</td>\n",
       "    </tr>\n",
       "    <tr>\n",
       "      <th>67</th>\n",
       "      <td>NaN</td>\n",
       "      <td>Varia.</td>\n",
       "    </tr>\n",
       "    <tr>\n",
       "      <th>136</th>\n",
       "      <td>NaN</td>\n",
       "      <td>Indefinido.</td>\n",
       "    </tr>\n",
       "    <tr>\n",
       "      <th>599</th>\n",
       "      <td>NaN</td>\n",
       "      <td>Depende</td>\n",
       "    </tr>\n",
       "  </tbody>\n",
       "</table>\n",
       "</div>"
      ],
      "text/plain": [
       "     periodicidade_padrao dc_periodicidade_indicador\n",
       "55                    NaN                       None\n",
       "67                    NaN                     Varia.\n",
       "136                   NaN                Indefinido.\n",
       "599                   NaN                    Depende"
      ]
     },
     "execution_count": 12,
     "metadata": {},
     "output_type": "execute_result"
    }
   ],
   "source": [
    "indi[indi['periodicidade_padrao'].isnull()][['periodicidade_padrao', 'dc_periodicidade_indicador']].drop_duplicates()"
   ]
  },
  {
   "cell_type": "code",
   "execution_count": 13,
   "id": "b64ba4c7-5647-43a9-a3d8-9c87d68a4bf1",
   "metadata": {},
   "outputs": [
    {
     "data": {
      "text/plain": [
       "array(['Início: 2013 - Término: 2014', 'Inicio: 2006 - atualmente',\n",
       "       'Início: 2016 - Atualmente.', 'início: 2008 - atualmente',\n",
       "       'Início: 2018 - Atualmente', 'Início: 2013 - atualmente',\n",
       "       'Início: 2006 - 2015', 'Inicio: 2014 - atualmente',\n",
       "       'Início: 2010 - atualmente', '2018', 'Início; 2010 - Atualmente',\n",
       "       'Início: 2012 - atualmente', 'Início: 2013 - Atualmente.',\n",
       "       'Início: 2015 - Atualmente', 'Início: 2015 - Atualmente.',\n",
       "       'Início: 2000/2010 - atualmente', 'Início: 2011 - atualmente',\n",
       "       'Início: 2009 - atualmente', 'Início: 2006 - Atualmente',\n",
       "       '2000 e 2010', 'Início: 2000 - Atualmente.',\n",
       "       'Início: 2003 - Atualmente.', '2010', 'Início: 2008 - Atualmente',\n",
       "       'Início: 1996 - Atualmente', 'Início: 2016 - Atualmente',\n",
       "       'Início: 2005 - atualmente', 'Início: 2005 - Atualmente',\n",
       "       'Início: 2012 - Atualmente', 'Início: 2011 - Atualmente',\n",
       "       'Inicio: 2012 - atualmente', 'Início: 2008 - atual',\n",
       "       'Início: 2015 - atualmente', 'Inicio: 2013 - Término: 2014',\n",
       "       '2020 - Atualmente', 'Início: 2003 - Atualmente',\n",
       "       'Início: 2006 - Atualmente.', 'Início: 2000 - atualmente',\n",
       "       'início: 2000 - atualmente.', 'Início: 2017 - Atualmente.',\n",
       "       'Início: 2000 - Atualmente', 'Início: 2002 - Atualmente.',\n",
       "       '2016 - atualmente', 'Início: 2019 - atualmente', '2017.',\n",
       "       'Início: 2015 - atual', None, 'Início: 2018 - atualmente',\n",
       "       'Início: 2010 - 2013 - 2015 - 2020', 'Inicio - 2017 - atualmente',\n",
       "       'Início: 2009 - Atualmente', 'Início: 2019 - Atualmente',\n",
       "       'Início: 2012 - Término: 2018', 'Início: 2002 - Término: 2018',\n",
       "       'Início: 2018 - Atualmente.', 'Início: 2002 - atualmente', '2020.',\n",
       "       'início: 2015 - Atualmente', 'Início: 2007 - atualmente',\n",
       "       '2010, 2013, 2015, 2020', '2016.', 'Início: 2010 - Atualmente.',\n",
       "       'Início: 2008 - atualmente', 'Inicio: 2008 - Atualmente',\n",
       "       'Início: 2000 - Término: 2010', 'Início: 2006 - atualmente',\n",
       "       '2017', 'Início: 2017 - Atualmente', 'Início: 2016 - atualmente',\n",
       "       'Início: 2014 - atualmente', 'Início: 2010 - Atualmente',\n",
       "       'Início: 2009  - Atualmente', 'Ínicio: 2016 - Atualmente',\n",
       "       'Início: 2007 - Atualmente.', 'início: 2002 - atualmente',\n",
       "       'início 2006-atualmente', 'início: 2006 - atualmente\\r\\n',\n",
       "       'Início: 2016 - Término: 2017', 'início: 2006 - atualmente',\n",
       "       'início: 2002 - atualmente\\r\\n', 'início: 1997 - atualmente',\n",
       "       'Início: 2006 - Término: 2016', 'Inicio 2017 - atualmente',\n",
       "       'Início: 2006 - atualmente\\r\\n', 'Inicio: 2000 - Atualmente',\n",
       "       '2020', 'Início: 2010; 2021-atualmente',\n",
       "       'Início: 2017 - atualmente', 'Início: 2003 - atualmente',\n",
       "       'início: 2014 - atualmente', '2018.', 'início: 2005 - atualmente',\n",
       "       '2017 - Atualmente', '2018 - atualmente', '2018 - Atualmente',\n",
       "       'Início: 2020 - atualmente', 'Início: 2021 - atualmente',\n",
       "       'Início: 2021 - Atualmente', 'Início: 2020 - Atualmente',\n",
       "       'Início: 2013 - Atualmente', 'Inicio: 2010 - atualmente',\n",
       "       'Início: 2012 - 2016', '2016; 2020 - Atualmente.',\n",
       "       'Início: 01/2016; 01/2019 - atualmente',\n",
       "       'Início: 2008 - Atualmente\\r\\n', 'Início: 2008 – atualmente',\n",
       "       'Início: 2006 - Atual', 'Início: 2003 – Atualmente',\n",
       "       'Início: 2003 – atualmente', 'Início: 2019',\n",
       "       'Inicio: 2016 - atualmente', '2013 e 2017',\n",
       "       'Início: 2000 - atualmente.', 'Início: 2015 - Atualmente ',\n",
       "       'Início: 2013 - Término: 2016', 'Início: 2006 - atualmente.',\n",
       "       'Início: 2006 - Término: 2006; Início: 2008 - Término: 2008; Início: 2012 - Término: 2018',\n",
       "       'Início: 2007 - término: 2017', 'Início: 2018 - atual',\n",
       "       'Início: 2020 - atual', 'Início: 2017.',\n",
       "       'Início: 2002 - Atualmente', 'Início: 2018 - Atualmente ',\n",
       "       'Inicio: 2013 - atualmente', 'Início: 2014 - Atualmente',\n",
       "       'Inicio: 2018 - atualmente', 'Início: 2001 - atualmente',\n",
       "       'Início: 2009 - atualmente ', '2021.',\n",
       "       'Início: 2017 - Atualmente ', 'Início: 2000 - Término: 2019',\n",
       "       'Inicio: 2015 - Atualmente', 'Início: 2006 - 2021'], dtype=object)"
      ]
     },
     "execution_count": 13,
     "metadata": {},
     "output_type": "execute_result"
    }
   ],
   "source": [
    "indi['dc_serie_historica'].unique()"
   ]
  },
  {
   "cell_type": "code",
   "execution_count": 14,
   "id": "da2e847e-9539-4b9b-b88f-f35fc363e20d",
   "metadata": {},
   "outputs": [],
   "source": [
    "def pegar_termino(serie:str):\n",
    "    \n",
    "    pat = re.compile(r'\\d{4}$')\n",
    "    \n",
    "    match = re.search(pat, serie)\n",
    "    if match:\n",
    "        return int(match.group())\n",
    "    return None"
   ]
  },
  {
   "cell_type": "code",
   "execution_count": 15,
   "id": "52015aac-cda8-4778-ba19-d7ecfb156037",
   "metadata": {},
   "outputs": [],
   "source": [
    "def padronizar_serie_historica(serie:str):\n",
    "    \n",
    "    if serie is None:\n",
    "        return None\n",
    "    \n",
    "    serie = serie.lower().replace('.', '').strip()\n",
    "    if 'atual' in serie:\n",
    "        return datetime.datetime.today().year\n",
    "    \n",
    "    termino = pegar_termino(serie)\n",
    "    if termino:\n",
    "        return termino\n",
    "    \n",
    "    return serie"
   ]
  },
  {
   "cell_type": "code",
   "execution_count": 16,
   "id": "268449b5-e2b2-4ba6-af9a-0c346fca9e55",
   "metadata": {},
   "outputs": [
    {
     "name": "stdout",
     "output_type": "stream",
     "text": [
      "2014.0\n",
      "2023.0\n",
      "2015.0\n",
      "2018.0\n",
      "2010.0\n",
      "2017.0\n",
      "nan\n",
      "2020.0\n",
      "2016.0\n",
      "2019.0\n",
      "2021.0\n"
     ]
    }
   ],
   "source": [
    "print('\\n'.join([str(item) for item in indi['dc_serie_historica'].apply(padronizar_serie_historica).unique()]))"
   ]
  },
  {
   "cell_type": "code",
   "execution_count": 17,
   "id": "d44c0249-a232-450e-8d3b-57a8219051e1",
   "metadata": {},
   "outputs": [],
   "source": [
    "indi['final_serie_historica_padrao'] = indi['dc_serie_historica'].apply(padronizar_serie_historica)"
   ]
  },
  {
   "cell_type": "code",
   "execution_count": 18,
   "id": "cae79e65-5d5d-48cd-9e75-db3ce9a0c7fc",
   "metadata": {},
   "outputs": [
    {
     "data": {
      "text/plain": [
       "<AxesSubplot: >"
      ]
     },
     "execution_count": 18,
     "metadata": {},
     "output_type": "execute_result"
    },
    {
     "data": {
      "image/png": "[encoded data removed]",
      "text/plain": [
       "<Figure size 640x480 with 1 Axes>"
      ]
     },
     "metadata": {},
     "output_type": "display_data"
    }
   ],
   "source": [
    "indi['final_serie_historica_padrao'].value_counts(normalize=True).plot.bar()"
   ]
  },
  {
   "cell_type": "code",
   "execution_count": 19,
   "id": "45c20e61-f78b-4964-8ede-25e0bfd76a05",
   "metadata": {},
   "outputs": [],
   "source": [
    "def ano_final(row):\n",
    "    \n",
    "    return row['final_serie_historica_padrao'] - row['periodicidade_padrao']"
   ]
  },
  {
   "cell_type": "code",
   "execution_count": 20,
   "id": "f37c007a-de61-4675-a2b9-acc45e6690e4",
   "metadata": {},
   "outputs": [],
   "source": [
    "indi['ano_atualizacao'] = indi.apply(ano_final, axis=1)"
   ]
  },
  {
   "cell_type": "code",
   "execution_count": 21,
   "id": "23f3ca44-0e3b-41ea-adf3-5832f0a4c563",
   "metadata": {},
   "outputs": [
    {
     "data": {
      "text/plain": [
       "0.04252199413489736"
      ]
     },
     "execution_count": 21,
     "metadata": {},
     "output_type": "execute_result"
    }
   ],
   "source": [
    "indi['ano_atualizacao'].isna().mean()"
   ]
  },
  {
   "cell_type": "code",
   "execution_count": 22,
   "id": "5c9736dd-0ae5-4e81-8684-4fe2f5aea03a",
   "metadata": {},
   "outputs": [
    {
     "data": {
      "text/plain": [
       "<AxesSubplot: >"
      ]
     },
     "execution_count": 22,
     "metadata": {},
     "output_type": "execute_result"
    },
    {
     "data": {
      "image/png": "[encoded data removed]",
      "text/plain": [
       "<Figure size 640x480 with 1 Axes>"
      ]
     },
     "metadata": {},
     "output_type": "display_data"
    }
   ],
   "source": [
    "indi['ano_atualizacao'].value_counts(normalize=True).plot.bar()"
   ]
  },
  {
   "cell_type": "code",
   "execution_count": 23,
   "id": "a4977e21-2503-44ad-a97b-26846170c9c1",
   "metadata": {},
   "outputs": [],
   "source": [
    "results = q('indicador_resultado', limit=None)"
   ]
  },
  {
   "cell_type": "code",
   "execution_count": 24,
   "id": "02d7d59b-fd09-491e-9aa7-f4c0813cf7f5",
   "metadata": {},
   "outputs": [
    {
     "data": {
      "text/html": [
       "<div>\n",
       "<style scoped>\n",
       "    .dataframe tbody tr th:only-of-type {\n",
       "        vertical-align: middle;\n",
       "    }\n",
       "\n",
       "    .dataframe tbody tr th {\n",
       "        vertical-align: top;\n",
       "    }\n",
       "\n",
       "    .dataframe thead th {\n",
       "        text-align: right;\n",
       "    }\n",
       "</style>\n",
       "<table border=\"1\" class=\"dataframe\">\n",
       "  <thead>\n",
       "    <tr style=\"text-align: right;\">\n",
       "      <th></th>\n",
       "      <th>cd_sequencia_indicador_resultado</th>\n",
       "      <th>cd_regiao</th>\n",
       "      <th>cd_periodo</th>\n",
       "      <th>cd_indicador</th>\n",
       "      <th>cd_tipo_situacao</th>\n",
       "      <th>cd_tipo_origem</th>\n",
       "      <th>vl_indicador_resultado</th>\n",
       "      <th>dt_atualizacao</th>\n",
       "      <th>cd_operador</th>\n",
       "    </tr>\n",
       "  </thead>\n",
       "  <tbody>\n",
       "    <tr>\n",
       "      <th>0</th>\n",
       "      <td>172463</td>\n",
       "      <td>166</td>\n",
       "      <td>24</td>\n",
       "      <td>268</td>\n",
       "      <td>3</td>\n",
       "      <td>3</td>\n",
       "      <td>11.2701</td>\n",
       "      <td>2019-11-14 16:43:56.359080</td>\n",
       "      <td>SJ2234</td>\n",
       "    </tr>\n",
       "    <tr>\n",
       "      <th>1</th>\n",
       "      <td>172464</td>\n",
       "      <td>167</td>\n",
       "      <td>24</td>\n",
       "      <td>268</td>\n",
       "      <td>3</td>\n",
       "      <td>3</td>\n",
       "      <td>5.7747</td>\n",
       "      <td>2019-11-14 16:43:56.437323</td>\n",
       "      <td>SJ2234</td>\n",
       "    </tr>\n",
       "    <tr>\n",
       "      <th>2</th>\n",
       "      <td>172465</td>\n",
       "      <td>168</td>\n",
       "      <td>24</td>\n",
       "      <td>268</td>\n",
       "      <td>3</td>\n",
       "      <td>3</td>\n",
       "      <td>17.1576</td>\n",
       "      <td>2019-11-14 16:43:56.499687</td>\n",
       "      <td>SJ2234</td>\n",
       "    </tr>\n",
       "    <tr>\n",
       "      <th>3</th>\n",
       "      <td>172466</td>\n",
       "      <td>169</td>\n",
       "      <td>24</td>\n",
       "      <td>268</td>\n",
       "      <td>3</td>\n",
       "      <td>3</td>\n",
       "      <td>7.1408</td>\n",
       "      <td>2019-11-14 16:43:56.577823</td>\n",
       "      <td>SJ2234</td>\n",
       "    </tr>\n",
       "    <tr>\n",
       "      <th>4</th>\n",
       "      <td>172467</td>\n",
       "      <td>170</td>\n",
       "      <td>24</td>\n",
       "      <td>268</td>\n",
       "      <td>3</td>\n",
       "      <td>3</td>\n",
       "      <td>0.0000</td>\n",
       "      <td>2019-11-14 16:43:56.655951</td>\n",
       "      <td>SJ2234</td>\n",
       "    </tr>\n",
       "  </tbody>\n",
       "</table>\n",
       "</div>"
      ],
      "text/plain": [
       "   cd_sequencia_indicador_resultado cd_regiao cd_periodo cd_indicador  \\\n",
       "0                            172463       166         24          268   \n",
       "1                            172464       167         24          268   \n",
       "2                            172465       168         24          268   \n",
       "3                            172466       169         24          268   \n",
       "4                            172467       170         24          268   \n",
       "\n",
       "   cd_tipo_situacao cd_tipo_origem vl_indicador_resultado  \\\n",
       "0                 3              3                11.2701   \n",
       "1                 3              3                 5.7747   \n",
       "2                 3              3                17.1576   \n",
       "3                 3              3                 7.1408   \n",
       "4                 3              3                 0.0000   \n",
       "\n",
       "              dt_atualizacao cd_operador  \n",
       "0 2019-11-14 16:43:56.359080      SJ2234  \n",
       "1 2019-11-14 16:43:56.437323      SJ2234  \n",
       "2 2019-11-14 16:43:56.499687      SJ2234  \n",
       "3 2019-11-14 16:43:56.577823      SJ2234  \n",
       "4 2019-11-14 16:43:56.655951      SJ2234  "
      ]
     },
     "execution_count": 24,
     "metadata": {},
     "output_type": "execute_result"
    }
   ],
   "source": [
    "results.head()"
   ]
  },
  {
   "cell_type": "code",
   "execution_count": 25,
   "id": "a0e0625c-7529-48b2-8dae-6dadbaa112d6",
   "metadata": {},
   "outputs": [],
   "source": [
    "results = results[results['cd_tipo_situacao']==1].reset_index(drop=True)"
   ]
  },
  {
   "cell_type": "code",
   "execution_count": 26,
   "id": "b6c4419c-538b-4b44-a2c4-0a82bddd3132",
   "metadata": {},
   "outputs": [],
   "source": [
    "periodos = q('periodo', limit=None)"
   ]
  },
  {
   "cell_type": "code",
   "execution_count": 27,
   "id": "b8bd4592-ea14-4b06-8472-cdfbd50ded97",
   "metadata": {},
   "outputs": [
    {
     "data": {
      "text/html": [
       "<div>\n",
       "<style scoped>\n",
       "    .dataframe tbody tr th:only-of-type {\n",
       "        vertical-align: middle;\n",
       "    }\n",
       "\n",
       "    .dataframe tbody tr th {\n",
       "        vertical-align: top;\n",
       "    }\n",
       "\n",
       "    .dataframe thead th {\n",
       "        text-align: right;\n",
       "    }\n",
       "</style>\n",
       "<table border=\"1\" class=\"dataframe\">\n",
       "  <thead>\n",
       "    <tr style=\"text-align: right;\">\n",
       "      <th></th>\n",
       "      <th>cd_periodo</th>\n",
       "      <th>vl_periodo</th>\n",
       "      <th>cd_tipo_periodo</th>\n",
       "      <th>cd_tipo_situacao</th>\n",
       "      <th>dt_atualizacao</th>\n",
       "      <th>cd_operador</th>\n",
       "    </tr>\n",
       "  </thead>\n",
       "  <tbody>\n",
       "    <tr>\n",
       "      <th>0</th>\n",
       "      <td>1</td>\n",
       "      <td>1980</td>\n",
       "      <td>1</td>\n",
       "      <td>1</td>\n",
       "      <td>2018-01-01 00:00:00.000000</td>\n",
       "      <td>SJ2234</td>\n",
       "    </tr>\n",
       "    <tr>\n",
       "      <th>1</th>\n",
       "      <td>2</td>\n",
       "      <td>1981</td>\n",
       "      <td>1</td>\n",
       "      <td>1</td>\n",
       "      <td>2018-01-01 00:00:00.000000</td>\n",
       "      <td>SJ2234</td>\n",
       "    </tr>\n",
       "    <tr>\n",
       "      <th>2</th>\n",
       "      <td>3</td>\n",
       "      <td>1982</td>\n",
       "      <td>1</td>\n",
       "      <td>1</td>\n",
       "      <td>2019-04-10 15:35:55.000020</td>\n",
       "      <td>t010001</td>\n",
       "    </tr>\n",
       "    <tr>\n",
       "      <th>3</th>\n",
       "      <td>4</td>\n",
       "      <td>1983</td>\n",
       "      <td>1</td>\n",
       "      <td>1</td>\n",
       "      <td>2019-04-10 15:35:55.000030</td>\n",
       "      <td>t010001</td>\n",
       "    </tr>\n",
       "    <tr>\n",
       "      <th>4</th>\n",
       "      <td>5</td>\n",
       "      <td>1984</td>\n",
       "      <td>1</td>\n",
       "      <td>1</td>\n",
       "      <td>2019-04-10 15:35:55.000040</td>\n",
       "      <td>t010001</td>\n",
       "    </tr>\n",
       "  </tbody>\n",
       "</table>\n",
       "</div>"
      ],
      "text/plain": [
       "  cd_periodo vl_periodo  cd_tipo_periodo  cd_tipo_situacao  \\\n",
       "0          1       1980                1                 1   \n",
       "1          2       1981                1                 1   \n",
       "2          3       1982                1                 1   \n",
       "3          4       1983                1                 1   \n",
       "4          5       1984                1                 1   \n",
       "\n",
       "              dt_atualizacao cd_operador  \n",
       "0 2018-01-01 00:00:00.000000      SJ2234  \n",
       "1 2018-01-01 00:00:00.000000      SJ2234  \n",
       "2 2019-04-10 15:35:55.000020     t010001  \n",
       "3 2019-04-10 15:35:55.000030     t010001  \n",
       "4 2019-04-10 15:35:55.000040     t010001  "
      ]
     },
     "execution_count": 27,
     "metadata": {},
     "output_type": "execute_result"
    }
   ],
   "source": [
    "periodos.head()"
   ]
  },
  {
   "cell_type": "code",
   "execution_count": 28,
   "id": "ab9d3d8e-ad7d-4100-a399-472e138356c8",
   "metadata": {},
   "outputs": [
    {
     "data": {
      "text/plain": [
       "'2030'"
      ]
     },
     "execution_count": 28,
     "metadata": {},
     "output_type": "execute_result"
    }
   ],
   "source": [
    "periodos.vl_periodo.max()"
   ]
  },
  {
   "cell_type": "code",
   "execution_count": 29,
   "id": "67a7d4b0-6a59-4fc7-9148-8ec77ec14416",
   "metadata": {},
   "outputs": [
    {
     "data": {
      "text/plain": [
       "array([1], dtype=int64)"
      ]
     },
     "execution_count": 29,
     "metadata": {},
     "output_type": "execute_result"
    }
   ],
   "source": [
    "periodos['cd_tipo_periodo'].unique()"
   ]
  },
  {
   "cell_type": "code",
   "execution_count": 30,
   "id": "80f04290-2731-43d0-a91c-5ffd6e8c401d",
   "metadata": {},
   "outputs": [],
   "source": [
    "periodos = periodos[periodos['cd_tipo_situacao']==1].reset_index(drop=True)"
   ]
  },
  {
   "cell_type": "code",
   "execution_count": 31,
   "id": "d1da630a-fdb5-4728-8c41-7bced9366fd7",
   "metadata": {},
   "outputs": [],
   "source": [
    "mapper_periodos = dict(zip(periodos['cd_periodo'].astype(int), periodos['vl_periodo'].astype(int)))"
   ]
  },
  {
   "cell_type": "code",
   "execution_count": 32,
   "id": "c1b4a9fe-18d0-4885-9646-cd1a2198d8c5",
   "metadata": {},
   "outputs": [
    {
     "data": {
      "text/plain": [
       "dtype('O')"
      ]
     },
     "execution_count": 32,
     "metadata": {},
     "output_type": "execute_result"
    }
   ],
   "source": [
    "results['cd_periodo'].dtype"
   ]
  },
  {
   "cell_type": "code",
   "execution_count": 33,
   "id": "ba2806a6-24e2-4dd1-b5a2-2c176997e582",
   "metadata": {},
   "outputs": [],
   "source": [
    "results['ano'] = results['cd_periodo'].astype(int).apply(lambda x: mapper_periodos.get(x))"
   ]
  },
  {
   "cell_type": "code",
   "execution_count": 34,
   "id": "e2796b81-fa84-442e-9ad3-3905dcb9e732",
   "metadata": {},
   "outputs": [
    {
     "data": {
      "text/plain": [
       "array([2009, 2010, 2016, 2015, 2018, 2017, 2008, 2011, 2012, 2006, 2013,\n",
       "       2007, 2014, 2005, 2004, 2001, 2002, 2003, 2019, 2000, 2021, 2020,\n",
       "       1991, 2022, 1999, 1998, 1997, 1996], dtype=int64)"
      ]
     },
     "execution_count": 34,
     "metadata": {},
     "output_type": "execute_result"
    }
   ],
   "source": [
    "results['ano'].unique()"
   ]
  },
  {
   "cell_type": "code",
   "execution_count": 35,
   "id": "c52f884d-1569-474d-975f-4df7c8a42dd9",
   "metadata": {},
   "outputs": [
    {
     "data": {
      "text/plain": [
       "0.0"
      ]
     },
     "execution_count": 35,
     "metadata": {},
     "output_type": "execute_result"
    }
   ],
   "source": [
    "results['ano'].isnull().mean()"
   ]
  },
  {
   "cell_type": "code",
   "execution_count": 36,
   "id": "787795a3-b71d-4a50-9de7-38eb6b321770",
   "metadata": {},
   "outputs": [],
   "source": [
    "cols_results = ['cd_indicador', 'ano']"
   ]
  },
  {
   "cell_type": "code",
   "execution_count": 37,
   "id": "c99f0c97-e0e4-4e40-bd42-7630002ff3cd",
   "metadata": {},
   "outputs": [],
   "source": [
    "results_indi = results[cols_results]"
   ]
  },
  {
   "cell_type": "code",
   "execution_count": 38,
   "id": "e6aeda9e-e821-4769-ab95-dd98848654a9",
   "metadata": {},
   "outputs": [],
   "source": [
    "results_indi = results_indi.sort_values(by='ano')"
   ]
  },
  {
   "cell_type": "code",
   "execution_count": 39,
   "id": "d234f6e9-e343-4b64-88a2-d8e9a6602b13",
   "metadata": {},
   "outputs": [
    {
     "data": {
      "text/html": [
       "<div>\n",
       "<style scoped>\n",
       "    .dataframe tbody tr th:only-of-type {\n",
       "        vertical-align: middle;\n",
       "    }\n",
       "\n",
       "    .dataframe tbody tr th {\n",
       "        vertical-align: top;\n",
       "    }\n",
       "\n",
       "    .dataframe thead th {\n",
       "        text-align: right;\n",
       "    }\n",
       "</style>\n",
       "<table border=\"1\" class=\"dataframe\">\n",
       "  <thead>\n",
       "    <tr style=\"text-align: right;\">\n",
       "      <th></th>\n",
       "      <th>cd_indicador</th>\n",
       "      <th>ano</th>\n",
       "    </tr>\n",
       "  </thead>\n",
       "  <tbody>\n",
       "    <tr>\n",
       "      <th>14977</th>\n",
       "      <td>399</td>\n",
       "      <td>1991</td>\n",
       "    </tr>\n",
       "    <tr>\n",
       "      <th>128943</th>\n",
       "      <td>19</td>\n",
       "      <td>1996</td>\n",
       "    </tr>\n",
       "    <tr>\n",
       "      <th>128937</th>\n",
       "      <td>19</td>\n",
       "      <td>1996</td>\n",
       "    </tr>\n",
       "    <tr>\n",
       "      <th>128936</th>\n",
       "      <td>19</td>\n",
       "      <td>1996</td>\n",
       "    </tr>\n",
       "    <tr>\n",
       "      <th>128935</th>\n",
       "      <td>19</td>\n",
       "      <td>1996</td>\n",
       "    </tr>\n",
       "  </tbody>\n",
       "</table>\n",
       "</div>"
      ],
      "text/plain": [
       "       cd_indicador   ano\n",
       "14977           399  1991\n",
       "128943           19  1996\n",
       "128937           19  1996\n",
       "128936           19  1996\n",
       "128935           19  1996"
      ]
     },
     "execution_count": 39,
     "metadata": {},
     "output_type": "execute_result"
    }
   ],
   "source": [
    "results_indi.head()"
   ]
  },
  {
   "cell_type": "code",
   "execution_count": 40,
   "id": "96544458-cc78-4487-bda9-01f1eff47025",
   "metadata": {},
   "outputs": [],
   "source": [
    "results_indi = results_indi.drop_duplicates(keep='first')"
   ]
  },
  {
   "cell_type": "code",
   "execution_count": 41,
   "id": "8adcd285-1b74-4238-a8d2-f77229881fe0",
   "metadata": {},
   "outputs": [
    {
     "data": {
      "text/html": [
       "<div>\n",
       "<style scoped>\n",
       "    .dataframe tbody tr th:only-of-type {\n",
       "        vertical-align: middle;\n",
       "    }\n",
       "\n",
       "    .dataframe tbody tr th {\n",
       "        vertical-align: top;\n",
       "    }\n",
       "\n",
       "    .dataframe thead th {\n",
       "        text-align: right;\n",
       "    }\n",
       "</style>\n",
       "<table border=\"1\" class=\"dataframe\">\n",
       "  <thead>\n",
       "    <tr style=\"text-align: right;\">\n",
       "      <th></th>\n",
       "      <th>cd_indicador</th>\n",
       "      <th>ano</th>\n",
       "    </tr>\n",
       "  </thead>\n",
       "  <tbody>\n",
       "    <tr>\n",
       "      <th>14977</th>\n",
       "      <td>399</td>\n",
       "      <td>1991</td>\n",
       "    </tr>\n",
       "    <tr>\n",
       "      <th>128943</th>\n",
       "      <td>19</td>\n",
       "      <td>1996</td>\n",
       "    </tr>\n",
       "    <tr>\n",
       "      <th>97841</th>\n",
       "      <td>19</td>\n",
       "      <td>1997</td>\n",
       "    </tr>\n",
       "    <tr>\n",
       "      <th>100537</th>\n",
       "      <td>766</td>\n",
       "      <td>1997</td>\n",
       "    </tr>\n",
       "    <tr>\n",
       "      <th>100511</th>\n",
       "      <td>765</td>\n",
       "      <td>1997</td>\n",
       "    </tr>\n",
       "  </tbody>\n",
       "</table>\n",
       "</div>"
      ],
      "text/plain": [
       "       cd_indicador   ano\n",
       "14977           399  1991\n",
       "128943           19  1996\n",
       "97841            19  1997\n",
       "100537          766  1997\n",
       "100511          765  1997"
      ]
     },
     "execution_count": 41,
     "metadata": {},
     "output_type": "execute_result"
    }
   ],
   "source": [
    "results_indi.head()"
   ]
  },
  {
   "cell_type": "code",
   "execution_count": 42,
   "id": "fcf211f9-5238-4ddc-9b65-a80f82476ab2",
   "metadata": {},
   "outputs": [],
   "source": [
    "mapper_ultimo_result = dict(zip(results_indi['cd_indicador'].astype(int), results_indi['ano']))"
   ]
  },
  {
   "cell_type": "code",
   "execution_count": 43,
   "id": "2a200ff7-59ea-46e1-b2a1-cb7b6f68de34",
   "metadata": {},
   "outputs": [],
   "source": [
    "indi['ano_ultimo_resultado'] = indi['cd_indicador'].apply(lambda x: mapper_ultimo_result.get(x))"
   ]
  },
  {
   "cell_type": "code",
   "execution_count": 44,
   "id": "8cc8df2d-0bb1-4590-8a12-4fdeb78e8d0a",
   "metadata": {},
   "outputs": [
    {
     "data": {
      "text/plain": [
       "0.0"
      ]
     },
     "execution_count": 44,
     "metadata": {},
     "output_type": "execute_result"
    }
   ],
   "source": [
    "indi['ano_ultimo_resultado'].isnull().mean()"
   ]
  },
  {
   "cell_type": "code",
   "execution_count": 45,
   "id": "7053b76d-8639-4625-8689-4adb77a4f7a9",
   "metadata": {},
   "outputs": [
    {
     "data": {
      "text/plain": [
       "<AxesSubplot: >"
      ]
     },
     "execution_count": 45,
     "metadata": {},
     "output_type": "execute_result"
    },
    {
     "data": {
      "image/png": "[encoded data removed]",
      "text/plain": [
       "<Figure size 640x480 with 1 Axes>"
      ]
     },
     "metadata": {},
     "output_type": "display_data"
    }
   ],
   "source": [
    "indi['ano_ultimo_resultado'].value_counts(normalize=True).plot.bar()"
   ]
  },
  {
   "cell_type": "code",
   "execution_count": 46,
   "id": "f4c55144-829c-4951-a637-08395243237a",
   "metadata": {},
   "outputs": [
    {
     "data": {
      "text/plain": [
       "Index(['cd_indicador', 'nm_indicador', 'dc_formula_indicador',\n",
       "       'dc_conceito_indicador', 'dc_interpretacao_indicador',\n",
       "       'dc_nota_tecnica', 'in_visibilidade', 'cd_tipo_situacao',\n",
       "       'dt_atualizacao', 'cd_operador', 'cd_tipo_unidade_medida', 'cd_fonte',\n",
       "       'nm_completo_indicador', 'dc_periodicidade_indicador',\n",
       "       'dc_unidade_territorial', 'dc_serie_historica', 'dc_tag_indicador',\n",
       "       'dc_observacao_indicador', 'tx_fonte_indicador',\n",
       "       'in_consideracao_regiao', 'periodicidade_padrao',\n",
       "       'final_serie_historica_padrao', 'ano_atualizacao',\n",
       "       'ano_ultimo_resultado'],\n",
       "      dtype='object')"
      ]
     },
     "execution_count": 46,
     "metadata": {},
     "output_type": "execute_result"
    }
   ],
   "source": [
    "indi.columns"
   ]
  },
  {
   "cell_type": "code",
   "execution_count": 47,
   "id": "b39bb252-4052-4344-a2eb-dfabca9021a1",
   "metadata": {},
   "outputs": [],
   "source": [
    "cols_final = ['nm_indicador', \n",
    "              'dt_atualizacao', \n",
    "              'tx_fonte_indicador',\n",
    "              'dc_periodicidade_indicador', \n",
    "              'dc_serie_historica', \n",
    "              'periodicidade_padrao', \n",
    "              'final_serie_historica_padrao', \n",
    "              'ano_atualizacao', \n",
    "              'ano_ultimo_resultado'\n",
    "             ]"
   ]
  },
  {
   "cell_type": "code",
   "execution_count": 48,
   "id": "d25e269a-5f64-4fe5-9a5a-4bbc116af680",
   "metadata": {},
   "outputs": [],
   "source": [
    "indi = indi[cols_final].copy()"
   ]
  },
  {
   "cell_type": "code",
   "execution_count": 49,
   "id": "9a17cc3d-56f0-4bae-8e02-7c35e864623c",
   "metadata": {},
   "outputs": [
    {
     "data": {
      "text/html": [
       "<div>\n",
       "<style scoped>\n",
       "    .dataframe tbody tr th:only-of-type {\n",
       "        vertical-align: middle;\n",
       "    }\n",
       "\n",
       "    .dataframe tbody tr th {\n",
       "        vertical-align: top;\n",
       "    }\n",
       "\n",
       "    .dataframe thead th {\n",
       "        text-align: right;\n",
       "    }\n",
       "</style>\n",
       "<table border=\"1\" class=\"dataframe\">\n",
       "  <thead>\n",
       "    <tr style=\"text-align: right;\">\n",
       "      <th></th>\n",
       "      <th>nm_indicador</th>\n",
       "      <th>dt_atualizacao</th>\n",
       "      <th>tx_fonte_indicador</th>\n",
       "      <th>dc_periodicidade_indicador</th>\n",
       "      <th>dc_serie_historica</th>\n",
       "      <th>periodicidade_padrao</th>\n",
       "      <th>final_serie_historica_padrao</th>\n",
       "      <th>ano_atualizacao</th>\n",
       "      <th>ano_ultimo_resultado</th>\n",
       "    </tr>\n",
       "  </thead>\n",
       "  <tbody>\n",
       "    <tr>\n",
       "      <th>0</th>\n",
       "      <td>Jovens encaminhados por serviços públicos de i...</td>\n",
       "      <td>2023-10-31 15:33:37.272957</td>\n",
       "      <td>Secretaria Municipal de Desenvolvimento Econôm...</td>\n",
       "      <td>Anual</td>\n",
       "      <td>Início: 2013 - Término: 2014</td>\n",
       "      <td>1.0</td>\n",
       "      <td>2014.0</td>\n",
       "      <td>2013.0</td>\n",
       "      <td>2014</td>\n",
       "    </tr>\n",
       "    <tr>\n",
       "      <th>1</th>\n",
       "      <td>04.02.04 Alunos por turma da pré-escola da red...</td>\n",
       "      <td>2023-11-01 10:01:29.968742</td>\n",
       "      <td>Secretaria Municipal da Educação (SME)</td>\n",
       "      <td>Anual</td>\n",
       "      <td>Inicio: 2006 - atualmente</td>\n",
       "      <td>1.0</td>\n",
       "      <td>2023.0</td>\n",
       "      <td>2022.0</td>\n",
       "      <td>2022</td>\n",
       "    </tr>\n",
       "    <tr>\n",
       "      <th>2</th>\n",
       "      <td>Diferença de horas semanais de trabalho domést...</td>\n",
       "      <td>2022-12-28 16:45:45.681903</td>\n",
       "      <td>Pesquisa Nacional por Amostra de Domicílios (P...</td>\n",
       "      <td>Anual.</td>\n",
       "      <td>Início: 2016 - Atualmente.</td>\n",
       "      <td>1.0</td>\n",
       "      <td>2023.0</td>\n",
       "      <td>2022.0</td>\n",
       "      <td>2022</td>\n",
       "    </tr>\n",
       "    <tr>\n",
       "      <th>3</th>\n",
       "      <td>Número de servidores municipais ativos</td>\n",
       "      <td>2022-11-25 09:32:20.967282</td>\n",
       "      <td>Secretaria Municipal de Gestão (SEGES)</td>\n",
       "      <td>anual</td>\n",
       "      <td>início: 2008 - atualmente</td>\n",
       "      <td>1.0</td>\n",
       "      <td>2023.0</td>\n",
       "      <td>2022.0</td>\n",
       "      <td>2022</td>\n",
       "    </tr>\n",
       "    <tr>\n",
       "      <th>4</th>\n",
       "      <td>17.17.04 Número de Contratos com o Terceiro Setor</td>\n",
       "      <td>2022-11-25 09:32:03.342098</td>\n",
       "      <td>Secretaria Municipal de Gestão (SEGES)</td>\n",
       "      <td>Anual</td>\n",
       "      <td>Início: 2018 - Atualmente</td>\n",
       "      <td>1.0</td>\n",
       "      <td>2023.0</td>\n",
       "      <td>2022.0</td>\n",
       "      <td>2021</td>\n",
       "    </tr>\n",
       "  </tbody>\n",
       "</table>\n",
       "</div>"
      ],
      "text/plain": [
       "                                        nm_indicador  \\\n",
       "0  Jovens encaminhados por serviços públicos de i...   \n",
       "1  04.02.04 Alunos por turma da pré-escola da red...   \n",
       "2  Diferença de horas semanais de trabalho domést...   \n",
       "3             Número de servidores municipais ativos   \n",
       "4  17.17.04 Número de Contratos com o Terceiro Setor   \n",
       "\n",
       "              dt_atualizacao  \\\n",
       "0 2023-10-31 15:33:37.272957   \n",
       "1 2023-11-01 10:01:29.968742   \n",
       "2 2022-12-28 16:45:45.681903   \n",
       "3 2022-11-25 09:32:20.967282   \n",
       "4 2022-11-25 09:32:03.342098   \n",
       "\n",
       "                                  tx_fonte_indicador  \\\n",
       "0  Secretaria Municipal de Desenvolvimento Econôm...   \n",
       "1             Secretaria Municipal da Educação (SME)   \n",
       "2  Pesquisa Nacional por Amostra de Domicílios (P...   \n",
       "3             Secretaria Municipal de Gestão (SEGES)   \n",
       "4             Secretaria Municipal de Gestão (SEGES)   \n",
       "\n",
       "  dc_periodicidade_indicador            dc_serie_historica  \\\n",
       "0                      Anual  Início: 2013 - Término: 2014   \n",
       "1                      Anual     Inicio: 2006 - atualmente   \n",
       "2                     Anual.    Início: 2016 - Atualmente.   \n",
       "3                      anual     início: 2008 - atualmente   \n",
       "4                      Anual     Início: 2018 - Atualmente   \n",
       "\n",
       "   periodicidade_padrao  final_serie_historica_padrao  ano_atualizacao  \\\n",
       "0                   1.0                        2014.0           2013.0   \n",
       "1                   1.0                        2023.0           2022.0   \n",
       "2                   1.0                        2023.0           2022.0   \n",
       "3                   1.0                        2023.0           2022.0   \n",
       "4                   1.0                        2023.0           2022.0   \n",
       "\n",
       "   ano_ultimo_resultado  \n",
       "0                  2014  \n",
       "1                  2022  \n",
       "2                  2022  \n",
       "3                  2022  \n",
       "4                  2021  "
      ]
     },
     "execution_count": 49,
     "metadata": {},
     "output_type": "execute_result"
    }
   ],
   "source": [
    "indi.head()"
   ]
  },
  {
   "cell_type": "code",
   "execution_count": 50,
   "id": "48c0372a-4b7b-4fdd-aca3-3771c9c17fe2",
   "metadata": {},
   "outputs": [],
   "source": [
    "indi.rename({'periodicidade_padrao' : 'delay_anos'}, axis=1, inplace=True)"
   ]
  },
  {
   "cell_type": "code",
   "execution_count": 51,
   "id": "2e84bdf0-12c9-4f57-aacd-8c14c8f07a38",
   "metadata": {},
   "outputs": [
    {
     "data": {
      "text/html": [
       "<div>\n",
       "<style scoped>\n",
       "    .dataframe tbody tr th:only-of-type {\n",
       "        vertical-align: middle;\n",
       "    }\n",
       "\n",
       "    .dataframe tbody tr th {\n",
       "        vertical-align: top;\n",
       "    }\n",
       "\n",
       "    .dataframe thead th {\n",
       "        text-align: right;\n",
       "    }\n",
       "</style>\n",
       "<table border=\"1\" class=\"dataframe\">\n",
       "  <thead>\n",
       "    <tr style=\"text-align: right;\">\n",
       "      <th></th>\n",
       "      <th>nm_indicador</th>\n",
       "      <th>dt_atualizacao</th>\n",
       "      <th>tx_fonte_indicador</th>\n",
       "      <th>dc_periodicidade_indicador</th>\n",
       "      <th>dc_serie_historica</th>\n",
       "      <th>delay_anos</th>\n",
       "      <th>final_serie_historica_padrao</th>\n",
       "      <th>ano_atualizacao</th>\n",
       "      <th>ano_ultimo_resultado</th>\n",
       "    </tr>\n",
       "  </thead>\n",
       "  <tbody>\n",
       "    <tr>\n",
       "      <th>0</th>\n",
       "      <td>Jovens encaminhados por serviços públicos de i...</td>\n",
       "      <td>2023-10-31 15:33:37.272957</td>\n",
       "      <td>Secretaria Municipal de Desenvolvimento Econôm...</td>\n",
       "      <td>Anual</td>\n",
       "      <td>Início: 2013 - Término: 2014</td>\n",
       "      <td>1.0</td>\n",
       "      <td>2014.0</td>\n",
       "      <td>2013.0</td>\n",
       "      <td>2014</td>\n",
       "    </tr>\n",
       "    <tr>\n",
       "      <th>1</th>\n",
       "      <td>04.02.04 Alunos por turma da pré-escola da red...</td>\n",
       "      <td>2023-11-01 10:01:29.968742</td>\n",
       "      <td>Secretaria Municipal da Educação (SME)</td>\n",
       "      <td>Anual</td>\n",
       "      <td>Inicio: 2006 - atualmente</td>\n",
       "      <td>1.0</td>\n",
       "      <td>2023.0</td>\n",
       "      <td>2022.0</td>\n",
       "      <td>2022</td>\n",
       "    </tr>\n",
       "    <tr>\n",
       "      <th>2</th>\n",
       "      <td>Diferença de horas semanais de trabalho domést...</td>\n",
       "      <td>2022-12-28 16:45:45.681903</td>\n",
       "      <td>Pesquisa Nacional por Amostra de Domicílios (P...</td>\n",
       "      <td>Anual.</td>\n",
       "      <td>Início: 2016 - Atualmente.</td>\n",
       "      <td>1.0</td>\n",
       "      <td>2023.0</td>\n",
       "      <td>2022.0</td>\n",
       "      <td>2022</td>\n",
       "    </tr>\n",
       "    <tr>\n",
       "      <th>3</th>\n",
       "      <td>Número de servidores municipais ativos</td>\n",
       "      <td>2022-11-25 09:32:20.967282</td>\n",
       "      <td>Secretaria Municipal de Gestão (SEGES)</td>\n",
       "      <td>anual</td>\n",
       "      <td>início: 2008 - atualmente</td>\n",
       "      <td>1.0</td>\n",
       "      <td>2023.0</td>\n",
       "      <td>2022.0</td>\n",
       "      <td>2022</td>\n",
       "    </tr>\n",
       "    <tr>\n",
       "      <th>4</th>\n",
       "      <td>17.17.04 Número de Contratos com o Terceiro Setor</td>\n",
       "      <td>2022-11-25 09:32:03.342098</td>\n",
       "      <td>Secretaria Municipal de Gestão (SEGES)</td>\n",
       "      <td>Anual</td>\n",
       "      <td>Início: 2018 - Atualmente</td>\n",
       "      <td>1.0</td>\n",
       "      <td>2023.0</td>\n",
       "      <td>2022.0</td>\n",
       "      <td>2021</td>\n",
       "    </tr>\n",
       "  </tbody>\n",
       "</table>\n",
       "</div>"
      ],
      "text/plain": [
       "                                        nm_indicador  \\\n",
       "0  Jovens encaminhados por serviços públicos de i...   \n",
       "1  04.02.04 Alunos por turma da pré-escola da red...   \n",
       "2  Diferença de horas semanais de trabalho domést...   \n",
       "3             Número de servidores municipais ativos   \n",
       "4  17.17.04 Número de Contratos com o Terceiro Setor   \n",
       "\n",
       "              dt_atualizacao  \\\n",
       "0 2023-10-31 15:33:37.272957   \n",
       "1 2023-11-01 10:01:29.968742   \n",
       "2 2022-12-28 16:45:45.681903   \n",
       "3 2022-11-25 09:32:20.967282   \n",
       "4 2022-11-25 09:32:03.342098   \n",
       "\n",
       "                                  tx_fonte_indicador  \\\n",
       "0  Secretaria Municipal de Desenvolvimento Econôm...   \n",
       "1             Secretaria Municipal da Educação (SME)   \n",
       "2  Pesquisa Nacional por Amostra de Domicílios (P...   \n",
       "3             Secretaria Municipal de Gestão (SEGES)   \n",
       "4             Secretaria Municipal de Gestão (SEGES)   \n",
       "\n",
       "  dc_periodicidade_indicador            dc_serie_historica  delay_anos  \\\n",
       "0                      Anual  Início: 2013 - Término: 2014         1.0   \n",
       "1                      Anual     Inicio: 2006 - atualmente         1.0   \n",
       "2                     Anual.    Início: 2016 - Atualmente.         1.0   \n",
       "3                      anual     início: 2008 - atualmente         1.0   \n",
       "4                      Anual     Início: 2018 - Atualmente         1.0   \n",
       "\n",
       "   final_serie_historica_padrao  ano_atualizacao  ano_ultimo_resultado  \n",
       "0                        2014.0           2013.0                  2014  \n",
       "1                        2023.0           2022.0                  2022  \n",
       "2                        2023.0           2022.0                  2022  \n",
       "3                        2023.0           2022.0                  2022  \n",
       "4                        2023.0           2022.0                  2021  "
      ]
     },
     "execution_count": 51,
     "metadata": {},
     "output_type": "execute_result"
    }
   ],
   "source": [
    "indi.head()"
   ]
  },
  {
   "cell_type": "code",
   "execution_count": 52,
   "id": "300e5132-d249-4e6b-8d0c-b1c296ad38fd",
   "metadata": {},
   "outputs": [],
   "source": [
    "indi['atualizado'] = indi['ano_ultimo_resultado'] >= indi['ano_atualizacao']"
   ]
  },
  {
   "cell_type": "code",
   "execution_count": 53,
   "id": "4f6a1d7b-8978-47ac-b65f-0d7f60860726",
   "metadata": {},
   "outputs": [
    {
     "data": {
      "text/plain": [
       "0.5469208211143695"
      ]
     },
     "execution_count": 53,
     "metadata": {},
     "output_type": "execute_result"
    }
   ],
   "source": [
    "indi['atualizado'].mean()"
   ]
  },
  {
   "cell_type": "code",
   "execution_count": 54,
   "id": "e3fc079c-a7f4-441d-999d-65a84a6bbe7b",
   "metadata": {},
   "outputs": [],
   "source": [
    "desatualizados = indi[~indi['atualizado']].reset_index(drop=True)"
   ]
  },
  {
   "cell_type": "code",
   "execution_count": 55,
   "id": "65a54c1b-83b0-4be7-89c4-901117b7ba13",
   "metadata": {},
   "outputs": [
    {
     "data": {
      "text/html": [
       "<div>\n",
       "<style scoped>\n",
       "    .dataframe tbody tr th:only-of-type {\n",
       "        vertical-align: middle;\n",
       "    }\n",
       "\n",
       "    .dataframe tbody tr th {\n",
       "        vertical-align: top;\n",
       "    }\n",
       "\n",
       "    .dataframe thead th {\n",
       "        text-align: right;\n",
       "    }\n",
       "</style>\n",
       "<table border=\"1\" class=\"dataframe\">\n",
       "  <thead>\n",
       "    <tr style=\"text-align: right;\">\n",
       "      <th></th>\n",
       "      <th>nm_indicador</th>\n",
       "      <th>dt_atualizacao</th>\n",
       "      <th>tx_fonte_indicador</th>\n",
       "      <th>dc_periodicidade_indicador</th>\n",
       "      <th>dc_serie_historica</th>\n",
       "      <th>delay_anos</th>\n",
       "      <th>final_serie_historica_padrao</th>\n",
       "      <th>ano_atualizacao</th>\n",
       "      <th>ano_ultimo_resultado</th>\n",
       "      <th>atualizado</th>\n",
       "    </tr>\n",
       "  </thead>\n",
       "  <tbody>\n",
       "    <tr>\n",
       "      <th>0</th>\n",
       "      <td>17.17.04 Número de Contratos com o Terceiro Setor</td>\n",
       "      <td>2022-11-25 09:32:03.342098</td>\n",
       "      <td>Secretaria Municipal de Gestão (SEGES)</td>\n",
       "      <td>Anual</td>\n",
       "      <td>Início: 2018 - Atualmente</td>\n",
       "      <td>1.0</td>\n",
       "      <td>2023.0</td>\n",
       "      <td>2022.0</td>\n",
       "      <td>2021</td>\n",
       "      <td>False</td>\n",
       "    </tr>\n",
       "    <tr>\n",
       "      <th>1</th>\n",
       "      <td>01.03.01 Quantidade de famílias que recebem re...</td>\n",
       "      <td>2022-01-11 13:21:39.221666</td>\n",
       "      <td>Secretaria Municipal de Assistência e Desenvol...</td>\n",
       "      <td>Anual</td>\n",
       "      <td>Início: 2013 - atualmente</td>\n",
       "      <td>1.0</td>\n",
       "      <td>2023.0</td>\n",
       "      <td>2022.0</td>\n",
       "      <td>2021</td>\n",
       "      <td>False</td>\n",
       "    </tr>\n",
       "    <tr>\n",
       "      <th>2</th>\n",
       "      <td>Cobertura da vacina Pentavalente (3ª dose) em ...</td>\n",
       "      <td>2022-07-28 17:16:08.513946</td>\n",
       "      <td>API/SI-PNI / SIGA-BI / SINASC; Secretaria Muni...</td>\n",
       "      <td>Anual</td>\n",
       "      <td>Início: 2012 - atualmente</td>\n",
       "      <td>1.0</td>\n",
       "      <td>2023.0</td>\n",
       "      <td>2022.0</td>\n",
       "      <td>2021</td>\n",
       "      <td>False</td>\n",
       "    </tr>\n",
       "    <tr>\n",
       "      <th>3</th>\n",
       "      <td>17.17.01 Número de Organizações da Sociedade C...</td>\n",
       "      <td>2022-11-25 09:30:37.732013</td>\n",
       "      <td>Secretaria Municipal de Gestão (SEGES)</td>\n",
       "      <td>Anual</td>\n",
       "      <td>Início: 2015 - Atualmente</td>\n",
       "      <td>1.0</td>\n",
       "      <td>2023.0</td>\n",
       "      <td>2022.0</td>\n",
       "      <td>2021</td>\n",
       "      <td>False</td>\n",
       "    </tr>\n",
       "    <tr>\n",
       "      <th>4</th>\n",
       "      <td>12.08.02 Pessoas capacitadas por ano pela Univ...</td>\n",
       "      <td>2023-11-13 14:24:39.117502</td>\n",
       "      <td>None</td>\n",
       "      <td>Anual</td>\n",
       "      <td>Início: 2015 - Atualmente</td>\n",
       "      <td>1.0</td>\n",
       "      <td>2023.0</td>\n",
       "      <td>2022.0</td>\n",
       "      <td>2020</td>\n",
       "      <td>False</td>\n",
       "    </tr>\n",
       "    <tr>\n",
       "      <th>...</th>\n",
       "      <td>...</td>\n",
       "      <td>...</td>\n",
       "      <td>...</td>\n",
       "      <td>...</td>\n",
       "      <td>...</td>\n",
       "      <td>...</td>\n",
       "      <td>...</td>\n",
       "      <td>...</td>\n",
       "      <td>...</td>\n",
       "      <td>...</td>\n",
       "    </tr>\n",
       "    <tr>\n",
       "      <th>304</th>\n",
       "      <td>11.05.01 Áreas inundáveis do município de São ...</td>\n",
       "      <td>2022-03-07 14:31:40.422772</td>\n",
       "      <td>Secretaria Municipal de Infraestrutura Urbana ...</td>\n",
       "      <td>Anual</td>\n",
       "      <td>Início: 2016 - atualmente</td>\n",
       "      <td>1.0</td>\n",
       "      <td>2023.0</td>\n",
       "      <td>2022.0</td>\n",
       "      <td>2021</td>\n",
       "      <td>False</td>\n",
       "    </tr>\n",
       "    <tr>\n",
       "      <th>305</th>\n",
       "      <td>04.07.01 Participação em atividades de Educaçã...</td>\n",
       "      <td>2022-02-01 12:07:29.800232</td>\n",
       "      <td>Secretaria do Verde e Meio Ambiente (SVMA)</td>\n",
       "      <td>Anual</td>\n",
       "      <td>Início: 2017 - Atualmente</td>\n",
       "      <td>1.0</td>\n",
       "      <td>2023.0</td>\n",
       "      <td>2022.0</td>\n",
       "      <td>2020</td>\n",
       "      <td>False</td>\n",
       "    </tr>\n",
       "    <tr>\n",
       "      <th>306</th>\n",
       "      <td>03.03.02 Percentual de pessoas vivendo com HIV...</td>\n",
       "      <td>2022-09-09 11:23:00.959104</td>\n",
       "      <td>Ministério da Saúde (MS); Departamento de Doen...</td>\n",
       "      <td>Anual</td>\n",
       "      <td>Início: 2016 - atualmente</td>\n",
       "      <td>1.0</td>\n",
       "      <td>2023.0</td>\n",
       "      <td>2022.0</td>\n",
       "      <td>2020</td>\n",
       "      <td>False</td>\n",
       "    </tr>\n",
       "    <tr>\n",
       "      <th>307</th>\n",
       "      <td>11.07.01 Parques totalmente acessíveis (%)</td>\n",
       "      <td>2022-11-03 11:43:01.293455</td>\n",
       "      <td>Secretaria Municipal do Verde e Meio Ambiente ...</td>\n",
       "      <td>Anual</td>\n",
       "      <td>Início: 2018 - Atualmente</td>\n",
       "      <td>1.0</td>\n",
       "      <td>2023.0</td>\n",
       "      <td>2022.0</td>\n",
       "      <td>2020</td>\n",
       "      <td>False</td>\n",
       "    </tr>\n",
       "    <tr>\n",
       "      <th>308</th>\n",
       "      <td>11.02.05 Percentual do viário da cidade com in...</td>\n",
       "      <td>2022-03-21 11:59:35.138166</td>\n",
       "      <td>Secretaria Municipal de Mobilidade e Trânsito ...</td>\n",
       "      <td>Anual</td>\n",
       "      <td>Início: 2012 - atualmente</td>\n",
       "      <td>1.0</td>\n",
       "      <td>2023.0</td>\n",
       "      <td>2022.0</td>\n",
       "      <td>2021</td>\n",
       "      <td>False</td>\n",
       "    </tr>\n",
       "  </tbody>\n",
       "</table>\n",
       "<p>309 rows × 10 columns</p>\n",
       "</div>"
      ],
      "text/plain": [
       "                                          nm_indicador  \\\n",
       "0    17.17.04 Número de Contratos com o Terceiro Setor   \n",
       "1    01.03.01 Quantidade de famílias que recebem re...   \n",
       "2    Cobertura da vacina Pentavalente (3ª dose) em ...   \n",
       "3    17.17.01 Número de Organizações da Sociedade C...   \n",
       "4    12.08.02 Pessoas capacitadas por ano pela Univ...   \n",
       "..                                                 ...   \n",
       "304  11.05.01 Áreas inundáveis do município de São ...   \n",
       "305  04.07.01 Participação em atividades de Educaçã...   \n",
       "306  03.03.02 Percentual de pessoas vivendo com HIV...   \n",
       "307         11.07.01 Parques totalmente acessíveis (%)   \n",
       "308  11.02.05 Percentual do viário da cidade com in...   \n",
       "\n",
       "                dt_atualizacao  \\\n",
       "0   2022-11-25 09:32:03.342098   \n",
       "1   2022-01-11 13:21:39.221666   \n",
       "2   2022-07-28 17:16:08.513946   \n",
       "3   2022-11-25 09:30:37.732013   \n",
       "4   2023-11-13 14:24:39.117502   \n",
       "..                         ...   \n",
       "304 2022-03-07 14:31:40.422772   \n",
       "305 2022-02-01 12:07:29.800232   \n",
       "306 2022-09-09 11:23:00.959104   \n",
       "307 2022-11-03 11:43:01.293455   \n",
       "308 2022-03-21 11:59:35.138166   \n",
       "\n",
       "                                    tx_fonte_indicador  \\\n",
       "0               Secretaria Municipal de Gestão (SEGES)   \n",
       "1    Secretaria Municipal de Assistência e Desenvol...   \n",
       "2    API/SI-PNI / SIGA-BI / SINASC; Secretaria Muni...   \n",
       "3               Secretaria Municipal de Gestão (SEGES)   \n",
       "4                                                 None   \n",
       "..                                                 ...   \n",
       "304  Secretaria Municipal de Infraestrutura Urbana ...   \n",
       "305         Secretaria do Verde e Meio Ambiente (SVMA)   \n",
       "306  Ministério da Saúde (MS); Departamento de Doen...   \n",
       "307  Secretaria Municipal do Verde e Meio Ambiente ...   \n",
       "308  Secretaria Municipal de Mobilidade e Trânsito ...   \n",
       "\n",
       "    dc_periodicidade_indicador         dc_serie_historica  delay_anos  \\\n",
       "0                        Anual  Início: 2018 - Atualmente         1.0   \n",
       "1                        Anual  Início: 2013 - atualmente         1.0   \n",
       "2                        Anual  Início: 2012 - atualmente         1.0   \n",
       "3                        Anual  Início: 2015 - Atualmente         1.0   \n",
       "4                        Anual  Início: 2015 - Atualmente         1.0   \n",
       "..                         ...                        ...         ...   \n",
       "304                      Anual  Início: 2016 - atualmente         1.0   \n",
       "305                      Anual  Início: 2017 - Atualmente         1.0   \n",
       "306                      Anual  Início: 2016 - atualmente         1.0   \n",
       "307                      Anual  Início: 2018 - Atualmente         1.0   \n",
       "308                      Anual  Início: 2012 - atualmente         1.0   \n",
       "\n",
       "     final_serie_historica_padrao  ano_atualizacao  ano_ultimo_resultado  \\\n",
       "0                          2023.0           2022.0                  2021   \n",
       "1                          2023.0           2022.0                  2021   \n",
       "2                          2023.0           2022.0                  2021   \n",
       "3                          2023.0           2022.0                  2021   \n",
       "4                          2023.0           2022.0                  2020   \n",
       "..                            ...              ...                   ...   \n",
       "304                        2023.0           2022.0                  2021   \n",
       "305                        2023.0           2022.0                  2020   \n",
       "306                        2023.0           2022.0                  2020   \n",
       "307                        2023.0           2022.0                  2020   \n",
       "308                        2023.0           2022.0                  2021   \n",
       "\n",
       "     atualizado  \n",
       "0         False  \n",
       "1         False  \n",
       "2         False  \n",
       "3         False  \n",
       "4         False  \n",
       "..          ...  \n",
       "304       False  \n",
       "305       False  \n",
       "306       False  \n",
       "307       False  \n",
       "308       False  \n",
       "\n",
       "[309 rows x 10 columns]"
      ]
     },
     "execution_count": 55,
     "metadata": {},
     "output_type": "execute_result"
    }
   ],
   "source": [
    "desatualizados"
   ]
  },
  {
   "cell_type": "code",
   "execution_count": 56,
   "id": "004c9cfd-4da4-4fb9-a75d-42c42a82d3cf",
   "metadata": {},
   "outputs": [],
   "source": [
    "desatualizados['anos_desatualizado'] = desatualizados['ano_atualizacao'] - desatualizados['ano_ultimo_resultado']"
   ]
  },
  {
   "cell_type": "code",
   "execution_count": 57,
   "id": "b11ff24c-f94c-48f2-bdce-25d6f064cb81",
   "metadata": {},
   "outputs": [
    {
     "data": {
      "text/plain": [
       "<AxesSubplot: title={'center': 'Distribuição do atraso (anos) nos indicadores atrasados'}>"
      ]
     },
     "execution_count": 57,
     "metadata": {},
     "output_type": "execute_result"
    },
    {
     "data": {
      "image/png": "[encoded data removed]",
      "text/plain": [
       "<Figure size 640x480 with 1 Axes>"
      ]
     },
     "metadata": {},
     "output_type": "display_data"
    }
   ],
   "source": [
    "desatualizados['anos_desatualizado'].value_counts(normalize=True).plot.bar(title = 'Distribuição do atraso (anos) nos indicadores atrasados')"
   ]
  },
  {
   "cell_type": "code",
   "execution_count": 58,
   "id": "a4502916-5563-45ca-860e-01ca29bc7e87",
   "metadata": {},
   "outputs": [],
   "source": [
    "desatualizados.to_excel('indicadores_desatualizados_observasampa.xlsx')"
   ]
  },
  {
   "cell_type": "code",
   "execution_count": null,
   "id": "567b06e3-8fc1-4082-9c35-6d495f3a6b98",
   "metadata": {},
   "outputs": [],
   "source": []
  }
 ],
 "metadata": {
  "kernelspec": {
   "display_name": "Python 3 (ipykernel)",
   "language": "python",
   "name": "python3"
  },
  "language_info": {
   "codemirror_mode": {
    "name": "ipython",
    "version": 3
   },
   "file_extension": ".py",
   "mimetype": "text/x-python",
   "name": "python",
   "nbconvert_exporter": "python",
   "pygments_lexer": "ipython3",
   "version": "3.11.1"
  }
 },
 "nbformat": 4,
 "nbformat_minor": 5
}
