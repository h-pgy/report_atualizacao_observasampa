{
 "cells": [
  {
   "cell_type": "code",
   "execution_count": 1,
   "id": "85048fd6-3a7e-48cb-a7d2-d4d2474bd10f",
   "metadata": {},
   "outputs": [],
   "source": [
    "import pandas as pd\n",
    "import numpy as np\n",
    "from datetime import datetime\n",
    "from core.utils import load_file_generator\n",
    "from core.parse_fichas import parse_all_fichas"
   ]
  },
  {
   "cell_type": "code",
   "execution_count": 2,
   "id": "baf25c03-ce69-4c6e-9c2e-2c78c7c72589",
   "metadata": {},
   "outputs": [],
   "source": [
    "link_indicadores = 'https://observasampa.prefeitura.sp.gov.br/_temp/DadosAbertos/ObservaSampaDadosAbertosIndicadoresCSV.csv'"
   ]
  },
  {
   "cell_type": "code",
   "execution_count": 3,
   "id": "24e89e66-53ad-4cbb-80a0-2f4f5a578f09",
   "metadata": {},
   "outputs": [],
   "source": [
    "df_indicadores = pd.read_csv(link_indicadores, sep=';')"
   ]
  },
  {
   "cell_type": "code",
   "execution_count": 4,
   "id": "25544a3e-cbc1-4460-b87e-90c2510ff5df",
   "metadata": {
    "tags": []
   },
   "outputs": [],
   "source": [
    "df_indicadores.set_index(df_indicadores['Nome'], inplace=True)"
   ]
  },
  {
   "cell_type": "code",
   "execution_count": 5,
   "id": "5e863449-0187-413c-b085-33312bf61d57",
   "metadata": {},
   "outputs": [
    {
     "data": {
      "text/html": [
       "<div>\n",
       "<style scoped>\n",
       "    .dataframe tbody tr th:only-of-type {\n",
       "        vertical-align: middle;\n",
       "    }\n",
       "\n",
       "    .dataframe tbody tr th {\n",
       "        vertical-align: top;\n",
       "    }\n",
       "\n",
       "    .dataframe thead th {\n",
       "        text-align: right;\n",
       "    }\n",
       "</style>\n",
       "<table border=\"1\" class=\"dataframe\">\n",
       "  <thead>\n",
       "    <tr style=\"text-align: right;\">\n",
       "      <th></th>\n",
       "      <th>Nome</th>\n",
       "      <th>Região</th>\n",
       "      <th>Período</th>\n",
       "      <th>Resultado</th>\n",
       "    </tr>\n",
       "    <tr>\n",
       "      <th>Nome</th>\n",
       "      <th></th>\n",
       "      <th></th>\n",
       "      <th></th>\n",
       "      <th></th>\n",
       "    </tr>\n",
       "  </thead>\n",
       "  <tbody>\n",
       "    <tr>\n",
       "      <th>01.01.01 Quantidade de famílias em situação de extrema pobreza (até 1/4 salário mínimo)</th>\n",
       "      <td>01.01.01 Quantidade de famílias em situação de...</td>\n",
       "      <td>Água Rasa (Distrito)</td>\n",
       "      <td>2015</td>\n",
       "      <td>1104</td>\n",
       "    </tr>\n",
       "    <tr>\n",
       "      <th>01.01.01 Quantidade de famílias em situação de extrema pobreza (até 1/4 salário mínimo)</th>\n",
       "      <td>01.01.01 Quantidade de famílias em situação de...</td>\n",
       "      <td>Água Rasa (Distrito)</td>\n",
       "      <td>2018</td>\n",
       "      <td>1702</td>\n",
       "    </tr>\n",
       "    <tr>\n",
       "      <th>01.01.01 Quantidade de famílias em situação de extrema pobreza (até 1/4 salário mínimo)</th>\n",
       "      <td>01.01.01 Quantidade de famílias em situação de...</td>\n",
       "      <td>Água Rasa (Distrito)</td>\n",
       "      <td>2020</td>\n",
       "      <td>1500</td>\n",
       "    </tr>\n",
       "    <tr>\n",
       "      <th>01.01.01 Quantidade de famílias em situação de extrema pobreza (até 1/4 salário mínimo)</th>\n",
       "      <td>01.01.01 Quantidade de famílias em situação de...</td>\n",
       "      <td>Água Rasa (Distrito)</td>\n",
       "      <td>2013</td>\n",
       "      <td>994</td>\n",
       "    </tr>\n",
       "    <tr>\n",
       "      <th>01.01.01 Quantidade de famílias em situação de extrema pobreza (até 1/4 salário mínimo)</th>\n",
       "      <td>01.01.01 Quantidade de famílias em situação de...</td>\n",
       "      <td>Água Rasa (Distrito)</td>\n",
       "      <td>2017</td>\n",
       "      <td>1537</td>\n",
       "    </tr>\n",
       "  </tbody>\n",
       "</table>\n",
       "</div>"
      ],
      "text/plain": [
       "                                                                                                 Nome  \\\n",
       "Nome                                                                                                    \n",
       "01.01.01 Quantidade de famílias em situação de ...  01.01.01 Quantidade de famílias em situação de...   \n",
       "01.01.01 Quantidade de famílias em situação de ...  01.01.01 Quantidade de famílias em situação de...   \n",
       "01.01.01 Quantidade de famílias em situação de ...  01.01.01 Quantidade de famílias em situação de...   \n",
       "01.01.01 Quantidade de famílias em situação de ...  01.01.01 Quantidade de famílias em situação de...   \n",
       "01.01.01 Quantidade de famílias em situação de ...  01.01.01 Quantidade de famílias em situação de...   \n",
       "\n",
       "                                                                  Região  \\\n",
       "Nome                                                                       \n",
       "01.01.01 Quantidade de famílias em situação de ...  Água Rasa (Distrito)   \n",
       "01.01.01 Quantidade de famílias em situação de ...  Água Rasa (Distrito)   \n",
       "01.01.01 Quantidade de famílias em situação de ...  Água Rasa (Distrito)   \n",
       "01.01.01 Quantidade de famílias em situação de ...  Água Rasa (Distrito)   \n",
       "01.01.01 Quantidade de famílias em situação de ...  Água Rasa (Distrito)   \n",
       "\n",
       "                                                    Período Resultado  \n",
       "Nome                                                                   \n",
       "01.01.01 Quantidade de famílias em situação de ...     2015      1104  \n",
       "01.01.01 Quantidade de famílias em situação de ...     2018      1702  \n",
       "01.01.01 Quantidade de famílias em situação de ...     2020      1500  \n",
       "01.01.01 Quantidade de famílias em situação de ...     2013       994  \n",
       "01.01.01 Quantidade de famílias em situação de ...     2017      1537  "
      ]
     },
     "execution_count": 5,
     "metadata": {},
     "output_type": "execute_result"
    }
   ],
   "source": [
    "df_indicadores.head()"
   ]
  },
  {
   "cell_type": "code",
   "execution_count": 6,
   "id": "94a62738-fa73-4f10-ac7c-287a680a8633",
   "metadata": {},
   "outputs": [],
   "source": [
    "df_fichas = parse_all_fichas()"
   ]
  },
  {
   "cell_type": "code",
   "execution_count": 7,
   "id": "2423b40f-f4df-4efd-ba95-fbc9a3fdfe9d",
   "metadata": {},
   "outputs": [
    {
     "data": {
      "text/html": [
       "<div>\n",
       "<style scoped>\n",
       "    .dataframe tbody tr th:only-of-type {\n",
       "        vertical-align: middle;\n",
       "    }\n",
       "\n",
       "    .dataframe tbody tr th {\n",
       "        vertical-align: top;\n",
       "    }\n",
       "\n",
       "    .dataframe thead th {\n",
       "        text-align: right;\n",
       "    }\n",
       "</style>\n",
       "<table border=\"1\" class=\"dataframe\">\n",
       "  <thead>\n",
       "    <tr style=\"text-align: right;\">\n",
       "      <th></th>\n",
       "      <th>nome_do_indicador</th>\n",
       "      <th>descricao_de_indicador</th>\n",
       "      <th>tema_(s)</th>\n",
       "      <th>formula_de_calculo_(em_texto)</th>\n",
       "      <th>periodicidade</th>\n",
       "      <th>unidades_territoriais</th>\n",
       "      <th>serie_historica_disponivel</th>\n",
       "      <th>fonte</th>\n",
       "      <th>original_file</th>\n",
       "      <th>sucess</th>\n",
       "      <th>informacoes_tecnicas</th>\n",
       "      <th>observacoes</th>\n",
       "      <th>interpretacao_basica</th>\n",
       "    </tr>\n",
       "  </thead>\n",
       "  <tbody>\n",
       "    <tr>\n",
       "      <th>0</th>\n",
       "      <td>11.02.06 Percentual do viário da cidade com in...</td>\n",
       "      <td>Mede em porcentagem a parte do viário dedicada...</td>\n",
       "      <td>Mobilidade e Segurança no Trânsito,ODS São Paulo</td>\n",
       "      <td>( Faixas exclusivas de ônibus implantadas (km)...</td>\n",
       "      <td>Anual</td>\n",
       "      <td>Município</td>\n",
       "      <td>Início: 2014 - atualmente</td>\n",
       "      <td>Secretaria Municipal de Mobilidade e Trânsito ...</td>\n",
       "      <td>/home/h-pgy/Desktop/Projetos/report_atualizaca...</td>\n",
       "      <td>True</td>\n",
       "      <td>NaN</td>\n",
       "      <td>NaN</td>\n",
       "      <td>NaN</td>\n",
       "    </tr>\n",
       "    <tr>\n",
       "      <th>1</th>\n",
       "      <td>16.07.01 Número de Consultas Públicas feitas p...</td>\n",
       "      <td>Mede a quantidade de Consultas Públicas realiz...</td>\n",
       "      <td>Gestão Pública,ODS São Paulo</td>\n",
       "      <td>Consultas Participe +</td>\n",
       "      <td>Anual</td>\n",
       "      <td>Município</td>\n",
       "      <td>2020</td>\n",
       "      <td>Secretaria do Governo Municipal (SGM)</td>\n",
       "      <td>/home/h-pgy/Desktop/Projetos/report_atualizaca...</td>\n",
       "      <td>True</td>\n",
       "      <td>Considera-se Consulta Pública a submissão de p...</td>\n",
       "      <td>NaN</td>\n",
       "      <td>NaN</td>\n",
       "    </tr>\n",
       "    <tr>\n",
       "      <th>2</th>\n",
       "      <td>15.01.06 Unidades de Conservação – Planos de M...</td>\n",
       "      <td>Indicador representa a proporção de unidades d...</td>\n",
       "      <td>Meio Ambiente,ODS São Paulo</td>\n",
       "      <td>( Unidades de Conservação com plano de manejo ...</td>\n",
       "      <td>Anual</td>\n",
       "      <td>Município</td>\n",
       "      <td>Início: 2018 - atual</td>\n",
       "      <td>Secretaria Municipal do Verde e do Meio Ambien...</td>\n",
       "      <td>/home/h-pgy/Desktop/Projetos/report_atualizaca...</td>\n",
       "      <td>True</td>\n",
       "      <td>Considera as Unidades de Conservação municipai...</td>\n",
       "      <td>NaN</td>\n",
       "      <td>NaN</td>\n",
       "    </tr>\n",
       "    <tr>\n",
       "      <th>3</th>\n",
       "      <td>Taxa de ocorrências registradas de roubos (por...</td>\n",
       "      <td>Expressa o total de ocorrências de roubos na c...</td>\n",
       "      <td>Segurança e Violência</td>\n",
       "      <td>( Registros de roubos\\n        \\n         DIVI...</td>\n",
       "      <td>Anual</td>\n",
       "      <td>Município</td>\n",
       "      <td>Início: 2000 - atualmente</td>\n",
       "      <td>Fundação Sistema Estadual de Análise de Dados ...</td>\n",
       "      <td>/home/h-pgy/Desktop/Projetos/report_atualizaca...</td>\n",
       "      <td>True</td>\n",
       "      <td>O indicador a quantidade de ocorrências de rou...</td>\n",
       "      <td>NaN</td>\n",
       "      <td>NaN</td>\n",
       "    </tr>\n",
       "    <tr>\n",
       "      <th>4</th>\n",
       "      <td>03.06.08 Participação dos caminhões nos aciden...</td>\n",
       "      <td>Percentual da participação dos caminhões nos a...</td>\n",
       "      <td>Mobilidade e Segurança no Trânsito,ODS São Paulo</td>\n",
       "      <td>( Número de caminhões envolvidos em acidentes ...</td>\n",
       "      <td>Anual</td>\n",
       "      <td>Município</td>\n",
       "      <td>2020</td>\n",
       "      <td>Companhia de Engenharia de Tráfego (CET); Secr...</td>\n",
       "      <td>/home/h-pgy/Desktop/Projetos/report_atualizaca...</td>\n",
       "      <td>True</td>\n",
       "      <td>NaN</td>\n",
       "      <td>NaN</td>\n",
       "      <td>NaN</td>\n",
       "    </tr>\n",
       "  </tbody>\n",
       "</table>\n",
       "</div>"
      ],
      "text/plain": [
       "                                   nome_do_indicador  \\\n",
       "0  11.02.06 Percentual do viário da cidade com in...   \n",
       "1  16.07.01 Número de Consultas Públicas feitas p...   \n",
       "2  15.01.06 Unidades de Conservação – Planos de M...   \n",
       "3  Taxa de ocorrências registradas de roubos (por...   \n",
       "4  03.06.08 Participação dos caminhões nos aciden...   \n",
       "\n",
       "                              descricao_de_indicador  \\\n",
       "0  Mede em porcentagem a parte do viário dedicada...   \n",
       "1  Mede a quantidade de Consultas Públicas realiz...   \n",
       "2  Indicador representa a proporção de unidades d...   \n",
       "3  Expressa o total de ocorrências de roubos na c...   \n",
       "4  Percentual da participação dos caminhões nos a...   \n",
       "\n",
       "                                           tema_(s)  \\\n",
       "0  Mobilidade e Segurança no Trânsito,ODS São Paulo   \n",
       "1                      Gestão Pública,ODS São Paulo   \n",
       "2                       Meio Ambiente,ODS São Paulo   \n",
       "3                             Segurança e Violência   \n",
       "4  Mobilidade e Segurança no Trânsito,ODS São Paulo   \n",
       "\n",
       "                       formula_de_calculo_(em_texto) periodicidade  \\\n",
       "0  ( Faixas exclusivas de ônibus implantadas (km)...         Anual   \n",
       "1                              Consultas Participe +         Anual   \n",
       "2  ( Unidades de Conservação com plano de manejo ...         Anual   \n",
       "3  ( Registros de roubos\\n        \\n         DIVI...         Anual   \n",
       "4  ( Número de caminhões envolvidos em acidentes ...         Anual   \n",
       "\n",
       "  unidades_territoriais serie_historica_disponivel  \\\n",
       "0             Município  Início: 2014 - atualmente   \n",
       "1             Município                       2020   \n",
       "2             Município       Início: 2018 - atual   \n",
       "3             Município  Início: 2000 - atualmente   \n",
       "4             Município                       2020   \n",
       "\n",
       "                                               fonte  \\\n",
       "0  Secretaria Municipal de Mobilidade e Trânsito ...   \n",
       "1              Secretaria do Governo Municipal (SGM)   \n",
       "2  Secretaria Municipal do Verde e do Meio Ambien...   \n",
       "3  Fundação Sistema Estadual de Análise de Dados ...   \n",
       "4  Companhia de Engenharia de Tráfego (CET); Secr...   \n",
       "\n",
       "                                       original_file  sucess  \\\n",
       "0  /home/h-pgy/Desktop/Projetos/report_atualizaca...    True   \n",
       "1  /home/h-pgy/Desktop/Projetos/report_atualizaca...    True   \n",
       "2  /home/h-pgy/Desktop/Projetos/report_atualizaca...    True   \n",
       "3  /home/h-pgy/Desktop/Projetos/report_atualizaca...    True   \n",
       "4  /home/h-pgy/Desktop/Projetos/report_atualizaca...    True   \n",
       "\n",
       "                                informacoes_tecnicas observacoes  \\\n",
       "0                                                NaN         NaN   \n",
       "1  Considera-se Consulta Pública a submissão de p...         NaN   \n",
       "2  Considera as Unidades de Conservação municipai...         NaN   \n",
       "3  O indicador a quantidade de ocorrências de rou...         NaN   \n",
       "4                                                NaN         NaN   \n",
       "\n",
       "  interpretacao_basica  \n",
       "0                  NaN  \n",
       "1                  NaN  \n",
       "2                  NaN  \n",
       "3                  NaN  \n",
       "4                  NaN  "
      ]
     },
     "execution_count": 7,
     "metadata": {},
     "output_type": "execute_result"
    }
   ],
   "source": [
    "df_fichas.head()"
   ]
  },
  {
   "cell_type": "code",
   "execution_count": 8,
   "id": "c48c03d3-d4cb-4eae-961f-22f0eb74114c",
   "metadata": {},
   "outputs": [],
   "source": [
    "df_fichas = df_fichas[df_fichas['sucess']].copy().reset_index(drop=True)"
   ]
  },
  {
   "cell_type": "code",
   "execution_count": 9,
   "id": "1dab9906-177b-46cc-8bc1-55bbdbecb65e",
   "metadata": {},
   "outputs": [],
   "source": [
    "def find_ultima_atualizacao(nome_indi, df_indicadores):\n",
    "    try:\n",
    "        dados_indi = df_indicadores.loc[nome_indi]\n",
    "\n",
    "        return dados_indi['Período'].max()\n",
    "    except KeyError:\n",
    "        try:\n",
    "            dados_indi = df_indicadores.loc[nome_indi+' ']\n",
    "\n",
    "            return dados_indi['Período'].max()\n",
    "        except KeyError:\n",
    "            return np.NaN"
   ]
  },
  {
   "cell_type": "code",
   "execution_count": 10,
   "id": "b31eb20e-c4fb-4c11-8963-da870c9d1716",
   "metadata": {},
   "outputs": [],
   "source": [
    "df_fichas['ultima_atualizacao'] = df_fichas['nome_do_indicador'].apply(lambda x: find_ultima_atualizacao(x, df_indicadores))"
   ]
  },
  {
   "cell_type": "code",
   "execution_count": 11,
   "id": "108599bd-3174-410a-887a-1485096182c7",
   "metadata": {},
   "outputs": [],
   "source": [
    "a = df_fichas['ultima_atualizacao'].value_counts()"
   ]
  },
  {
   "cell_type": "code",
   "execution_count": 12,
   "id": "ee883c15-f3b3-4f67-a6a9-47a79d5a3fbd",
   "metadata": {},
   "outputs": [
    {
     "data": {
      "text/plain": [
       "<AxesSubplot:>"
      ]
     },
     "execution_count": 12,
     "metadata": {},
     "output_type": "execute_result"
    },
    {
     "data": {
      "image/png": "[encoded data removed]",
      "text/plain": [
       "<Figure size 432x288 with 1 Axes>"
      ]
     },
     "metadata": {
      "needs_background": "light"
     },
     "output_type": "display_data"
    }
   ],
   "source": [
    "a.plot.bar()"
   ]
  },
  {
   "cell_type": "code",
   "execution_count": 13,
   "id": "01ed188d-aa3f-4d77-97d5-f4d899c1e5df",
   "metadata": {},
   "outputs": [
    {
     "data": {
      "text/plain": [
       "array(['Anual', nan, 'Mensal', 'anual', 'Decenal', 'Depende',\n",
       "       'Indefinido', 'Quinquenal', 'Decenal/Anual', 'Bienal', '[]',\n",
       "       'mensal', 'quinquenal', 'Varia', 'Periodicidade d', 'Periodicid'],\n",
       "      dtype=object)"
      ]
     },
     "execution_count": 13,
     "metadata": {},
     "output_type": "execute_result"
    }
   ],
   "source": [
    "df_fichas['periodicidade'].unique()"
   ]
  },
  {
   "cell_type": "code",
   "execution_count": 14,
   "id": "e627b2a1-6250-4342-b22a-be3810b52444",
   "metadata": {},
   "outputs": [],
   "source": [
    "df_fichas['periodicidade'].fillna('vazio', inplace=True)"
   ]
  },
  {
   "cell_type": "code",
   "execution_count": 15,
   "id": "aaa15cd3-6201-47d6-b591-44af314ca6e8",
   "metadata": {},
   "outputs": [
    {
     "data": {
      "text/plain": [
       "array(['Anual', 'vazio', 'Mensal', 'anual', 'Decenal', 'Depende',\n",
       "       'Indefinido', 'Quinquenal', 'Decenal/Anual', 'Bienal', '[]',\n",
       "       'mensal', 'quinquenal', 'Varia', 'Periodicidade d', 'Periodicid'],\n",
       "      dtype=object)"
      ]
     },
     "execution_count": 15,
     "metadata": {},
     "output_type": "execute_result"
    }
   ],
   "source": [
    "df_fichas['periodicidade'].unique()"
   ]
  },
  {
   "cell_type": "code",
   "execution_count": 16,
   "id": "35dd9882-1d06-46e8-8a31-cdaa7156dbfc",
   "metadata": {},
   "outputs": [],
   "source": [
    "df_fichas['periodicidade'] = df_fichas['periodicidade'].str.lower()"
   ]
  },
  {
   "cell_type": "code",
   "execution_count": 17,
   "id": "86ee8900-0033-4c31-b7a2-3bcb39157c04",
   "metadata": {},
   "outputs": [
    {
     "data": {
      "text/plain": [
       "array(['anual', 'vazio', 'mensal', 'decenal', 'depende', 'indefinido',\n",
       "       'quinquenal', 'decenal/anual', 'bienal', '[]', 'varia',\n",
       "       'periodicidade d', 'periodicid'], dtype=object)"
      ]
     },
     "execution_count": 17,
     "metadata": {},
     "output_type": "execute_result"
    }
   ],
   "source": [
    "df_fichas['periodicidade'].unique()"
   ]
  },
  {
   "cell_type": "code",
   "execution_count": 18,
   "id": "ed19e27f-afe2-402b-b054-f3c6d0b156ba",
   "metadata": {},
   "outputs": [],
   "source": [
    "def offset_periodicidade(periodo):\n",
    "    \n",
    "    de_para = {\n",
    "        'anual' : 1,\n",
    "        'vazio' : np.NaN,\n",
    "        #o limite é 1 ano, por isso mensal é 1\n",
    "        'mensal' : 1,\n",
    "        'decenal' : 10,\n",
    "        'depende' : np.NaN,\n",
    "        'indefinido' : np.NaN,\n",
    "        'quinquenal' : 5,\n",
    "        #vou pegar o maior, decenal\n",
    "        'decenal/anual' : 10,\n",
    "        'bienal' : 2,\n",
    "        '[]' : np.NaN,\n",
    "        'varia' : np.NaN,\n",
    "        'periodicidade d' : np.NaN,\n",
    "        'periodicid' : np.NaN\n",
    "    }\n",
    "    \n",
    "    return de_para.get(periodo, np.NaN)"
   ]
  },
  {
   "cell_type": "code",
   "execution_count": 19,
   "id": "69f8d794-8eb3-408b-a582-46eee2cb2e0b",
   "metadata": {},
   "outputs": [],
   "source": [
    "df_fichas['offset'] = df_fichas['periodicidade'].apply(offset_periodicidade)"
   ]
  },
  {
   "cell_type": "code",
   "execution_count": 20,
   "id": "05329810-1167-4922-8c44-d2a95a8ec7c1",
   "metadata": {},
   "outputs": [],
   "source": [
    "df_fichas['ano_atual'] = datetime.today().year"
   ]
  },
  {
   "cell_type": "code",
   "execution_count": 21,
   "id": "5e8baf47-aa3b-4e9d-9b1d-e336d08c0051",
   "metadata": {},
   "outputs": [],
   "source": [
    "df_fichas['ultimo_ano_atualizavel'] = df_fichas['ano_atual'] - df_fichas['offset']"
   ]
  },
  {
   "cell_type": "code",
   "execution_count": 22,
   "id": "6358dac4-8513-437c-ad9e-f96fb219f605",
   "metadata": {},
   "outputs": [],
   "source": [
    "df_fichas['delay_atualizacao'] = df_fichas['ultima_atualizacao'] - df_fichas['ultimo_ano_atualizavel']"
   ]
  },
  {
   "cell_type": "code",
   "execution_count": 23,
   "id": "c7be9747-0374-4bed-8804-7f26d1218b1b",
   "metadata": {},
   "outputs": [],
   "source": [
    "df_fichas['atualizado']=df_fichas['delay_atualizacao']>=0"
   ]
  },
  {
   "cell_type": "code",
   "execution_count": 24,
   "id": "6ff72699-0b0f-4330-80cc-f259327242fa",
   "metadata": {},
   "outputs": [],
   "source": [
    "df_fichas['fonte'] = df_fichas['fonte'].fillna('vazio')"
   ]
  },
  {
   "cell_type": "code",
   "execution_count": 25,
   "id": "eba20f8d-2b29-44d9-86ce-4c8b3b0ccb43",
   "metadata": {},
   "outputs": [
    {
     "name": "stdout",
     "output_type": "stream",
     "text": [
      "Instituto Brasileiro de Geografia e Estatística (IBGE)\n",
      "IBGE. Pesquisa Nacional por Amostra de Domicílios Contínua Anual - 5ª visita; SMDET\n",
      "Instituto Brasileiro de Geografia e Estatística (IBGE); Fundação Sistema Estadual de Análise de Dados (SEADE); Secretaria Municipal de Cultura (SMC); Secretaria Municipal de Urbanismo e Licenciamento (SMUL)\n",
      "Instituto Brasileiro de Geografia e Estatística (IBGE); Fundação João Pinheiro (FJP)\n",
      "PNAD/IBGE; Secretaria Municipal da Fazenda (SF)\n",
      "Pnad Contínua (IBGE); Secretaria Municipal da Fazenda (SF)\n",
      "Censo agropecuário (IBGE)\n",
      "Instituto Brasileiro e Geografia e Estatística (IBGE)\n",
      "[{\"cd_fonte\":7,\"nm_fonte\":\"IBGE \"},{\"cd_fonte\":8,\"nm_fonte\":\"Fundação SEADE\"}]\n",
      "Instituto Brasileiro de Geografia e Estatística (IBGE), Fundação Sistema Estadual de Análise de Dados (SEADE)\n",
      "Censo Demográfico (IBGE)\n",
      "Instituto Brasileiro de Geografia e Estatística (IBGE); Fundação Sistema Estadual de Análise de Dados (SEADE)\n",
      "Fundação Estadual Sistema de Análise de Dados (SEADE); Instituto Brasileiro de Geografia e Estatística (IBGE)\n",
      "Instituto Brasileiro de Geografia e Estatística (IBGE); Censo escolar da educação básica do Ministério da Educação (MEC); Fundação Estadual Sistema de Análise de Dados (SEADE); Secretaria Municipal de Educação (SME); Secretaria Municipal de Urbanismo e Licenciamento (SMUL)\n",
      "IBGE: Pesquisa Nacional por Amostra de Domicílios Contínua Anual - 5ª visita / SMDET\n",
      "Instituto Brasileiro de Geografia e Estatística (IBGE)/Fundação SEADE; Elaboração: Secretaria de Desenvolvimento Urbano (SMDU)\n",
      "Secretaria Municipal de Assistência e Desenvolvimento Social (SMADS); Instituto Brasileiro de Geografia e Estatística (IBGE)\n"
     ]
    }
   ],
   "source": [
    "for fonte in df_fichas['fonte'].unique():\n",
    "    fonte = str(fonte)\n",
    "    if 'ibge' in fonte.lower():\n",
    "        print(fonte)"
   ]
  },
  {
   "cell_type": "code",
   "execution_count": 26,
   "id": "08d46b63-7297-41a6-ac28-27e2a9510d7a",
   "metadata": {},
   "outputs": [],
   "source": [
    "df_fichas['fonte_ibge'] = df_fichas['fonte'].str.lower().str.contains('ibge')"
   ]
  },
  {
   "cell_type": "code",
   "execution_count": 27,
   "id": "0897736f-37ec-4c06-b142-838e8d5a664b",
   "metadata": {},
   "outputs": [
    {
     "data": {
      "text/plain": [
       "31"
      ]
     },
     "execution_count": 27,
     "metadata": {},
     "output_type": "execute_result"
    }
   ],
   "source": [
    "df_fichas['fonte_ibge'].sum()"
   ]
  },
  {
   "cell_type": "code",
   "execution_count": 28,
   "id": "7f6cbbb8-07f5-4b30-85b2-b58477b97c3f",
   "metadata": {},
   "outputs": [],
   "source": [
    "df = df_fichas[df_fichas['ultima_atualizacao'].notnull()]\n",
    "df = df[df['offset'].notnull()].copy().reset_index(drop=True)"
   ]
  },
  {
   "cell_type": "code",
   "execution_count": 29,
   "id": "dd983ebc-361c-4a03-933a-adde9500da03",
   "metadata": {},
   "outputs": [
    {
     "data": {
      "text/plain": [
       "0.3459715639810427"
      ]
     },
     "execution_count": 29,
     "metadata": {},
     "output_type": "execute_result"
    }
   ],
   "source": [
    "df['atualizado'].mean()"
   ]
  },
  {
   "cell_type": "code",
   "execution_count": 30,
   "id": "8fe7b25a-1893-421f-9a41-740f84fd0829",
   "metadata": {},
   "outputs": [],
   "source": [
    "df['atualizado_txt'] = df['atualizado'].apply(lambda x: 'Sim' if x else 'Não')"
   ]
  },
  {
   "cell_type": "code",
   "execution_count": 31,
   "id": "a9064e1b-d6b2-4dad-bbac-9663ebd90b53",
   "metadata": {},
   "outputs": [
    {
     "data": {
      "text/plain": [
       "0.3576158940397351"
      ]
     },
     "execution_count": 31,
     "metadata": {},
     "output_type": "execute_result"
    }
   ],
   "source": [
    "df[~df['fonte_ibge']]['atualizado'].mean()"
   ]
  },
  {
   "cell_type": "code",
   "execution_count": 32,
   "id": "1b200f83-b6d3-44a7-b7f5-9104a06ad1b0",
   "metadata": {},
   "outputs": [
    {
     "data": {
      "text/plain": [
       "True"
      ]
     },
     "execution_count": 32,
     "metadata": {},
     "output_type": "execute_result"
    }
   ],
   "source": [
    "df['fonte_ibge'].any()"
   ]
  },
  {
   "cell_type": "code",
   "execution_count": 33,
   "id": "f901170b-fe13-4843-9b4d-ed20123db679",
   "metadata": {},
   "outputs": [
    {
     "data": {
      "text/plain": [
       "633"
      ]
     },
     "execution_count": 33,
     "metadata": {},
     "output_type": "execute_result"
    }
   ],
   "source": [
    "len(df)"
   ]
  },
  {
   "cell_type": "code",
   "execution_count": 34,
   "id": "d0f8c80d-be4b-4e72-a734-6bbb065472d5",
   "metadata": {},
   "outputs": [
    {
     "data": {
      "text/html": [
       "<div>\n",
       "<style scoped>\n",
       "    .dataframe tbody tr th:only-of-type {\n",
       "        vertical-align: middle;\n",
       "    }\n",
       "\n",
       "    .dataframe tbody tr th {\n",
       "        vertical-align: top;\n",
       "    }\n",
       "\n",
       "    .dataframe thead th {\n",
       "        text-align: right;\n",
       "    }\n",
       "</style>\n",
       "<table border=\"1\" class=\"dataframe\">\n",
       "  <thead>\n",
       "    <tr style=\"text-align: right;\">\n",
       "      <th></th>\n",
       "      <th>nome_do_indicador</th>\n",
       "      <th>descricao_de_indicador</th>\n",
       "      <th>tema_(s)</th>\n",
       "      <th>formula_de_calculo_(em_texto)</th>\n",
       "      <th>periodicidade</th>\n",
       "      <th>unidades_territoriais</th>\n",
       "      <th>serie_historica_disponivel</th>\n",
       "      <th>fonte</th>\n",
       "      <th>original_file</th>\n",
       "      <th>sucess</th>\n",
       "      <th>...</th>\n",
       "      <th>observacoes</th>\n",
       "      <th>interpretacao_basica</th>\n",
       "      <th>ultima_atualizacao</th>\n",
       "      <th>offset</th>\n",
       "      <th>ano_atual</th>\n",
       "      <th>ultimo_ano_atualizavel</th>\n",
       "      <th>delay_atualizacao</th>\n",
       "      <th>atualizado</th>\n",
       "      <th>fonte_ibge</th>\n",
       "      <th>atualizado_txt</th>\n",
       "    </tr>\n",
       "  </thead>\n",
       "  <tbody>\n",
       "    <tr>\n",
       "      <th>0</th>\n",
       "      <td>11.02.06 Percentual do viário da cidade com in...</td>\n",
       "      <td>Mede em porcentagem a parte do viário dedicada...</td>\n",
       "      <td>Mobilidade e Segurança no Trânsito,ODS São Paulo</td>\n",
       "      <td>( Faixas exclusivas de ônibus implantadas (km)...</td>\n",
       "      <td>anual</td>\n",
       "      <td>Município</td>\n",
       "      <td>Início: 2014 - atualmente</td>\n",
       "      <td>Secretaria Municipal de Mobilidade e Trânsito ...</td>\n",
       "      <td>/home/h-pgy/Desktop/Projetos/report_atualizaca...</td>\n",
       "      <td>True</td>\n",
       "      <td>...</td>\n",
       "      <td>NaN</td>\n",
       "      <td>NaN</td>\n",
       "      <td>2020.0</td>\n",
       "      <td>1.0</td>\n",
       "      <td>2022</td>\n",
       "      <td>2021.0</td>\n",
       "      <td>-1.0</td>\n",
       "      <td>False</td>\n",
       "      <td>False</td>\n",
       "      <td>Não</td>\n",
       "    </tr>\n",
       "    <tr>\n",
       "      <th>1</th>\n",
       "      <td>16.07.01 Número de Consultas Públicas feitas p...</td>\n",
       "      <td>Mede a quantidade de Consultas Públicas realiz...</td>\n",
       "      <td>Gestão Pública,ODS São Paulo</td>\n",
       "      <td>Consultas Participe +</td>\n",
       "      <td>anual</td>\n",
       "      <td>Município</td>\n",
       "      <td>2020</td>\n",
       "      <td>Secretaria do Governo Municipal (SGM)</td>\n",
       "      <td>/home/h-pgy/Desktop/Projetos/report_atualizaca...</td>\n",
       "      <td>True</td>\n",
       "      <td>...</td>\n",
       "      <td>NaN</td>\n",
       "      <td>NaN</td>\n",
       "      <td>2020.0</td>\n",
       "      <td>1.0</td>\n",
       "      <td>2022</td>\n",
       "      <td>2021.0</td>\n",
       "      <td>-1.0</td>\n",
       "      <td>False</td>\n",
       "      <td>False</td>\n",
       "      <td>Não</td>\n",
       "    </tr>\n",
       "    <tr>\n",
       "      <th>2</th>\n",
       "      <td>15.01.06 Unidades de Conservação – Planos de M...</td>\n",
       "      <td>Indicador representa a proporção de unidades d...</td>\n",
       "      <td>Meio Ambiente,ODS São Paulo</td>\n",
       "      <td>( Unidades de Conservação com plano de manejo ...</td>\n",
       "      <td>anual</td>\n",
       "      <td>Município</td>\n",
       "      <td>Início: 2018 - atual</td>\n",
       "      <td>Secretaria Municipal do Verde e do Meio Ambien...</td>\n",
       "      <td>/home/h-pgy/Desktop/Projetos/report_atualizaca...</td>\n",
       "      <td>True</td>\n",
       "      <td>...</td>\n",
       "      <td>NaN</td>\n",
       "      <td>NaN</td>\n",
       "      <td>2020.0</td>\n",
       "      <td>1.0</td>\n",
       "      <td>2022</td>\n",
       "      <td>2021.0</td>\n",
       "      <td>-1.0</td>\n",
       "      <td>False</td>\n",
       "      <td>False</td>\n",
       "      <td>Não</td>\n",
       "    </tr>\n",
       "    <tr>\n",
       "      <th>3</th>\n",
       "      <td>Taxa de ocorrências registradas de roubos (por...</td>\n",
       "      <td>Expressa o total de ocorrências de roubos na c...</td>\n",
       "      <td>Segurança e Violência</td>\n",
       "      <td>( Registros de roubos\\n        \\n         DIVI...</td>\n",
       "      <td>anual</td>\n",
       "      <td>Município</td>\n",
       "      <td>Início: 2000 - atualmente</td>\n",
       "      <td>Fundação Sistema Estadual de Análise de Dados ...</td>\n",
       "      <td>/home/h-pgy/Desktop/Projetos/report_atualizaca...</td>\n",
       "      <td>True</td>\n",
       "      <td>...</td>\n",
       "      <td>NaN</td>\n",
       "      <td>NaN</td>\n",
       "      <td>2021.0</td>\n",
       "      <td>1.0</td>\n",
       "      <td>2022</td>\n",
       "      <td>2021.0</td>\n",
       "      <td>0.0</td>\n",
       "      <td>True</td>\n",
       "      <td>False</td>\n",
       "      <td>Sim</td>\n",
       "    </tr>\n",
       "    <tr>\n",
       "      <th>4</th>\n",
       "      <td>03.06.08 Participação dos caminhões nos aciden...</td>\n",
       "      <td>Percentual da participação dos caminhões nos a...</td>\n",
       "      <td>Mobilidade e Segurança no Trânsito,ODS São Paulo</td>\n",
       "      <td>( Número de caminhões envolvidos em acidentes ...</td>\n",
       "      <td>anual</td>\n",
       "      <td>Município</td>\n",
       "      <td>2020</td>\n",
       "      <td>Companhia de Engenharia de Tráfego (CET); Secr...</td>\n",
       "      <td>/home/h-pgy/Desktop/Projetos/report_atualizaca...</td>\n",
       "      <td>True</td>\n",
       "      <td>...</td>\n",
       "      <td>NaN</td>\n",
       "      <td>NaN</td>\n",
       "      <td>2020.0</td>\n",
       "      <td>1.0</td>\n",
       "      <td>2022</td>\n",
       "      <td>2021.0</td>\n",
       "      <td>-1.0</td>\n",
       "      <td>False</td>\n",
       "      <td>False</td>\n",
       "      <td>Não</td>\n",
       "    </tr>\n",
       "    <tr>\n",
       "      <th>...</th>\n",
       "      <td>...</td>\n",
       "      <td>...</td>\n",
       "      <td>...</td>\n",
       "      <td>...</td>\n",
       "      <td>...</td>\n",
       "      <td>...</td>\n",
       "      <td>...</td>\n",
       "      <td>...</td>\n",
       "      <td>...</td>\n",
       "      <td>...</td>\n",
       "      <td>...</td>\n",
       "      <td>...</td>\n",
       "      <td>...</td>\n",
       "      <td>...</td>\n",
       "      <td>...</td>\n",
       "      <td>...</td>\n",
       "      <td>...</td>\n",
       "      <td>...</td>\n",
       "      <td>...</td>\n",
       "      <td>...</td>\n",
       "      <td>...</td>\n",
       "    </tr>\n",
       "    <tr>\n",
       "      <th>628</th>\n",
       "      <td>Tempo médio de atendimento para análises clíni...</td>\n",
       "      <td>Dias de intervalo entre data da coleta e data ...</td>\n",
       "      <td>PPA 2018-2021,Saúde</td>\n",
       "      <td>Tempo médio de atendimento para análises clíni...</td>\n",
       "      <td>anual</td>\n",
       "      <td>Município</td>\n",
       "      <td>Início: 2009 - Atualmente</td>\n",
       "      <td>Secretaria Municipal da Saúde (SMS), Sistema I...</td>\n",
       "      <td>/home/h-pgy/Desktop/Projetos/report_atualizaca...</td>\n",
       "      <td>True</td>\n",
       "      <td>...</td>\n",
       "      <td>Lei nº 14.173/06</td>\n",
       "      <td>NaN</td>\n",
       "      <td>2021.0</td>\n",
       "      <td>1.0</td>\n",
       "      <td>2022</td>\n",
       "      <td>2021.0</td>\n",
       "      <td>0.0</td>\n",
       "      <td>True</td>\n",
       "      <td>False</td>\n",
       "      <td>Sim</td>\n",
       "    </tr>\n",
       "    <tr>\n",
       "      <th>629</th>\n",
       "      <td>16.06.05 Nota média de eficiência da Administr...</td>\n",
       "      <td>Avalia o atendimento dos pedidos de acesso à i...</td>\n",
       "      <td>Gestão Pública,ODS São Paulo</td>\n",
       "      <td>Total das notas em transparência passiva receb...</td>\n",
       "      <td>anual</td>\n",
       "      <td>Município</td>\n",
       "      <td>Início: 2017 - atualmente</td>\n",
       "      <td>Controladoria Geral do Município (CGM); Ouvido...</td>\n",
       "      <td>/home/h-pgy/Desktop/Projetos/report_atualizaca...</td>\n",
       "      <td>True</td>\n",
       "      <td>...</td>\n",
       "      <td>Os valores são apurados semestralmente e para ...</td>\n",
       "      <td>NaN</td>\n",
       "      <td>2021.0</td>\n",
       "      <td>1.0</td>\n",
       "      <td>2022</td>\n",
       "      <td>2021.0</td>\n",
       "      <td>0.0</td>\n",
       "      <td>True</td>\n",
       "      <td>False</td>\n",
       "      <td>Sim</td>\n",
       "    </tr>\n",
       "    <tr>\n",
       "      <th>630</th>\n",
       "      <td>10.07.01 Número de pessoas atendidas pelo Cent...</td>\n",
       "      <td>Quantidade de pessoas atendidas pelo CRAI - Ce...</td>\n",
       "      <td>Direitos Humanos e Cidadania,ODS São Paulo</td>\n",
       "      <td>Pessoas atendidas pelo Centro de Referência e ...</td>\n",
       "      <td>anual</td>\n",
       "      <td>município</td>\n",
       "      <td>início: 2017 - atualmente</td>\n",
       "      <td>Secretaria Municipal de Direitos Humanos (SMDHC)</td>\n",
       "      <td>/home/h-pgy/Desktop/Projetos/report_atualizaca...</td>\n",
       "      <td>True</td>\n",
       "      <td>...</td>\n",
       "      <td>NaN</td>\n",
       "      <td>NaN</td>\n",
       "      <td>2020.0</td>\n",
       "      <td>1.0</td>\n",
       "      <td>2022</td>\n",
       "      <td>2021.0</td>\n",
       "      <td>-1.0</td>\n",
       "      <td>False</td>\n",
       "      <td>False</td>\n",
       "      <td>Não</td>\n",
       "    </tr>\n",
       "    <tr>\n",
       "      <th>631</th>\n",
       "      <td>11.01.09 Valores empenhados por ano com atendi...</td>\n",
       "      <td>Trata-se de recursos municipais despendidos an...</td>\n",
       "      <td>Moradia e Saneamento Básico,ODS São Paulo</td>\n",
       "      <td>Valores empenhados por ano com atendimento hab...</td>\n",
       "      <td>anual</td>\n",
       "      <td>Município</td>\n",
       "      <td>Início: 2015 - Atualmente</td>\n",
       "      <td>Departamento de Administração e Finanças – DIF...</td>\n",
       "      <td>/home/h-pgy/Desktop/Projetos/report_atualizaca...</td>\n",
       "      <td>True</td>\n",
       "      <td>...</td>\n",
       "      <td>NaN</td>\n",
       "      <td>NaN</td>\n",
       "      <td>2020.0</td>\n",
       "      <td>1.0</td>\n",
       "      <td>2022</td>\n",
       "      <td>2021.0</td>\n",
       "      <td>-1.0</td>\n",
       "      <td>False</td>\n",
       "      <td>False</td>\n",
       "      <td>Não</td>\n",
       "    </tr>\n",
       "    <tr>\n",
       "      <th>632</th>\n",
       "      <td>Número de matriculados nos programas de ativid...</td>\n",
       "      <td>Apresenta a média de matriculados por mês nas ...</td>\n",
       "      <td>Esporte e Lazer</td>\n",
       "      <td>Pessoas inscritas nos programas de atividade f...</td>\n",
       "      <td>anual</td>\n",
       "      <td>Município</td>\n",
       "      <td>Início: 2016 - atualmente</td>\n",
       "      <td>Secretaria Municipal de Esportes e Lazer (SEME)</td>\n",
       "      <td>/home/h-pgy/Desktop/Projetos/report_atualizaca...</td>\n",
       "      <td>True</td>\n",
       "      <td>...</td>\n",
       "      <td>Consideradas atividades  física orientada cont...</td>\n",
       "      <td>NaN</td>\n",
       "      <td>2021.0</td>\n",
       "      <td>1.0</td>\n",
       "      <td>2022</td>\n",
       "      <td>2021.0</td>\n",
       "      <td>0.0</td>\n",
       "      <td>True</td>\n",
       "      <td>False</td>\n",
       "      <td>Sim</td>\n",
       "    </tr>\n",
       "  </tbody>\n",
       "</table>\n",
       "<p>604 rows × 21 columns</p>\n",
       "</div>"
      ],
      "text/plain": [
       "                                     nome_do_indicador  \\\n",
       "0    11.02.06 Percentual do viário da cidade com in...   \n",
       "1    16.07.01 Número de Consultas Públicas feitas p...   \n",
       "2    15.01.06 Unidades de Conservação – Planos de M...   \n",
       "3    Taxa de ocorrências registradas de roubos (por...   \n",
       "4    03.06.08 Participação dos caminhões nos aciden...   \n",
       "..                                                 ...   \n",
       "628  Tempo médio de atendimento para análises clíni...   \n",
       "629  16.06.05 Nota média de eficiência da Administr...   \n",
       "630  10.07.01 Número de pessoas atendidas pelo Cent...   \n",
       "631  11.01.09 Valores empenhados por ano com atendi...   \n",
       "632  Número de matriculados nos programas de ativid...   \n",
       "\n",
       "                                descricao_de_indicador  \\\n",
       "0    Mede em porcentagem a parte do viário dedicada...   \n",
       "1    Mede a quantidade de Consultas Públicas realiz...   \n",
       "2    Indicador representa a proporção de unidades d...   \n",
       "3    Expressa o total de ocorrências de roubos na c...   \n",
       "4    Percentual da participação dos caminhões nos a...   \n",
       "..                                                 ...   \n",
       "628  Dias de intervalo entre data da coleta e data ...   \n",
       "629  Avalia o atendimento dos pedidos de acesso à i...   \n",
       "630  Quantidade de pessoas atendidas pelo CRAI - Ce...   \n",
       "631  Trata-se de recursos municipais despendidos an...   \n",
       "632  Apresenta a média de matriculados por mês nas ...   \n",
       "\n",
       "                                             tema_(s)  \\\n",
       "0    Mobilidade e Segurança no Trânsito,ODS São Paulo   \n",
       "1                        Gestão Pública,ODS São Paulo   \n",
       "2                         Meio Ambiente,ODS São Paulo   \n",
       "3                               Segurança e Violência   \n",
       "4    Mobilidade e Segurança no Trânsito,ODS São Paulo   \n",
       "..                                                ...   \n",
       "628                               PPA 2018-2021,Saúde   \n",
       "629                      Gestão Pública,ODS São Paulo   \n",
       "630        Direitos Humanos e Cidadania,ODS São Paulo   \n",
       "631         Moradia e Saneamento Básico,ODS São Paulo   \n",
       "632                                   Esporte e Lazer   \n",
       "\n",
       "                         formula_de_calculo_(em_texto) periodicidade  \\\n",
       "0    ( Faixas exclusivas de ônibus implantadas (km)...         anual   \n",
       "1                                Consultas Participe +         anual   \n",
       "2    ( Unidades de Conservação com plano de manejo ...         anual   \n",
       "3    ( Registros de roubos\\n        \\n         DIVI...         anual   \n",
       "4    ( Número de caminhões envolvidos em acidentes ...         anual   \n",
       "..                                                 ...           ...   \n",
       "628  Tempo médio de atendimento para análises clíni...         anual   \n",
       "629  Total das notas em transparência passiva receb...         anual   \n",
       "630  Pessoas atendidas pelo Centro de Referência e ...         anual   \n",
       "631  Valores empenhados por ano com atendimento hab...         anual   \n",
       "632  Pessoas inscritas nos programas de atividade f...         anual   \n",
       "\n",
       "    unidades_territoriais serie_historica_disponivel  \\\n",
       "0               Município  Início: 2014 - atualmente   \n",
       "1               Município                       2020   \n",
       "2               Município       Início: 2018 - atual   \n",
       "3               Município  Início: 2000 - atualmente   \n",
       "4               Município                       2020   \n",
       "..                    ...                        ...   \n",
       "628             Município  Início: 2009 - Atualmente   \n",
       "629             Município  Início: 2017 - atualmente   \n",
       "630             município  início: 2017 - atualmente   \n",
       "631             Município  Início: 2015 - Atualmente   \n",
       "632             Município  Início: 2016 - atualmente   \n",
       "\n",
       "                                                 fonte  \\\n",
       "0    Secretaria Municipal de Mobilidade e Trânsito ...   \n",
       "1                Secretaria do Governo Municipal (SGM)   \n",
       "2    Secretaria Municipal do Verde e do Meio Ambien...   \n",
       "3    Fundação Sistema Estadual de Análise de Dados ...   \n",
       "4    Companhia de Engenharia de Tráfego (CET); Secr...   \n",
       "..                                                 ...   \n",
       "628  Secretaria Municipal da Saúde (SMS), Sistema I...   \n",
       "629  Controladoria Geral do Município (CGM); Ouvido...   \n",
       "630   Secretaria Municipal de Direitos Humanos (SMDHC)   \n",
       "631  Departamento de Administração e Finanças – DIF...   \n",
       "632    Secretaria Municipal de Esportes e Lazer (SEME)   \n",
       "\n",
       "                                         original_file  sucess  ...  \\\n",
       "0    /home/h-pgy/Desktop/Projetos/report_atualizaca...    True  ...   \n",
       "1    /home/h-pgy/Desktop/Projetos/report_atualizaca...    True  ...   \n",
       "2    /home/h-pgy/Desktop/Projetos/report_atualizaca...    True  ...   \n",
       "3    /home/h-pgy/Desktop/Projetos/report_atualizaca...    True  ...   \n",
       "4    /home/h-pgy/Desktop/Projetos/report_atualizaca...    True  ...   \n",
       "..                                                 ...     ...  ...   \n",
       "628  /home/h-pgy/Desktop/Projetos/report_atualizaca...    True  ...   \n",
       "629  /home/h-pgy/Desktop/Projetos/report_atualizaca...    True  ...   \n",
       "630  /home/h-pgy/Desktop/Projetos/report_atualizaca...    True  ...   \n",
       "631  /home/h-pgy/Desktop/Projetos/report_atualizaca...    True  ...   \n",
       "632  /home/h-pgy/Desktop/Projetos/report_atualizaca...    True  ...   \n",
       "\n",
       "                                           observacoes interpretacao_basica  \\\n",
       "0                                                  NaN                  NaN   \n",
       "1                                                  NaN                  NaN   \n",
       "2                                                  NaN                  NaN   \n",
       "3                                                  NaN                  NaN   \n",
       "4                                                  NaN                  NaN   \n",
       "..                                                 ...                  ...   \n",
       "628                                   Lei nº 14.173/06                  NaN   \n",
       "629  Os valores são apurados semestralmente e para ...                  NaN   \n",
       "630                                                NaN                  NaN   \n",
       "631                                                NaN                  NaN   \n",
       "632  Consideradas atividades  física orientada cont...                  NaN   \n",
       "\n",
       "    ultima_atualizacao  offset  ano_atual  ultimo_ano_atualizavel  \\\n",
       "0               2020.0     1.0       2022                  2021.0   \n",
       "1               2020.0     1.0       2022                  2021.0   \n",
       "2               2020.0     1.0       2022                  2021.0   \n",
       "3               2021.0     1.0       2022                  2021.0   \n",
       "4               2020.0     1.0       2022                  2021.0   \n",
       "..                 ...     ...        ...                     ...   \n",
       "628             2021.0     1.0       2022                  2021.0   \n",
       "629             2021.0     1.0       2022                  2021.0   \n",
       "630             2020.0     1.0       2022                  2021.0   \n",
       "631             2020.0     1.0       2022                  2021.0   \n",
       "632             2021.0     1.0       2022                  2021.0   \n",
       "\n",
       "     delay_atualizacao  atualizado  fonte_ibge  atualizado_txt  \n",
       "0                 -1.0       False       False             Não  \n",
       "1                 -1.0       False       False             Não  \n",
       "2                 -1.0       False       False             Não  \n",
       "3                  0.0        True       False             Sim  \n",
       "4                 -1.0       False       False             Não  \n",
       "..                 ...         ...         ...             ...  \n",
       "628                0.0        True       False             Sim  \n",
       "629                0.0        True       False             Sim  \n",
       "630               -1.0       False       False             Não  \n",
       "631               -1.0       False       False             Não  \n",
       "632                0.0        True       False             Sim  \n",
       "\n",
       "[604 rows x 21 columns]"
      ]
     },
     "execution_count": 34,
     "metadata": {},
     "output_type": "execute_result"
    }
   ],
   "source": [
    "df[~df['fonte_ibge']]"
   ]
  },
  {
   "cell_type": "code",
   "execution_count": 35,
   "id": "f79a1bc0-351a-41c4-a6d0-9b0c8ac28975",
   "metadata": {},
   "outputs": [
    {
     "data": {
      "text/plain": [
       "-0.9510268562401264"
      ]
     },
     "execution_count": 35,
     "metadata": {},
     "output_type": "execute_result"
    }
   ],
   "source": [
    "df['delay_atualizacao'].mean()"
   ]
  },
  {
   "cell_type": "code",
   "execution_count": 36,
   "id": "a58f9e89-33cd-4ac9-8edb-df06c83857f6",
   "metadata": {},
   "outputs": [
    {
     "data": {
      "text/plain": [
       "<AxesSubplot:ylabel='Frequency'>"
      ]
     },
     "execution_count": 36,
     "metadata": {},
     "output_type": "execute_result"
    },
    {
     "data": {
      "image/png": "[encoded data removed]",
      "text/plain": [
       "<Figure size 432x288 with 1 Axes>"
      ]
     },
     "metadata": {
      "needs_background": "light"
     },
     "output_type": "display_data"
    }
   ],
   "source": [
    "df['delay_atualizacao'].plot.hist(bins=100)"
   ]
  },
  {
   "cell_type": "code",
   "execution_count": 37,
   "id": "f6974613-fc59-4629-9921-e3628bf9e04b",
   "metadata": {},
   "outputs": [
    {
     "data": {
      "text/plain": [
       "Index(['nome_do_indicador', 'descricao_de_indicador', 'tema_(s)',\n",
       "       'formula_de_calculo_(em_texto)', 'periodicidade',\n",
       "       'unidades_territoriais', 'serie_historica_disponivel', 'fonte',\n",
       "       'original_file', 'sucess', 'informacoes_tecnicas', 'observacoes',\n",
       "       'interpretacao_basica', 'ultima_atualizacao', 'offset', 'ano_atual',\n",
       "       'ultimo_ano_atualizavel', 'delay_atualizacao', 'atualizado',\n",
       "       'fonte_ibge', 'atualizado_txt'],\n",
       "      dtype='object')"
      ]
     },
     "execution_count": 37,
     "metadata": {},
     "output_type": "execute_result"
    }
   ],
   "source": [
    "df.keys()"
   ]
  },
  {
   "cell_type": "code",
   "execution_count": 38,
   "id": "1bf8ee85-1abb-4b79-bc3e-9eb6901144a7",
   "metadata": {},
   "outputs": [],
   "source": [
    "cols = ['nome_do_indicador', \n",
    "        'tema_(s)', \n",
    "        'periodicidade', \n",
    "        'fonte', \n",
    "        'fonte_ibge',\n",
    "        'ultima_atualizacao', \n",
    "        'offset', \n",
    "        'ano_atual',\n",
    "        'atualizado',\n",
    "        'atualizado_txt', \n",
    "        'ultimo_ano_atualizavel',\n",
    "       'delay_atualizacao']"
   ]
  },
  {
   "cell_type": "code",
   "execution_count": 39,
   "id": "24c88eb2-1e70-443f-af87-0241a3b869aa",
   "metadata": {},
   "outputs": [],
   "source": [
    "final = df[cols]"
   ]
  },
  {
   "cell_type": "code",
   "execution_count": 41,
   "id": "0557233f-d2f2-423c-a700-9a2585d3a758",
   "metadata": {},
   "outputs": [],
   "source": [
    "final.to_csv('relatorio_atualizacao_final.csv', encoding='utf-8', sep=';')"
   ]
  },
  {
   "cell_type": "code",
   "execution_count": null,
   "id": "9ca4eaea-392e-4f08-ac9d-078ac61e9f84",
   "metadata": {},
   "outputs": [],
   "source": []
  }
 ],
 "metadata": {
  "kernelspec": {
   "display_name": "Python 3",
   "language": "python",
   "name": "python3"
  },
  "language_info": {
   "codemirror_mode": {
    "name": "ipython",
    "version": 3
   },
   "file_extension": ".py",
   "mimetype": "text/x-python",
   "name": "python",
   "nbconvert_exporter": "python",
   "pygments_lexer": "ipython3",
   "version": "3.8.8"
  }
 },
 "nbformat": 4,
 "nbformat_minor": 5
}
