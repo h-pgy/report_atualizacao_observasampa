{
 "cells": [
  {
   "cell_type": "code",
   "execution_count": 1,
   "id": "9a242424-67f7-4088-a37b-2b3c97f79524",
   "metadata": {},
   "outputs": [],
   "source": [
    "import pandas as pd\n",
    "import json\n",
    "from json import JSONDecodeError"
   ]
  },
  {
   "cell_type": "code",
   "execution_count": 2,
   "id": "dc72ec21-deec-4957-9025-f6359ec45503",
   "metadata": {},
   "outputs": [],
   "source": [
    "from core.dao import QueryMaker"
   ]
  },
  {
   "cell_type": "code",
   "execution_count": 3,
   "id": "77fe2611-2bd7-4a51-9ca8-3b4fcc59eb67",
   "metadata": {},
   "outputs": [],
   "source": [
    "q = QueryMaker()"
   ]
  },
  {
   "cell_type": "code",
   "execution_count": 4,
   "id": "64b36d64-cd3f-46bb-b7c4-af0264c4466f",
   "metadata": {},
   "outputs": [
    {
     "data": {
      "text/plain": [
       "['gerenciador_dashboard',\n",
       " 'auditoria_tabela',\n",
       " 'conteudo',\n",
       " 'estatistica_acesso',\n",
       " 'fonte',\n",
       " 'indicador',\n",
       " 'indicador_resultado',\n",
       " 'indicador_tema',\n",
       " 'nivel_regiao',\n",
       " 'parametro_sistema',\n",
       " 'periodo',\n",
       " 'regiao',\n",
       " 'tema',\n",
       " 'tipo_conteudo',\n",
       " 'tipo_origem',\n",
       " 'tipo_periodo',\n",
       " 'tipo_situacao',\n",
       " 'tipo_unidade_medida',\n",
       " 'variavel',\n",
       " 'variavel_indicador',\n",
       " 'variavel_resultado']"
      ]
     },
     "execution_count": 4,
     "metadata": {},
     "output_type": "execute_result"
    }
   ],
   "source": [
    "q.list_tables()"
   ]
  },
  {
   "cell_type": "code",
   "execution_count": 5,
   "id": "1e4cefd5-6feb-47de-99a2-d2ba50a9baca",
   "metadata": {},
   "outputs": [],
   "source": [
    "variaveis = q('variavel', limit=None)"
   ]
  },
  {
   "cell_type": "code",
   "execution_count": 6,
   "id": "09db3a93-666d-4b4e-999e-9b30b8cc3924",
   "metadata": {},
   "outputs": [
    {
     "data": {
      "text/plain": [
       "Index(['cd_variavel', 'nm_resumido_variavel', 'nm_completo_variavel',\n",
       "       'dt_atualizacao', 'cd_operador', 'cd_fonte', 'cd_tipo_situacao',\n",
       "       'nm_apelido_variavel', 'dc_periodo_atualizacao', 'in_variavel_basica',\n",
       "       'dc_unidade_variavel', 'dc_periodicidade_variavel',\n",
       "       'dc_unidade_territorial', 'dc_serie_historica', 'dc_nota_tecnica',\n",
       "       'dc_observacao_variavel', 'tx_fonte_variavel'],\n",
       "      dtype='object')"
      ]
     },
     "execution_count": 6,
     "metadata": {},
     "output_type": "execute_result"
    }
   ],
   "source": [
    "variaveis.keys()"
   ]
  },
  {
   "cell_type": "code",
   "execution_count": 7,
   "id": "bbbc0f53-b49c-4886-86f9-d32adb4e0965",
   "metadata": {},
   "outputs": [
    {
     "data": {
      "text/html": [
       "<div>\n",
       "<style scoped>\n",
       "    .dataframe tbody tr th:only-of-type {\n",
       "        vertical-align: middle;\n",
       "    }\n",
       "\n",
       "    .dataframe tbody tr th {\n",
       "        vertical-align: top;\n",
       "    }\n",
       "\n",
       "    .dataframe thead th {\n",
       "        text-align: right;\n",
       "    }\n",
       "</style>\n",
       "<table border=\"1\" class=\"dataframe\">\n",
       "  <thead>\n",
       "    <tr style=\"text-align: right;\">\n",
       "      <th></th>\n",
       "      <th>cd_tipo_situacao</th>\n",
       "      <th>dc_tipo_situacao</th>\n",
       "      <th>dt_atualizacao</th>\n",
       "      <th>cd_operador</th>\n",
       "    </tr>\n",
       "  </thead>\n",
       "  <tbody>\n",
       "    <tr>\n",
       "      <th>0</th>\n",
       "      <td>1</td>\n",
       "      <td>ATIVO</td>\n",
       "      <td>2018-11-30 15:36:38</td>\n",
       "      <td>21433</td>\n",
       "    </tr>\n",
       "    <tr>\n",
       "      <th>1</th>\n",
       "      <td>2</td>\n",
       "      <td>INATIVO</td>\n",
       "      <td>2018-11-30 15:36:38</td>\n",
       "      <td>21433</td>\n",
       "    </tr>\n",
       "    <tr>\n",
       "      <th>2</th>\n",
       "      <td>3</td>\n",
       "      <td>EXCLUIDO</td>\n",
       "      <td>2018-11-30 15:36:38</td>\n",
       "      <td>21433</td>\n",
       "    </tr>\n",
       "  </tbody>\n",
       "</table>\n",
       "</div>"
      ],
      "text/plain": [
       "   cd_tipo_situacao dc_tipo_situacao      dt_atualizacao cd_operador\n",
       "0                 1            ATIVO 2018-11-30 15:36:38       21433\n",
       "1                 2          INATIVO 2018-11-30 15:36:38       21433\n",
       "2                 3         EXCLUIDO 2018-11-30 15:36:38       21433"
      ]
     },
     "execution_count": 7,
     "metadata": {},
     "output_type": "execute_result"
    }
   ],
   "source": [
    "q('tipo_situacao')"
   ]
  },
  {
   "cell_type": "code",
   "execution_count": 8,
   "id": "951a1422-a103-442d-b5d8-e9626870a912",
   "metadata": {},
   "outputs": [],
   "source": [
    "variaveis = variaveis[variaveis['cd_tipo_situacao']==1].copy().reset_index(drop=True)"
   ]
  },
  {
   "cell_type": "code",
   "execution_count": 9,
   "id": "087398d0-b8de-45f4-91d3-fed915b921a5",
   "metadata": {},
   "outputs": [],
   "source": [
    "colunas = ['cd_variavel', 'nm_resumido_variavel', 'nm_completo_variavel',\n",
    "       'dt_atualizacao', 'tx_fonte_variavel', 'cd_tipo_situacao', 'dc_unidade_territorial']"
   ]
  },
  {
   "cell_type": "code",
   "execution_count": 10,
   "id": "b536dda7-1e36-4b4e-8373-57407e90b829",
   "metadata": {},
   "outputs": [],
   "source": [
    "variaveis = variaveis[colunas].copy()"
   ]
  },
  {
   "cell_type": "code",
   "execution_count": 11,
   "id": "f935fd08-1298-477d-afbb-89fc8bd4e501",
   "metadata": {},
   "outputs": [
    {
     "data": {
      "text/plain": [
       "array([1], dtype=int64)"
      ]
     },
     "execution_count": 11,
     "metadata": {},
     "output_type": "execute_result"
    }
   ],
   "source": [
    "variaveis['cd_tipo_situacao'].unique()"
   ]
  },
  {
   "cell_type": "code",
   "execution_count": 12,
   "id": "59127408-485c-4ed7-863e-44a47440d3e6",
   "metadata": {},
   "outputs": [],
   "source": [
    "variaveis.drop('cd_tipo_situacao', axis=1, inplace=True)"
   ]
  },
  {
   "cell_type": "code",
   "execution_count": 13,
   "id": "cc22ed71-6057-4932-837f-c4173db43887",
   "metadata": {},
   "outputs": [
    {
     "data": {
      "text/html": [
       "<div>\n",
       "<style scoped>\n",
       "    .dataframe tbody tr th:only-of-type {\n",
       "        vertical-align: middle;\n",
       "    }\n",
       "\n",
       "    .dataframe tbody tr th {\n",
       "        vertical-align: top;\n",
       "    }\n",
       "\n",
       "    .dataframe thead th {\n",
       "        text-align: right;\n",
       "    }\n",
       "</style>\n",
       "<table border=\"1\" class=\"dataframe\">\n",
       "  <thead>\n",
       "    <tr style=\"text-align: right;\">\n",
       "      <th></th>\n",
       "      <th>cd_variavel</th>\n",
       "      <th>nm_resumido_variavel</th>\n",
       "      <th>nm_completo_variavel</th>\n",
       "      <th>dt_atualizacao</th>\n",
       "      <th>tx_fonte_variavel</th>\n",
       "      <th>dc_unidade_territorial</th>\n",
       "    </tr>\n",
       "  </thead>\n",
       "  <tbody>\n",
       "    <tr>\n",
       "      <th>0</th>\n",
       "      <td>623</td>\n",
       "      <td>V0581</td>\n",
       "      <td>Iniciativas reconhecidas - promoção da inclusã...</td>\n",
       "      <td>2022-01-04 12:35:22.375697</td>\n",
       "      <td>Secretaria Municipal de Direitos Humanos e Cid...</td>\n",
       "      <td>Município</td>\n",
       "    </tr>\n",
       "    <tr>\n",
       "      <th>1</th>\n",
       "      <td>192</td>\n",
       "      <td>V0151</td>\n",
       "      <td>Valor liquidado no orçamento da Prefeitura Mun...</td>\n",
       "      <td>2021-12-16 11:20:38.630103</td>\n",
       "      <td>Secretaria Municipal da Fazenda (SMF)</td>\n",
       "      <td>Município</td>\n",
       "    </tr>\n",
       "    <tr>\n",
       "      <th>2</th>\n",
       "      <td>751</td>\n",
       "      <td>V0709</td>\n",
       "      <td>Número de pessoas em situação de rua</td>\n",
       "      <td>2022-01-11 15:53:11.800363</td>\n",
       "      <td>Secretaria Municipal de Assistência Social (SM...</td>\n",
       "      <td>Município; Distrito; Subprefeitura</td>\n",
       "    </tr>\n",
       "    <tr>\n",
       "      <th>3</th>\n",
       "      <td>752</td>\n",
       "      <td>V0710</td>\n",
       "      <td>Adolescentes cumprindo medidas socioeducativas</td>\n",
       "      <td>2022-01-17 13:43:30.992192</td>\n",
       "      <td>Secretaria Municipal de Assistência e Desenvol...</td>\n",
       "      <td>Município</td>\n",
       "    </tr>\n",
       "    <tr>\n",
       "      <th>4</th>\n",
       "      <td>753</td>\n",
       "      <td>V0711</td>\n",
       "      <td>Estrangeiros acolhidos na rede socioassistenci...</td>\n",
       "      <td>2022-01-17 13:55:15.038445</td>\n",
       "      <td>Secretaria Municipal de Assistência e Desenvol...</td>\n",
       "      <td>Município</td>\n",
       "    </tr>\n",
       "  </tbody>\n",
       "</table>\n",
       "</div>"
      ],
      "text/plain": [
       "  cd_variavel nm_resumido_variavel  \\\n",
       "0         623                V0581   \n",
       "1         192                V0151   \n",
       "2         751                V0709   \n",
       "3         752                V0710   \n",
       "4         753                V0711   \n",
       "\n",
       "                                nm_completo_variavel  \\\n",
       "0  Iniciativas reconhecidas - promoção da inclusã...   \n",
       "1  Valor liquidado no orçamento da Prefeitura Mun...   \n",
       "2               Número de pessoas em situação de rua   \n",
       "3     Adolescentes cumprindo medidas socioeducativas   \n",
       "4  Estrangeiros acolhidos na rede socioassistenci...   \n",
       "\n",
       "              dt_atualizacao  \\\n",
       "0 2022-01-04 12:35:22.375697   \n",
       "1 2021-12-16 11:20:38.630103   \n",
       "2 2022-01-11 15:53:11.800363   \n",
       "3 2022-01-17 13:43:30.992192   \n",
       "4 2022-01-17 13:55:15.038445   \n",
       "\n",
       "                                   tx_fonte_variavel  \\\n",
       "0  Secretaria Municipal de Direitos Humanos e Cid...   \n",
       "1              Secretaria Municipal da Fazenda (SMF)   \n",
       "2  Secretaria Municipal de Assistência Social (SM...   \n",
       "3  Secretaria Municipal de Assistência e Desenvol...   \n",
       "4  Secretaria Municipal de Assistência e Desenvol...   \n",
       "\n",
       "               dc_unidade_territorial  \n",
       "0                           Município  \n",
       "1                           Município  \n",
       "2  Município; Distrito; Subprefeitura  \n",
       "3                           Município  \n",
       "4                           Município  "
      ]
     },
     "execution_count": 13,
     "metadata": {},
     "output_type": "execute_result"
    }
   ],
   "source": [
    "variaveis.head()"
   ]
  },
  {
   "cell_type": "code",
   "execution_count": 14,
   "id": "5669a816-d93d-4c0f-ba81-310b89e88446",
   "metadata": {},
   "outputs": [],
   "source": [
    "def fonte_as_txt(val):\n",
    "    \n",
    "    if pd.isnull(val):\n",
    "        return ''\n",
    "    try:\n",
    "        fonte_arr = json.loads(val)\n",
    "    except JSONDecodeError:\n",
    "        val = val.strip()\n",
    "        if len(val)>1:\n",
    "            return val\n",
    "    fonte_arr = json.loads(val)\n",
    "    noms = [fonte['nm_fonte'] for fonte\n",
    "            in fonte_arr if fonte.get('nm_fonte')]\n",
    "    \n",
    "    return '; '.join(noms)"
   ]
  },
  {
   "cell_type": "code",
   "execution_count": 15,
   "id": "b3a43004-dcbb-4e9a-bdd2-dd2344a828b0",
   "metadata": {},
   "outputs": [],
   "source": [
    "variaveis['tx_fonte_variavel'] = variaveis['tx_fonte_variavel'].apply(fonte_as_txt)"
   ]
  },
  {
   "cell_type": "code",
   "execution_count": 16,
   "id": "34bd6a89-3133-42a0-bcb3-1a16c7cac409",
   "metadata": {},
   "outputs": [
    {
     "data": {
      "text/plain": [
       "array(['Secretaria Municipal de Direitos Humanos e Cidadania (SMDHC)',\n",
       "       'Secretaria Municipal da Fazenda (SMF)',\n",
       "       'Secretaria Municipal de Assistência Social (SMADS)',\n",
       "       'Secretaria Municipal de Assistência e Desenvolvimento Social (SMADS)',\n",
       "       'Secretaria Municipal de Cultura (SMC); Coordenadoria do Sistema Municipal de Bibliotecas (CSMB)',\n",
       "       'Secretaria Municipal de Mobilidade e Trânsito (SMT); Companhia de Engenharia de Tráfego (CET); Gestão Urbana SP - Secretaria Municipal de Urbanismo e Licenciamento (SMUL); Câmara Municipal de São Paulo (CMSP)',\n",
       "       'Fundação Sistema Estadual de Análise de Dados (SEADE)',\n",
       "       'Secretaria Municipal do Verde e Meio Ambiente (SVMA); CEA - UMAPAZ',\n",
       "       'Secretaria de Segurança Pública (SSP); Secretaria Municipal de Direitos Humanos e Cidadania (SMDHC)',\n",
       "       'Pesquisa Origem-Destino Metrô SP; Secretaria Municipal de Mobilidade e Trânsito (SMT)'],\n",
       "      dtype=object)"
      ]
     },
     "execution_count": 16,
     "metadata": {},
     "output_type": "execute_result"
    }
   ],
   "source": [
    "variaveis['tx_fonte_variavel'].unique()[:10]"
   ]
  },
  {
   "cell_type": "code",
   "execution_count": 17,
   "id": "76b61994-db9d-4ed1-95e9-4c548e61816b",
   "metadata": {},
   "outputs": [],
   "source": [
    "indi = q('indicador', limit=None)"
   ]
  },
  {
   "cell_type": "code",
   "execution_count": 18,
   "id": "f702dbc0-59d0-45a5-be80-05c248843bce",
   "metadata": {},
   "outputs": [
    {
     "data": {
      "text/plain": [
       "Index(['cd_indicador', 'nm_indicador', 'dc_formula_indicador',\n",
       "       'dc_conceito_indicador', 'dc_interpretacao_indicador',\n",
       "       'dc_nota_tecnica', 'in_visibilidade', 'cd_tipo_situacao',\n",
       "       'dt_atualizacao', 'cd_operador', 'cd_tipo_unidade_medida', 'cd_fonte',\n",
       "       'nm_completo_indicador', 'dc_periodicidade_indicador',\n",
       "       'dc_unidade_territorial', 'dc_serie_historica', 'dc_tag_indicador',\n",
       "       'dc_observacao_indicador', 'tx_fonte_indicador',\n",
       "       'in_consideracao_regiao'],\n",
       "      dtype='object')"
      ]
     },
     "execution_count": 18,
     "metadata": {},
     "output_type": "execute_result"
    }
   ],
   "source": [
    "indi.keys()"
   ]
  },
  {
   "cell_type": "code",
   "execution_count": 19,
   "id": "d7bed747-d802-4cd3-b312-7a52286e33d7",
   "metadata": {},
   "outputs": [],
   "source": [
    "indi=indi[indi['cd_tipo_situacao']==1].reset_index(drop=True)"
   ]
  },
  {
   "cell_type": "code",
   "execution_count": 20,
   "id": "b658bf62-e09f-4837-8bea-222418a7a2c6",
   "metadata": {},
   "outputs": [],
   "source": [
    "nom_vars = set(variaveis['nm_resumido_variavel'])\n",
    "mapeamento_formulas = {}\n",
    "\n",
    "for i, row in indi.iterrows():\n",
    "    formula = row['dc_formula_indicador'] \n",
    "    formula = json.loads(formula)\n",
    "    for item in formula:\n",
    "        var_name = item.get('caractere')\n",
    "        if var_name in nom_vars:\n",
    "            if var_name not in mapeamento_formulas:\n",
    "                mapeamento_formulas[var_name] = []\n",
    "            mapeamento_formulas[var_name].append(str(row['cd_indicador']))\n",
    "        \n",
    "for var_name, indis in mapeamento_formulas.items():\n",
    "    \n",
    "    mapeamento_formulas[var_name] = '; '.join(indis)"
   ]
  },
  {
   "cell_type": "code",
   "execution_count": 21,
   "id": "d22bbc8e-b7a5-4a1a-8e3b-b027c1b0a503",
   "metadata": {},
   "outputs": [],
   "source": [
    "variaveis['indicadores'] = variaveis['nm_resumido_variavel'].apply(lambda x:\n",
    "                                                          mapeamento_formulas.get(x, ''))"
   ]
  },
  {
   "cell_type": "code",
   "execution_count": 22,
   "id": "86937609-2c84-435e-af95-231300cf64bf",
   "metadata": {},
   "outputs": [],
   "source": [
    "results = q('variavel_resultado', limit=None)"
   ]
  },
  {
   "cell_type": "code",
   "execution_count": 23,
   "id": "c1a1d5dd-ba6c-4c61-a578-86678d503c4c",
   "metadata": {},
   "outputs": [
    {
     "data": {
      "text/html": [
       "<div>\n",
       "<style scoped>\n",
       "    .dataframe tbody tr th:only-of-type {\n",
       "        vertical-align: middle;\n",
       "    }\n",
       "\n",
       "    .dataframe tbody tr th {\n",
       "        vertical-align: top;\n",
       "    }\n",
       "\n",
       "    .dataframe thead th {\n",
       "        text-align: right;\n",
       "    }\n",
       "</style>\n",
       "<table border=\"1\" class=\"dataframe\">\n",
       "  <thead>\n",
       "    <tr style=\"text-align: right;\">\n",
       "      <th></th>\n",
       "      <th>cd_sequencia_variavel_resultado</th>\n",
       "      <th>cd_periodo</th>\n",
       "      <th>cd_variavel</th>\n",
       "      <th>cd_regiao</th>\n",
       "      <th>cd_tipo_situacao</th>\n",
       "      <th>cd_tipo_origem</th>\n",
       "      <th>vl_variavel_resultado</th>\n",
       "      <th>dt_atualizacao</th>\n",
       "      <th>cd_do_operador</th>\n",
       "    </tr>\n",
       "  </thead>\n",
       "  <tbody>\n",
       "    <tr>\n",
       "      <th>80178</th>\n",
       "      <td>25686</td>\n",
       "      <td>37</td>\n",
       "      <td>89</td>\n",
       "      <td>112</td>\n",
       "      <td>1</td>\n",
       "      <td>1</td>\n",
       "      <td>731.0000</td>\n",
       "      <td>2019-09-10 12:28:47.070058</td>\n",
       "      <td>None</td>\n",
       "    </tr>\n",
       "    <tr>\n",
       "      <th>111756</th>\n",
       "      <td>114994</td>\n",
       "      <td>39</td>\n",
       "      <td>40</td>\n",
       "      <td>4</td>\n",
       "      <td>1</td>\n",
       "      <td>1</td>\n",
       "      <td>8448.0000</td>\n",
       "      <td>2020-06-04 16:45:47.741256</td>\n",
       "      <td>None</td>\n",
       "    </tr>\n",
       "    <tr>\n",
       "      <th>55828</th>\n",
       "      <td>3540</td>\n",
       "      <td>27</td>\n",
       "      <td>49</td>\n",
       "      <td>107</td>\n",
       "      <td>1</td>\n",
       "      <td>1</td>\n",
       "      <td>10672.0000</td>\n",
       "      <td>2019-07-10 10:19:40.717373</td>\n",
       "      <td>184147</td>\n",
       "    </tr>\n",
       "    <tr>\n",
       "      <th>60384</th>\n",
       "      <td>6392</td>\n",
       "      <td>21</td>\n",
       "      <td>31</td>\n",
       "      <td>173</td>\n",
       "      <td>1</td>\n",
       "      <td>1</td>\n",
       "      <td>11308.0000</td>\n",
       "      <td>2019-06-25 11:45:33.516393</td>\n",
       "      <td>184147</td>\n",
       "    </tr>\n",
       "    <tr>\n",
       "      <th>33253</th>\n",
       "      <td>32677</td>\n",
       "      <td>39</td>\n",
       "      <td>122</td>\n",
       "      <td>159</td>\n",
       "      <td>1</td>\n",
       "      <td>1</td>\n",
       "      <td>54.0000</td>\n",
       "      <td>2019-07-12 16:51:30.728414</td>\n",
       "      <td>None</td>\n",
       "    </tr>\n",
       "  </tbody>\n",
       "</table>\n",
       "</div>"
      ],
      "text/plain": [
       "        cd_sequencia_variavel_resultado cd_periodo cd_variavel cd_regiao  \\\n",
       "80178                             25686         37          89       112   \n",
       "111756                           114994         39          40         4   \n",
       "55828                              3540         27          49       107   \n",
       "60384                              6392         21          31       173   \n",
       "33253                             32677         39         122       159   \n",
       "\n",
       "        cd_tipo_situacao cd_tipo_origem vl_variavel_resultado  \\\n",
       "80178                  1              1              731.0000   \n",
       "111756                 1              1             8448.0000   \n",
       "55828                  1              1            10672.0000   \n",
       "60384                  1              1            11308.0000   \n",
       "33253                  1              1               54.0000   \n",
       "\n",
       "                   dt_atualizacao cd_do_operador  \n",
       "80178  2019-09-10 12:28:47.070058           None  \n",
       "111756 2020-06-04 16:45:47.741256           None  \n",
       "55828  2019-07-10 10:19:40.717373         184147  \n",
       "60384  2019-06-25 11:45:33.516393         184147  \n",
       "33253  2019-07-12 16:51:30.728414           None  "
      ]
     },
     "execution_count": 23,
     "metadata": {},
     "output_type": "execute_result"
    }
   ],
   "source": [
    "results.sample(5)"
   ]
  },
  {
   "cell_type": "code",
   "execution_count": 24,
   "id": "0ac0d4b0-e525-46f7-881b-7364a0cf2a64",
   "metadata": {},
   "outputs": [],
   "source": [
    "periodos = q('periodo', limit=None)"
   ]
  },
  {
   "cell_type": "code",
   "execution_count": 25,
   "id": "be212a7b-cbcc-45e2-89ea-b1e47d7f79c8",
   "metadata": {},
   "outputs": [],
   "source": [
    "periodos = periodos[periodos['cd_tipo_situacao']==1].reset_index(drop=True)"
   ]
  },
  {
   "cell_type": "code",
   "execution_count": 26,
   "id": "6065395b-c8db-4526-b831-efba1bd77def",
   "metadata": {},
   "outputs": [],
   "source": [
    "de_para_periodos = dict(zip(periodos['cd_periodo'], periodos['vl_periodo']))"
   ]
  },
  {
   "cell_type": "code",
   "execution_count": 27,
   "id": "8c3bae03-8329-422d-92b8-0f9443cd74bf",
   "metadata": {},
   "outputs": [],
   "source": [
    "mapper_ultimo_periodo = {}\n",
    "\n",
    "for i, row in variaveis.iterrows():\n",
    "    \n",
    "    cd_variavel = row['cd_variavel']\n",
    "    \n",
    "    temp_df = results[results['cd_variavel']==cd_variavel].copy()\n",
    "    temp_df['periodo_num'] = temp_df['cd_periodo'].apply(lambda x: \n",
    "                                                         de_para_periodos.get(x, -1))\n",
    "    temp_df['periodo_num'] = temp_df['periodo_num'].astype(int)\n",
    "    \n",
    "    last_period = temp_df['periodo_num'].max()\n",
    "    \n",
    "    mapper_ultimo_periodo[cd_variavel] = last_period"
   ]
  },
  {
   "cell_type": "code",
   "execution_count": 28,
   "id": "508bd30f-df76-4a60-85b7-fd734c486497",
   "metadata": {},
   "outputs": [],
   "source": [
    "variaveis['ultimo_periodo_atualizado'] = variaveis['cd_variavel'].apply(lambda x:\n",
    "                                                                       mapper_ultimo_periodo.get(x)) "
   ]
  },
  {
   "cell_type": "code",
   "execution_count": 29,
   "id": "0118b8bc-0bc5-44e5-bba5-5b17de4bf803",
   "metadata": {},
   "outputs": [
    {
     "data": {
      "text/html": [
       "<div>\n",
       "<style scoped>\n",
       "    .dataframe tbody tr th:only-of-type {\n",
       "        vertical-align: middle;\n",
       "    }\n",
       "\n",
       "    .dataframe tbody tr th {\n",
       "        vertical-align: top;\n",
       "    }\n",
       "\n",
       "    .dataframe thead th {\n",
       "        text-align: right;\n",
       "    }\n",
       "</style>\n",
       "<table border=\"1\" class=\"dataframe\">\n",
       "  <thead>\n",
       "    <tr style=\"text-align: right;\">\n",
       "      <th></th>\n",
       "      <th>cd_variavel</th>\n",
       "      <th>nm_resumido_variavel</th>\n",
       "      <th>nm_completo_variavel</th>\n",
       "      <th>dt_atualizacao</th>\n",
       "      <th>tx_fonte_variavel</th>\n",
       "      <th>dc_unidade_territorial</th>\n",
       "      <th>indicadores</th>\n",
       "      <th>ultimo_periodo_atualizado</th>\n",
       "    </tr>\n",
       "  </thead>\n",
       "  <tbody>\n",
       "    <tr>\n",
       "      <th>53</th>\n",
       "      <td>403</td>\n",
       "      <td>V0361</td>\n",
       "      <td>Número de saídas hospitalares por óbito por In...</td>\n",
       "      <td>2021-12-27 15:42:59.164897</td>\n",
       "      <td>Secretaria Municipal da Saúde (SMS)</td>\n",
       "      <td>Município</td>\n",
       "      <td>350</td>\n",
       "      <td>2019.0</td>\n",
       "    </tr>\n",
       "    <tr>\n",
       "      <th>362</th>\n",
       "      <td>169</td>\n",
       "      <td>V0128</td>\n",
       "      <td>Matrículas - ensino médio todas as redes</td>\n",
       "      <td>2021-11-29 15:59:29.648914</td>\n",
       "      <td>Censo escolar da educação básica do Ministério...</td>\n",
       "      <td>Município</td>\n",
       "      <td>131</td>\n",
       "      <td>2021.0</td>\n",
       "    </tr>\n",
       "    <tr>\n",
       "      <th>443</th>\n",
       "      <td>559</td>\n",
       "      <td>V0517</td>\n",
       "      <td>Número de agentes públicos municipais concluin...</td>\n",
       "      <td>2022-09-15 16:47:57.765445</td>\n",
       "      <td>Secretaria de Governo Municipal (SGM)</td>\n",
       "      <td>Município</td>\n",
       "      <td>503</td>\n",
       "      <td>2021.0</td>\n",
       "    </tr>\n",
       "    <tr>\n",
       "      <th>652</th>\n",
       "      <td>194</td>\n",
       "      <td>V0153</td>\n",
       "      <td>Valor liquidado no orçamento da Prefeitura Mun...</td>\n",
       "      <td>2021-11-29 17:14:46.819674</td>\n",
       "      <td>Secretaria Municipal da Fazenda (SMF)</td>\n",
       "      <td>Município</td>\n",
       "      <td>155</td>\n",
       "      <td>2021.0</td>\n",
       "    </tr>\n",
       "    <tr>\n",
       "      <th>455</th>\n",
       "      <td>721</td>\n",
       "      <td>V0679</td>\n",
       "      <td>Moradias em setores de risco geológico alto e ...</td>\n",
       "      <td>2022-01-04 17:54:34.166875</td>\n",
       "      <td>Instituto de Pesquisas Tecnológicas do Estado ...</td>\n",
       "      <td>Subprefeitura, Município</td>\n",
       "      <td>636</td>\n",
       "      <td>2021.0</td>\n",
       "    </tr>\n",
       "  </tbody>\n",
       "</table>\n",
       "</div>"
      ],
      "text/plain": [
       "    cd_variavel nm_resumido_variavel  \\\n",
       "53          403                V0361   \n",
       "362         169                V0128   \n",
       "443         559                V0517   \n",
       "652         194                V0153   \n",
       "455         721                V0679   \n",
       "\n",
       "                                  nm_completo_variavel  \\\n",
       "53   Número de saídas hospitalares por óbito por In...   \n",
       "362           Matrículas - ensino médio todas as redes   \n",
       "443  Número de agentes públicos municipais concluin...   \n",
       "652  Valor liquidado no orçamento da Prefeitura Mun...   \n",
       "455  Moradias em setores de risco geológico alto e ...   \n",
       "\n",
       "                dt_atualizacao  \\\n",
       "53  2021-12-27 15:42:59.164897   \n",
       "362 2021-11-29 15:59:29.648914   \n",
       "443 2022-09-15 16:47:57.765445   \n",
       "652 2021-11-29 17:14:46.819674   \n",
       "455 2022-01-04 17:54:34.166875   \n",
       "\n",
       "                                     tx_fonte_variavel  \\\n",
       "53                 Secretaria Municipal da Saúde (SMS)   \n",
       "362  Censo escolar da educação básica do Ministério...   \n",
       "443              Secretaria de Governo Municipal (SGM)   \n",
       "652              Secretaria Municipal da Fazenda (SMF)   \n",
       "455  Instituto de Pesquisas Tecnológicas do Estado ...   \n",
       "\n",
       "       dc_unidade_territorial indicadores  ultimo_periodo_atualizado  \n",
       "53                  Município         350                     2019.0  \n",
       "362                 Município         131                     2021.0  \n",
       "443                 Município         503                     2021.0  \n",
       "652                 Município         155                     2021.0  \n",
       "455  Subprefeitura, Município         636                     2021.0  "
      ]
     },
     "execution_count": 29,
     "metadata": {},
     "output_type": "execute_result"
    }
   ],
   "source": [
    "variaveis.sample(5)"
   ]
  },
  {
   "cell_type": "code",
   "execution_count": 30,
   "id": "52a3215b-9e93-4646-ac52-e6a61063a091",
   "metadata": {},
   "outputs": [],
   "source": [
    "from config import data_folder\n",
    "from core.utils.utils import solve_path"
   ]
  },
  {
   "cell_type": "code",
   "execution_count": 31,
   "id": "c7fc4239-b1f2-4f4f-9262-4749de96c38a",
   "metadata": {},
   "outputs": [],
   "source": [
    "fname = solve_path('report_variaveis.xlsx', parent=data_folder)"
   ]
  },
  {
   "cell_type": "code",
   "execution_count": 32,
   "id": "bb8088f1-77cf-4f9e-ad64-d1f6e85779d7",
   "metadata": {},
   "outputs": [],
   "source": [
    "variaveis.to_excel(fname, index=False)"
   ]
  },
  {
   "cell_type": "code",
   "execution_count": null,
   "id": "85845b0c-4cf2-4f6f-a23d-eca8982c3db9",
   "metadata": {},
   "outputs": [],
   "source": []
  }
 ],
 "metadata": {
  "kernelspec": {
   "display_name": "Python 3 (ipykernel)",
   "language": "python",
   "name": "python3"
  },
  "language_info": {
   "codemirror_mode": {
    "name": "ipython",
    "version": 3
   },
   "file_extension": ".py",
   "mimetype": "text/x-python",
   "name": "python",
   "nbconvert_exporter": "python",
   "pygments_lexer": "ipython3",
   "version": "3.9.7"
  }
 },
 "nbformat": 4,
 "nbformat_minor": 5
}
