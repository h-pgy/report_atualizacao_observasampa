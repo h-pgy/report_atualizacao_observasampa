{
 "cells": [
  {
   "cell_type": "code",
   "execution_count": 1,
   "id": "9a242424-67f7-4088-a37b-2b3c97f79524",
   "metadata": {},
   "outputs": [],
   "source": [
    "import pandas as pd\n",
    "import json\n",
    "from json import JSONDecodeError"
   ]
  },
  {
   "cell_type": "code",
   "execution_count": 2,
   "id": "dc72ec21-deec-4957-9025-f6359ec45503",
   "metadata": {},
   "outputs": [],
   "source": [
    "from core.dao import QueryMaker"
   ]
  },
  {
   "cell_type": "code",
   "execution_count": 3,
   "id": "c4128bfb-d992-479f-9ed3-43cc09dac973",
   "metadata": {},
   "outputs": [],
   "source": [
    "q = QueryMaker()"
   ]
  },
  {
   "cell_type": "code",
   "execution_count": 4,
   "id": "64b36d64-cd3f-46bb-b7c4-af0264c4466f",
   "metadata": {},
   "outputs": [
    {
     "data": {
      "text/plain": [
       "['gerenciador_dashboard',\n",
       " 'auditoria_tabela',\n",
       " 'conteudo',\n",
       " 'estatistica_acesso',\n",
       " 'fonte',\n",
       " 'indicador',\n",
       " 'indicador_resultado',\n",
       " 'indicador_tema',\n",
       " 'nivel_regiao',\n",
       " 'parametro_sistema',\n",
       " 'periodo',\n",
       " 'regiao',\n",
       " 'tema',\n",
       " 'tipo_conteudo',\n",
       " 'tipo_origem',\n",
       " 'tipo_periodo',\n",
       " 'tipo_situacao',\n",
       " 'tipo_unidade_medida',\n",
       " 'variavel',\n",
       " 'variavel_indicador',\n",
       " 'variavel_resultado']"
      ]
     },
     "execution_count": 4,
     "metadata": {},
     "output_type": "execute_result"
    }
   ],
   "source": [
    "q.list_tables()"
   ]
  },
  {
   "cell_type": "code",
   "execution_count": 5,
   "id": "1e4cefd5-6feb-47de-99a2-d2ba50a9baca",
   "metadata": {},
   "outputs": [],
   "source": [
    "variaveis = q('variavel', limit=None)"
   ]
  },
  {
   "cell_type": "code",
   "execution_count": 6,
   "id": "09db3a93-666d-4b4e-999e-9b30b8cc3924",
   "metadata": {},
   "outputs": [
    {
     "data": {
      "text/plain": [
       "Index(['cd_variavel', 'nm_resumido_variavel', 'nm_completo_variavel',\n",
       "       'dt_atualizacao', 'cd_operador', 'cd_fonte', 'cd_tipo_situacao',\n",
       "       'nm_apelido_variavel', 'dc_periodo_atualizacao', 'in_variavel_basica',\n",
       "       'dc_unidade_variavel', 'dc_periodicidade_variavel',\n",
       "       'dc_unidade_territorial', 'dc_serie_historica', 'dc_nota_tecnica',\n",
       "       'dc_observacao_variavel', 'tx_fonte_variavel'],\n",
       "      dtype='object')"
      ]
     },
     "execution_count": 6,
     "metadata": {},
     "output_type": "execute_result"
    }
   ],
   "source": [
    "variaveis.keys()"
   ]
  },
  {
   "cell_type": "code",
   "execution_count": 7,
   "id": "bbbc0f53-b49c-4886-86f9-d32adb4e0965",
   "metadata": {},
   "outputs": [
    {
     "data": {
      "text/html": [
       "<div>\n",
       "<style scoped>\n",
       "    .dataframe tbody tr th:only-of-type {\n",
       "        vertical-align: middle;\n",
       "    }\n",
       "\n",
       "    .dataframe tbody tr th {\n",
       "        vertical-align: top;\n",
       "    }\n",
       "\n",
       "    .dataframe thead th {\n",
       "        text-align: right;\n",
       "    }\n",
       "</style>\n",
       "<table border=\"1\" class=\"dataframe\">\n",
       "  <thead>\n",
       "    <tr style=\"text-align: right;\">\n",
       "      <th></th>\n",
       "      <th>cd_tipo_situacao</th>\n",
       "      <th>dc_tipo_situacao</th>\n",
       "      <th>dt_atualizacao</th>\n",
       "      <th>cd_operador</th>\n",
       "    </tr>\n",
       "  </thead>\n",
       "  <tbody>\n",
       "    <tr>\n",
       "      <th>0</th>\n",
       "      <td>1</td>\n",
       "      <td>ATIVO</td>\n",
       "      <td>2018-11-30 15:36:38</td>\n",
       "      <td>21433</td>\n",
       "    </tr>\n",
       "    <tr>\n",
       "      <th>1</th>\n",
       "      <td>2</td>\n",
       "      <td>INATIVO</td>\n",
       "      <td>2018-11-30 15:36:38</td>\n",
       "      <td>21433</td>\n",
       "    </tr>\n",
       "    <tr>\n",
       "      <th>2</th>\n",
       "      <td>3</td>\n",
       "      <td>EXCLUIDO</td>\n",
       "      <td>2018-11-30 15:36:38</td>\n",
       "      <td>21433</td>\n",
       "    </tr>\n",
       "  </tbody>\n",
       "</table>\n",
       "</div>"
      ],
      "text/plain": [
       "   cd_tipo_situacao dc_tipo_situacao      dt_atualizacao cd_operador\n",
       "0                 1            ATIVO 2018-11-30 15:36:38       21433\n",
       "1                 2          INATIVO 2018-11-30 15:36:38       21433\n",
       "2                 3         EXCLUIDO 2018-11-30 15:36:38       21433"
      ]
     },
     "execution_count": 7,
     "metadata": {},
     "output_type": "execute_result"
    }
   ],
   "source": [
    "q('tipo_situacao')"
   ]
  },
  {
   "cell_type": "code",
   "execution_count": 8,
   "id": "951a1422-a103-442d-b5d8-e9626870a912",
   "metadata": {},
   "outputs": [],
   "source": [
    "variaveis = variaveis[variaveis['cd_tipo_situacao']==1].copy().reset_index(drop=True)"
   ]
  },
  {
   "cell_type": "code",
   "execution_count": 9,
   "id": "087398d0-b8de-45f4-91d3-fed915b921a5",
   "metadata": {},
   "outputs": [],
   "source": [
    "colunas = ['cd_variavel', 'nm_resumido_variavel', 'nm_completo_variavel',\n",
    "       'dt_atualizacao', 'tx_fonte_variavel', 'cd_tipo_situacao', 'dc_unidade_territorial']"
   ]
  },
  {
   "cell_type": "code",
   "execution_count": 10,
   "id": "b536dda7-1e36-4b4e-8373-57407e90b829",
   "metadata": {},
   "outputs": [],
   "source": [
    "variaveis = variaveis[colunas].copy()"
   ]
  },
  {
   "cell_type": "code",
   "execution_count": 11,
   "id": "f935fd08-1298-477d-afbb-89fc8bd4e501",
   "metadata": {},
   "outputs": [
    {
     "data": {
      "text/plain": [
       "array([1], dtype=int64)"
      ]
     },
     "execution_count": 11,
     "metadata": {},
     "output_type": "execute_result"
    }
   ],
   "source": [
    "variaveis['cd_tipo_situacao'].unique()"
   ]
  },
  {
   "cell_type": "code",
   "execution_count": 12,
   "id": "59127408-485c-4ed7-863e-44a47440d3e6",
   "metadata": {},
   "outputs": [],
   "source": [
    "variaveis.drop('cd_tipo_situacao', axis=1, inplace=True)"
   ]
  },
  {
   "cell_type": "code",
   "execution_count": 13,
   "id": "cc22ed71-6057-4932-837f-c4173db43887",
   "metadata": {},
   "outputs": [
    {
     "data": {
      "text/html": [
       "<div>\n",
       "<style scoped>\n",
       "    .dataframe tbody tr th:only-of-type {\n",
       "        vertical-align: middle;\n",
       "    }\n",
       "\n",
       "    .dataframe tbody tr th {\n",
       "        vertical-align: top;\n",
       "    }\n",
       "\n",
       "    .dataframe thead th {\n",
       "        text-align: right;\n",
       "    }\n",
       "</style>\n",
       "<table border=\"1\" class=\"dataframe\">\n",
       "  <thead>\n",
       "    <tr style=\"text-align: right;\">\n",
       "      <th></th>\n",
       "      <th>cd_variavel</th>\n",
       "      <th>nm_resumido_variavel</th>\n",
       "      <th>nm_completo_variavel</th>\n",
       "      <th>dt_atualizacao</th>\n",
       "      <th>tx_fonte_variavel</th>\n",
       "      <th>dc_unidade_territorial</th>\n",
       "    </tr>\n",
       "  </thead>\n",
       "  <tbody>\n",
       "    <tr>\n",
       "      <th>0</th>\n",
       "      <td>623</td>\n",
       "      <td>V0581</td>\n",
       "      <td>Iniciativas reconhecidas - promoção da inclusã...</td>\n",
       "      <td>2022-01-04 12:35:22.375697</td>\n",
       "      <td>Secretaria Municipal de Direitos Humanos e Cid...</td>\n",
       "      <td>Município</td>\n",
       "    </tr>\n",
       "    <tr>\n",
       "      <th>1</th>\n",
       "      <td>192</td>\n",
       "      <td>V0151</td>\n",
       "      <td>Valor liquidado no orçamento da Prefeitura Mun...</td>\n",
       "      <td>2021-12-16 11:20:38.630103</td>\n",
       "      <td>Secretaria Municipal da Fazenda (SMF)</td>\n",
       "      <td>Município</td>\n",
       "    </tr>\n",
       "    <tr>\n",
       "      <th>2</th>\n",
       "      <td>752</td>\n",
       "      <td>V0710</td>\n",
       "      <td>Adolescentes cumprindo medidas socioeducativas</td>\n",
       "      <td>2022-01-17 13:43:30.992192</td>\n",
       "      <td>Secretaria Municipal de Assistência e Desenvol...</td>\n",
       "      <td>Município</td>\n",
       "    </tr>\n",
       "    <tr>\n",
       "      <th>3</th>\n",
       "      <td>731</td>\n",
       "      <td>V0689</td>\n",
       "      <td>Número de setores com risco hidrológico alto (...</td>\n",
       "      <td>2023-07-11 15:15:02.905933</td>\n",
       "      <td>Secretaria Municipal de Segurança Urbana (SMSU...</td>\n",
       "      <td>Município</td>\n",
       "    </tr>\n",
       "    <tr>\n",
       "      <th>4</th>\n",
       "      <td>753</td>\n",
       "      <td>V0711</td>\n",
       "      <td>Estrangeiros acolhidos na rede socioassistenci...</td>\n",
       "      <td>2022-01-17 13:55:15.038445</td>\n",
       "      <td>Secretaria Municipal de Assistência e Desenvol...</td>\n",
       "      <td>Município</td>\n",
       "    </tr>\n",
       "  </tbody>\n",
       "</table>\n",
       "</div>"
      ],
      "text/plain": [
       "  cd_variavel nm_resumido_variavel  \\\n",
       "0         623                V0581   \n",
       "1         192                V0151   \n",
       "2         752                V0710   \n",
       "3         731                V0689   \n",
       "4         753                V0711   \n",
       "\n",
       "                                nm_completo_variavel  \\\n",
       "0  Iniciativas reconhecidas - promoção da inclusã...   \n",
       "1  Valor liquidado no orçamento da Prefeitura Mun...   \n",
       "2     Adolescentes cumprindo medidas socioeducativas   \n",
       "3  Número de setores com risco hidrológico alto (...   \n",
       "4  Estrangeiros acolhidos na rede socioassistenci...   \n",
       "\n",
       "              dt_atualizacao  \\\n",
       "0 2022-01-04 12:35:22.375697   \n",
       "1 2021-12-16 11:20:38.630103   \n",
       "2 2022-01-17 13:43:30.992192   \n",
       "3 2023-07-11 15:15:02.905933   \n",
       "4 2022-01-17 13:55:15.038445   \n",
       "\n",
       "                                   tx_fonte_variavel dc_unidade_territorial  \n",
       "0  Secretaria Municipal de Direitos Humanos e Cid...              Município  \n",
       "1              Secretaria Municipal da Fazenda (SMF)              Município  \n",
       "2  Secretaria Municipal de Assistência e Desenvol...              Município  \n",
       "3  Secretaria Municipal de Segurança Urbana (SMSU...              Município  \n",
       "4  Secretaria Municipal de Assistência e Desenvol...              Município  "
      ]
     },
     "execution_count": 13,
     "metadata": {},
     "output_type": "execute_result"
    }
   ],
   "source": [
    "variaveis.head()"
   ]
  },
  {
   "cell_type": "code",
   "execution_count": 14,
   "id": "5669a816-d93d-4c0f-ba81-310b89e88446",
   "metadata": {},
   "outputs": [],
   "source": [
    "def fonte_as_txt(val):\n",
    "    \n",
    "    if pd.isnull(val):\n",
    "        return ''\n",
    "    try:\n",
    "        fonte_arr = json.loads(val)\n",
    "    except JSONDecodeError:\n",
    "        val = val.strip()\n",
    "        if len(val)>1:\n",
    "            return val\n",
    "    fonte_arr = json.loads(val)\n",
    "    noms = [fonte['nm_fonte'] for fonte\n",
    "            in fonte_arr if fonte.get('nm_fonte')]\n",
    "    \n",
    "    return '; '.join(noms)"
   ]
  },
  {
   "cell_type": "code",
   "execution_count": 15,
   "id": "b3a43004-dcbb-4e9a-bdd2-dd2344a828b0",
   "metadata": {},
   "outputs": [],
   "source": [
    "variaveis['tx_fonte_variavel'] = variaveis['tx_fonte_variavel'].apply(fonte_as_txt)"
   ]
  },
  {
   "cell_type": "code",
   "execution_count": 16,
   "id": "34bd6a89-3133-42a0-bcb3-1a16c7cac409",
   "metadata": {},
   "outputs": [
    {
     "data": {
      "text/plain": [
       "array(['Secretaria Municipal de Direitos Humanos e Cidadania (SMDHC)',\n",
       "       'Secretaria Municipal da Fazenda (SMF)',\n",
       "       'Secretaria Municipal de Assistência e Desenvolvimento Social (SMADS)',\n",
       "       'Secretaria Municipal de Segurança Urbana (SMSU); Coordenação Municipal de Defesa Civil (COMDEC); Divisão de Prevenção (DPREV)',\n",
       "       'Secretaria Municipal de Cultura (SMC); Coordenadoria do Sistema Municipal de Bibliotecas (CSMB)',\n",
       "       'Secretaria Municipal de Mobilidade e Trânsito (SMT); Companhia de Engenharia de Tráfego (CET); Gestão Urbana SP - Secretaria Municipal de Urbanismo e Licenciamento (SMUL); Câmara Municipal de São Paulo (CMSP)',\n",
       "       'Fundação Sistema Estadual de Análise de Dados (SEADE)',\n",
       "       'Secretaria Municipal do Verde e Meio Ambiente (SVMA); CEA - UMAPAZ',\n",
       "       'Secretaria de Segurança Pública (SSP); Secretaria Municipal de Direitos Humanos e Cidadania (SMDHC)',\n",
       "       'Pesquisa Origem-Destino Metrô SP; Secretaria Municipal de Mobilidade e Trânsito (SMT)'],\n",
       "      dtype=object)"
      ]
     },
     "execution_count": 16,
     "metadata": {},
     "output_type": "execute_result"
    }
   ],
   "source": [
    "variaveis['tx_fonte_variavel'].unique()[:10]"
   ]
  },
  {
   "cell_type": "code",
   "execution_count": 17,
   "id": "76b61994-db9d-4ed1-95e9-4c548e61816b",
   "metadata": {},
   "outputs": [],
   "source": [
    "indi = q('indicador', limit=None)"
   ]
  },
  {
   "cell_type": "code",
   "execution_count": 18,
   "id": "f702dbc0-59d0-45a5-be80-05c248843bce",
   "metadata": {},
   "outputs": [
    {
     "data": {
      "text/plain": [
       "Index(['cd_indicador', 'nm_indicador', 'dc_formula_indicador',\n",
       "       'dc_conceito_indicador', 'dc_interpretacao_indicador',\n",
       "       'dc_nota_tecnica', 'in_visibilidade', 'cd_tipo_situacao',\n",
       "       'dt_atualizacao', 'cd_operador', 'cd_tipo_unidade_medida', 'cd_fonte',\n",
       "       'nm_completo_indicador', 'dc_periodicidade_indicador',\n",
       "       'dc_unidade_territorial', 'dc_serie_historica', 'dc_tag_indicador',\n",
       "       'dc_observacao_indicador', 'tx_fonte_indicador',\n",
       "       'in_consideracao_regiao'],\n",
       "      dtype='object')"
      ]
     },
     "execution_count": 18,
     "metadata": {},
     "output_type": "execute_result"
    }
   ],
   "source": [
    "indi.keys()"
   ]
  },
  {
   "cell_type": "code",
   "execution_count": 19,
   "id": "d7bed747-d802-4cd3-b312-7a52286e33d7",
   "metadata": {},
   "outputs": [],
   "source": [
    "indi=indi[indi['cd_tipo_situacao']==1].reset_index(drop=True)"
   ]
  },
  {
   "cell_type": "code",
   "execution_count": 20,
   "id": "b658bf62-e09f-4837-8bea-222418a7a2c6",
   "metadata": {},
   "outputs": [],
   "source": [
    "nom_vars = set(variaveis['nm_resumido_variavel'])\n",
    "mapeamento_formulas = {}\n",
    "\n",
    "for i, row in indi.iterrows():\n",
    "    formula = row['dc_formula_indicador'] \n",
    "    formula = json.loads(formula)\n",
    "    for item in formula:\n",
    "        var_name = item.get('caractere')\n",
    "        if var_name in nom_vars:\n",
    "            if var_name not in mapeamento_formulas:\n",
    "                mapeamento_formulas[var_name] = []\n",
    "            mapeamento_formulas[var_name].append(str(row['cd_indicador']))\n",
    "        \n",
    "for var_name, indis in mapeamento_formulas.items():\n",
    "    \n",
    "    mapeamento_formulas[var_name] = '; '.join(indis)"
   ]
  },
  {
   "cell_type": "code",
   "execution_count": 21,
   "id": "d22bbc8e-b7a5-4a1a-8e3b-b027c1b0a503",
   "metadata": {},
   "outputs": [],
   "source": [
    "variaveis['indicadores'] = variaveis['nm_resumido_variavel'].apply(lambda x:\n",
    "                                                          mapeamento_formulas.get(x, ''))"
   ]
  },
  {
   "cell_type": "code",
   "execution_count": 22,
   "id": "86937609-2c84-435e-af95-231300cf64bf",
   "metadata": {},
   "outputs": [],
   "source": [
    "results = q('variavel_resultado', limit=None)"
   ]
  },
  {
   "cell_type": "code",
   "execution_count": 23,
   "id": "c1a1d5dd-ba6c-4c61-a578-86678d503c4c",
   "metadata": {},
   "outputs": [
    {
     "data": {
      "text/html": [
       "<div>\n",
       "<style scoped>\n",
       "    .dataframe tbody tr th:only-of-type {\n",
       "        vertical-align: middle;\n",
       "    }\n",
       "\n",
       "    .dataframe tbody tr th {\n",
       "        vertical-align: top;\n",
       "    }\n",
       "\n",
       "    .dataframe thead th {\n",
       "        text-align: right;\n",
       "    }\n",
       "</style>\n",
       "<table border=\"1\" class=\"dataframe\">\n",
       "  <thead>\n",
       "    <tr style=\"text-align: right;\">\n",
       "      <th></th>\n",
       "      <th>cd_sequencia_variavel_resultado</th>\n",
       "      <th>cd_periodo</th>\n",
       "      <th>cd_variavel</th>\n",
       "      <th>cd_regiao</th>\n",
       "      <th>cd_tipo_situacao</th>\n",
       "      <th>cd_tipo_origem</th>\n",
       "      <th>vl_variavel_resultado</th>\n",
       "      <th>dt_atualizacao</th>\n",
       "      <th>cd_do_operador</th>\n",
       "    </tr>\n",
       "  </thead>\n",
       "  <tbody>\n",
       "    <tr>\n",
       "      <th>44893</th>\n",
       "      <td>139025</td>\n",
       "      <td>41</td>\n",
       "      <td>593</td>\n",
       "      <td>46</td>\n",
       "      <td>1</td>\n",
       "      <td>1</td>\n",
       "      <td>42829.0000</td>\n",
       "      <td>2021-10-19 12:24:12.263852</td>\n",
       "      <td>None</td>\n",
       "    </tr>\n",
       "    <tr>\n",
       "      <th>177258</th>\n",
       "      <td>176655</td>\n",
       "      <td>28</td>\n",
       "      <td>475</td>\n",
       "      <td>176</td>\n",
       "      <td>1</td>\n",
       "      <td>1</td>\n",
       "      <td>649.0000</td>\n",
       "      <td>2023-04-03 11:56:59.901308</td>\n",
       "      <td>None</td>\n",
       "    </tr>\n",
       "    <tr>\n",
       "      <th>180824</th>\n",
       "      <td>156931</td>\n",
       "      <td>37</td>\n",
       "      <td>477</td>\n",
       "      <td>191</td>\n",
       "      <td>1</td>\n",
       "      <td>1</td>\n",
       "      <td>4011.0000</td>\n",
       "      <td>2023-04-03 14:16:33.598237</td>\n",
       "      <td>None</td>\n",
       "    </tr>\n",
       "    <tr>\n",
       "      <th>15040</th>\n",
       "      <td>69316</td>\n",
       "      <td>35</td>\n",
       "      <td>344</td>\n",
       "      <td>191</td>\n",
       "      <td>1</td>\n",
       "      <td>1</td>\n",
       "      <td>25938.0000</td>\n",
       "      <td>2022-10-27 12:11:53.110042</td>\n",
       "      <td>None</td>\n",
       "    </tr>\n",
       "    <tr>\n",
       "      <th>116383</th>\n",
       "      <td>119535</td>\n",
       "      <td>40</td>\n",
       "      <td>128</td>\n",
       "      <td>19</td>\n",
       "      <td>1</td>\n",
       "      <td>1</td>\n",
       "      <td>23716.0000</td>\n",
       "      <td>2020-11-24 12:09:49.312861</td>\n",
       "      <td>None</td>\n",
       "    </tr>\n",
       "  </tbody>\n",
       "</table>\n",
       "</div>"
      ],
      "text/plain": [
       "        cd_sequencia_variavel_resultado cd_periodo cd_variavel cd_regiao  \\\n",
       "44893                            139025         41         593        46   \n",
       "177258                           176655         28         475       176   \n",
       "180824                           156931         37         477       191   \n",
       "15040                             69316         35         344       191   \n",
       "116383                           119535         40         128        19   \n",
       "\n",
       "        cd_tipo_situacao cd_tipo_origem vl_variavel_resultado  \\\n",
       "44893                  1              1            42829.0000   \n",
       "177258                 1              1              649.0000   \n",
       "180824                 1              1             4011.0000   \n",
       "15040                  1              1            25938.0000   \n",
       "116383                 1              1            23716.0000   \n",
       "\n",
       "                   dt_atualizacao cd_do_operador  \n",
       "44893  2021-10-19 12:24:12.263852           None  \n",
       "177258 2023-04-03 11:56:59.901308           None  \n",
       "180824 2023-04-03 14:16:33.598237           None  \n",
       "15040  2022-10-27 12:11:53.110042           None  \n",
       "116383 2020-11-24 12:09:49.312861           None  "
      ]
     },
     "execution_count": 23,
     "metadata": {},
     "output_type": "execute_result"
    }
   ],
   "source": [
    "results.sample(5)"
   ]
  },
  {
   "cell_type": "code",
   "execution_count": 24,
   "id": "0ac0d4b0-e525-46f7-881b-7364a0cf2a64",
   "metadata": {},
   "outputs": [],
   "source": [
    "periodos = q('periodo', limit=None)"
   ]
  },
  {
   "cell_type": "code",
   "execution_count": 25,
   "id": "420ba8f7-53b6-4ce0-82d7-09a331e5b742",
   "metadata": {},
   "outputs": [
    {
     "data": {
      "text/html": [
       "<div>\n",
       "<style scoped>\n",
       "    .dataframe tbody tr th:only-of-type {\n",
       "        vertical-align: middle;\n",
       "    }\n",
       "\n",
       "    .dataframe tbody tr th {\n",
       "        vertical-align: top;\n",
       "    }\n",
       "\n",
       "    .dataframe thead th {\n",
       "        text-align: right;\n",
       "    }\n",
       "</style>\n",
       "<table border=\"1\" class=\"dataframe\">\n",
       "  <thead>\n",
       "    <tr style=\"text-align: right;\">\n",
       "      <th></th>\n",
       "      <th>cd_periodo</th>\n",
       "      <th>vl_periodo</th>\n",
       "      <th>cd_tipo_periodo</th>\n",
       "      <th>cd_tipo_situacao</th>\n",
       "      <th>dt_atualizacao</th>\n",
       "      <th>cd_operador</th>\n",
       "    </tr>\n",
       "  </thead>\n",
       "  <tbody>\n",
       "    <tr>\n",
       "      <th>0</th>\n",
       "      <td>1</td>\n",
       "      <td>1980</td>\n",
       "      <td>1</td>\n",
       "      <td>1</td>\n",
       "      <td>2018-01-01 00:00:00.000000</td>\n",
       "      <td>SJ2234</td>\n",
       "    </tr>\n",
       "    <tr>\n",
       "      <th>1</th>\n",
       "      <td>2</td>\n",
       "      <td>1981</td>\n",
       "      <td>1</td>\n",
       "      <td>1</td>\n",
       "      <td>2018-01-01 00:00:00.000000</td>\n",
       "      <td>SJ2234</td>\n",
       "    </tr>\n",
       "    <tr>\n",
       "      <th>2</th>\n",
       "      <td>3</td>\n",
       "      <td>1982</td>\n",
       "      <td>1</td>\n",
       "      <td>1</td>\n",
       "      <td>2019-04-10 15:35:55.000020</td>\n",
       "      <td>t010001</td>\n",
       "    </tr>\n",
       "    <tr>\n",
       "      <th>3</th>\n",
       "      <td>4</td>\n",
       "      <td>1983</td>\n",
       "      <td>1</td>\n",
       "      <td>1</td>\n",
       "      <td>2019-04-10 15:35:55.000030</td>\n",
       "      <td>t010001</td>\n",
       "    </tr>\n",
       "    <tr>\n",
       "      <th>4</th>\n",
       "      <td>5</td>\n",
       "      <td>1984</td>\n",
       "      <td>1</td>\n",
       "      <td>1</td>\n",
       "      <td>2019-04-10 15:35:55.000040</td>\n",
       "      <td>t010001</td>\n",
       "    </tr>\n",
       "  </tbody>\n",
       "</table>\n",
       "</div>"
      ],
      "text/plain": [
       "  cd_periodo vl_periodo  cd_tipo_periodo  cd_tipo_situacao  \\\n",
       "0          1       1980                1                 1   \n",
       "1          2       1981                1                 1   \n",
       "2          3       1982                1                 1   \n",
       "3          4       1983                1                 1   \n",
       "4          5       1984                1                 1   \n",
       "\n",
       "              dt_atualizacao cd_operador  \n",
       "0 2018-01-01 00:00:00.000000      SJ2234  \n",
       "1 2018-01-01 00:00:00.000000      SJ2234  \n",
       "2 2019-04-10 15:35:55.000020     t010001  \n",
       "3 2019-04-10 15:35:55.000030     t010001  \n",
       "4 2019-04-10 15:35:55.000040     t010001  "
      ]
     },
     "execution_count": 25,
     "metadata": {},
     "output_type": "execute_result"
    }
   ],
   "source": [
    "periodos.head()"
   ]
  },
  {
   "cell_type": "code",
   "execution_count": 26,
   "id": "be212a7b-cbcc-45e2-89ea-b1e47d7f79c8",
   "metadata": {},
   "outputs": [],
   "source": [
    "periodos = periodos[periodos['cd_tipo_situacao']==1].reset_index(drop=True)"
   ]
  },
  {
   "cell_type": "code",
   "execution_count": 27,
   "id": "6065395b-c8db-4526-b831-efba1bd77def",
   "metadata": {},
   "outputs": [],
   "source": [
    "de_para_periodos = dict(zip(periodos['cd_periodo'], periodos['vl_periodo']))"
   ]
  },
  {
   "cell_type": "code",
   "execution_count": 28,
   "id": "8c3bae03-8329-422d-92b8-0f9443cd74bf",
   "metadata": {},
   "outputs": [],
   "source": [
    "mapper_ultimo_periodo = {}\n",
    "\n",
    "for i, row in variaveis.iterrows():\n",
    "    \n",
    "    cd_variavel = row['cd_variavel']\n",
    "    \n",
    "    temp_df = results[results['cd_variavel']==cd_variavel].copy()\n",
    "    temp_df['periodo_num'] = temp_df['cd_periodo'].apply(lambda x: \n",
    "                                                         de_para_periodos.get(x, -1))\n",
    "    temp_df['periodo_num'] = temp_df['periodo_num'].astype(int)\n",
    "    \n",
    "    last_period = temp_df['periodo_num'].max()\n",
    "    \n",
    "    mapper_ultimo_periodo[cd_variavel] = last_period"
   ]
  },
  {
   "cell_type": "code",
   "execution_count": 29,
   "id": "508bd30f-df76-4a60-85b7-fd734c486497",
   "metadata": {},
   "outputs": [],
   "source": [
    "variaveis['ultimo_periodo_atualizado'] = variaveis['cd_variavel'].apply(lambda x:\n",
    "                                                                       mapper_ultimo_periodo.get(x))"
   ]
  },
  {
   "cell_type": "code",
   "execution_count": 30,
   "id": "0118b8bc-0bc5-44e5-bba5-5b17de4bf803",
   "metadata": {},
   "outputs": [
    {
     "data": {
      "text/html": [
       "<div>\n",
       "<style scoped>\n",
       "    .dataframe tbody tr th:only-of-type {\n",
       "        vertical-align: middle;\n",
       "    }\n",
       "\n",
       "    .dataframe tbody tr th {\n",
       "        vertical-align: top;\n",
       "    }\n",
       "\n",
       "    .dataframe thead th {\n",
       "        text-align: right;\n",
       "    }\n",
       "</style>\n",
       "<table border=\"1\" class=\"dataframe\">\n",
       "  <thead>\n",
       "    <tr style=\"text-align: right;\">\n",
       "      <th></th>\n",
       "      <th>cd_variavel</th>\n",
       "      <th>nm_resumido_variavel</th>\n",
       "      <th>nm_completo_variavel</th>\n",
       "      <th>dt_atualizacao</th>\n",
       "      <th>tx_fonte_variavel</th>\n",
       "      <th>dc_unidade_territorial</th>\n",
       "      <th>indicadores</th>\n",
       "      <th>ultimo_periodo_atualizado</th>\n",
       "    </tr>\n",
       "  </thead>\n",
       "  <tbody>\n",
       "    <tr>\n",
       "      <th>248</th>\n",
       "      <td>782</td>\n",
       "      <td>V0738</td>\n",
       "      <td>Área total de parques naturais municipais e de...</td>\n",
       "      <td>2022-02-01 15:54:48.928966</td>\n",
       "      <td>SVMA / CPA/ DIA</td>\n",
       "      <td>Município</td>\n",
       "      <td>689</td>\n",
       "      <td>2022.0</td>\n",
       "    </tr>\n",
       "    <tr>\n",
       "      <th>731</th>\n",
       "      <td>579</td>\n",
       "      <td>V0537</td>\n",
       "      <td>Número de Organizações da Sociedade Civil no C...</td>\n",
       "      <td>2022-11-25 12:15:31.645246</td>\n",
       "      <td>Secretaria Municipal de Gestão (SEGES)</td>\n",
       "      <td>Município</td>\n",
       "      <td>520</td>\n",
       "      <td>2021.0</td>\n",
       "    </tr>\n",
       "    <tr>\n",
       "      <th>483</th>\n",
       "      <td>674</td>\n",
       "      <td>V0632</td>\n",
       "      <td>Número de caminhões envolvidos em acidentes fa...</td>\n",
       "      <td>2022-01-04 16:39:40.055686</td>\n",
       "      <td>Companhia de Engenharia de Tráfego (CET); Secr...</td>\n",
       "      <td>Município</td>\n",
       "      <td>592</td>\n",
       "      <td>2022.0</td>\n",
       "    </tr>\n",
       "    <tr>\n",
       "      <th>12</th>\n",
       "      <td>827</td>\n",
       "      <td>V0783</td>\n",
       "      <td>Deslocamentos motorizados - pesquisa OD</td>\n",
       "      <td>2022-03-21 11:37:41.653437</td>\n",
       "      <td>Pesquisa Origem-Destino Metrô SP; Secretaria M...</td>\n",
       "      <td>Município</td>\n",
       "      <td>729</td>\n",
       "      <td>2017.0</td>\n",
       "    </tr>\n",
       "    <tr>\n",
       "      <th>434</th>\n",
       "      <td>629</td>\n",
       "      <td>V0587</td>\n",
       "      <td>Crimes fatais - mulheres</td>\n",
       "      <td>2022-01-04 12:40:53.077281</td>\n",
       "      <td>Secretaria de Segurança Pública (SSP); Secreta...</td>\n",
       "      <td>Município</td>\n",
       "      <td></td>\n",
       "      <td>2022.0</td>\n",
       "    </tr>\n",
       "  </tbody>\n",
       "</table>\n",
       "</div>"
      ],
      "text/plain": [
       "    cd_variavel nm_resumido_variavel  \\\n",
       "248         782                V0738   \n",
       "731         579                V0537   \n",
       "483         674                V0632   \n",
       "12          827                V0783   \n",
       "434         629                V0587   \n",
       "\n",
       "                                  nm_completo_variavel  \\\n",
       "248  Área total de parques naturais municipais e de...   \n",
       "731  Número de Organizações da Sociedade Civil no C...   \n",
       "483  Número de caminhões envolvidos em acidentes fa...   \n",
       "12             Deslocamentos motorizados - pesquisa OD   \n",
       "434                           Crimes fatais - mulheres   \n",
       "\n",
       "                dt_atualizacao  \\\n",
       "248 2022-02-01 15:54:48.928966   \n",
       "731 2022-11-25 12:15:31.645246   \n",
       "483 2022-01-04 16:39:40.055686   \n",
       "12  2022-03-21 11:37:41.653437   \n",
       "434 2022-01-04 12:40:53.077281   \n",
       "\n",
       "                                     tx_fonte_variavel dc_unidade_territorial  \\\n",
       "248                                    SVMA / CPA/ DIA              Município   \n",
       "731             Secretaria Municipal de Gestão (SEGES)              Município   \n",
       "483  Companhia de Engenharia de Tráfego (CET); Secr...              Município   \n",
       "12   Pesquisa Origem-Destino Metrô SP; Secretaria M...              Município   \n",
       "434  Secretaria de Segurança Pública (SSP); Secreta...              Município   \n",
       "\n",
       "    indicadores  ultimo_periodo_atualizado  \n",
       "248         689                     2022.0  \n",
       "731         520                     2021.0  \n",
       "483         592                     2022.0  \n",
       "12          729                     2017.0  \n",
       "434                                 2022.0  "
      ]
     },
     "execution_count": 30,
     "metadata": {},
     "output_type": "execute_result"
    }
   ],
   "source": [
    "variaveis.sample(5)"
   ]
  },
  {
   "cell_type": "code",
   "execution_count": 31,
   "id": "5eb5e1b5-f6f2-43ef-96a9-dd524b524754",
   "metadata": {},
   "outputs": [
    {
     "data": {
      "text/plain": [
       "array([2020., 2022., 2021., 2019., 2017., 2014., 2010., 2015., 2023.,\n",
       "       2018., 2016.,   nan, 2030.])"
      ]
     },
     "execution_count": 31,
     "metadata": {},
     "output_type": "execute_result"
    }
   ],
   "source": [
    "variaveis['ultimo_periodo_atualizado'].unique()"
   ]
  },
  {
   "cell_type": "code",
   "execution_count": 32,
   "id": "ce4a3461-1081-42ca-867d-db6685ef6d24",
   "metadata": {},
   "outputs": [
    {
     "data": {
      "text/plain": [
       "<AxesSubplot: >"
      ]
     },
     "execution_count": 32,
     "metadata": {},
     "output_type": "execute_result"
    },
    {
     "data": {
      "image/png": "[encoded data removed]",
      "text/plain": [
       "<Figure size 640x480 with 1 Axes>"
      ]
     },
     "metadata": {},
     "output_type": "display_data"
    }
   ],
   "source": [
    "variaveis['ultimo_periodo_atualizado'].value_counts(normalize=True).sort_index().plot.bar()"
   ]
  },
  {
   "cell_type": "code",
   "execution_count": 33,
   "id": "5281eb11-a3f9-4005-b0fa-aaff57d14ef8",
   "metadata": {},
   "outputs": [
    {
     "data": {
      "text/plain": [
       "array(['Anual', 'Anual.', 'anual', 'Decenal', 'Bienal', None, 'Varia.',\n",
       "       'Quinquenal.', 'Indefinido.', 'Anual\\r\\n', 'Mensal', 'Quinquenal',\n",
       "       'Anual ', '\\r\\nAnual', 'Depende'], dtype=object)"
      ]
     },
     "execution_count": 33,
     "metadata": {},
     "output_type": "execute_result"
    }
   ],
   "source": [
    "indi['dc_periodicidade_indicador'].unique()"
   ]
  },
  {
   "cell_type": "code",
   "execution_count": 34,
   "id": "610f31fa-f9a3-46c4-a10d-3209d4f371dc",
   "metadata": {},
   "outputs": [],
   "source": [
    "def padronizar_periodicidade(serie:str):\n",
    "    \n",
    "    if serie is None:\n",
    "        return None\n",
    "    \n",
    "    mapper = {\n",
    "        #como os dados sao anuais, mensal atual como se fosse anual\n",
    "        'mensal' : 1,\n",
    "        'anual' : 1,\n",
    "        'bienal' : 2,\n",
    "        'quinquenal' : 5,\n",
    "        'decenal' : 10,\n",
    "    }\n",
    "    \n",
    "    for key, val in mapper.items():\n",
    "        if key in serie.lower():\n",
    "            return val\n",
    "    else:\n",
    "        return None\n",
    "    \n",
    "    "
   ]
  },
  {
   "cell_type": "code",
   "execution_count": 35,
   "id": "cbe175ef-bac7-477a-a6d5-0e743b291c34",
   "metadata": {},
   "outputs": [],
   "source": [
    "indi['periodicidade_padrao'] = indi['dc_periodicidade_indicador'].apply(padronizar_periodicidade)"
   ]
  },
  {
   "cell_type": "code",
   "execution_count": 36,
   "id": "db667aff-d095-40b5-a8a5-30e8612b1cb7",
   "metadata": {},
   "outputs": [
    {
     "data": {
      "text/plain": [
       "<AxesSubplot: >"
      ]
     },
     "execution_count": 36,
     "metadata": {},
     "output_type": "execute_result"
    },
    {
     "data": {
      "image/png": "[encoded data removed]",
      "text/plain": [
       "<Figure size 640x480 with 1 Axes>"
      ]
     },
     "metadata": {},
     "output_type": "display_data"
    }
   ],
   "source": [
    "indi['periodicidade_padrao'].value_counts(normalize=True).plot.bar()"
   ]
  },
  {
   "cell_type": "code",
   "execution_count": 37,
   "id": "58febfc1-bfc2-45c9-9b49-1096d392bb12",
   "metadata": {},
   "outputs": [
    {
     "data": {
      "text/plain": [
       "array(['Início: 2013 - Término: 2014', 'Inicio: 2006 - atualmente',\n",
       "       'Início: 2016 - Atualmente.', 'início: 2008 - atualmente',\n",
       "       'Início: 2018 - Atualmente', 'Início: 2013 - atualmente',\n",
       "       'Início: 2006 - 2015', 'Inicio: 2014 - atualmente',\n",
       "       'Início: 2010 - atualmente', '2018', 'Início; 2010 - Atualmente',\n",
       "       'Início: 2012 - atualmente', 'Início: 2013 - Atualmente.',\n",
       "       'Início: 2015 - Atualmente', 'Início: 2015 - Atualmente.',\n",
       "       'Início: 2000/2010 - atualmente', 'Início: 2011 - atualmente',\n",
       "       'Início: 2009 - atualmente', 'Início: 2006 - Atualmente',\n",
       "       '2000 e 2010', 'Início: 2000 - Atualmente.',\n",
       "       'Início: 2003 - Atualmente.', '2010', 'Início: 2008 - Atualmente',\n",
       "       'Início: 1996 - Atualmente', 'Início: 2016 - Atualmente',\n",
       "       'Início: 2005 - atualmente', 'Início: 2005 - Atualmente',\n",
       "       'Início: 2012 - Atualmente', 'Início: 2011 - Atualmente',\n",
       "       'Inicio: 2012 - atualmente', 'Início: 2008 - atual',\n",
       "       'Início: 2015 - atualmente', 'Inicio: 2013 - Término: 2014',\n",
       "       '2020 - Atualmente', 'Início: 2003 - Atualmente',\n",
       "       'Início: 2006 - Atualmente.', 'Início: 2000 - atualmente',\n",
       "       'início: 2000 - atualmente.', 'Início: 2017 - Atualmente.',\n",
       "       'Início: 2000 - Atualmente', 'Início: 2002 - Atualmente.',\n",
       "       '2016 - atualmente', 'Início: 2019 - atualmente', '2017.',\n",
       "       'Início: 2015 - atual', None, 'Início: 2018 - atualmente',\n",
       "       'Início: 2010 - 2013 - 2015 - 2020', 'Inicio - 2017 - atualmente',\n",
       "       'Início: 2009 - Atualmente', 'Início: 2019 - Atualmente',\n",
       "       'Início: 2012 - Término: 2018', 'Início: 2002 - Término: 2018',\n",
       "       'Início: 2018 - Atualmente.', 'Início: 2002 - atualmente', '2020.',\n",
       "       'início: 2015 - Atualmente', 'Início: 2007 - atualmente',\n",
       "       '2010, 2013, 2015, 2020', '2016.', 'Início: 2010 - Atualmente.',\n",
       "       'Início: 2008 - atualmente', 'Inicio: 2008 - Atualmente',\n",
       "       'Início: 2000 - Término: 2010', 'Início: 2006 - atualmente',\n",
       "       '2017', 'Início: 2017 - Atualmente', 'Início: 2016 - atualmente',\n",
       "       'Início: 2014 - atualmente', 'Início: 2010 - Atualmente',\n",
       "       'Início: 2009  - Atualmente', 'Ínicio: 2016 - Atualmente',\n",
       "       'Início: 2007 - Atualmente.', 'início: 2002 - atualmente',\n",
       "       'início 2006-atualmente', 'início: 2006 - atualmente\\r\\n',\n",
       "       'Início: 2016 - Término: 2017', 'início: 2006 - atualmente',\n",
       "       'início: 2002 - atualmente\\r\\n', 'início: 1997 - atualmente',\n",
       "       'Início: 2006 - Término: 2016', 'Inicio 2017 - atualmente',\n",
       "       'Início: 2006 - atualmente\\r\\n', 'Inicio: 2000 - Atualmente',\n",
       "       '2020', 'Início: 2010; 2021-atualmente',\n",
       "       'Início: 2017 - atualmente', 'Início: 2003 - atualmente',\n",
       "       'início: 2014 - atualmente', '2018.', 'início: 2005 - atualmente',\n",
       "       '2017 - Atualmente', '2018 - atualmente', '2018 - Atualmente',\n",
       "       'Início: 2020 - atualmente', 'Início: 2021 - atualmente',\n",
       "       'Início: 2021 - Atualmente', 'Início: 2020 - Atualmente',\n",
       "       'Início: 2013 - Atualmente', 'Inicio: 2010 - atualmente',\n",
       "       'Início: 2012 - 2016', '2016; 2020 - Atualmente.',\n",
       "       'Início: 01/2016; 01/2019 - atualmente',\n",
       "       'Início: 2008 - Atualmente\\r\\n', 'Início: 2008 – atualmente',\n",
       "       'Início: 2006 - Atual', 'Início: 2003 – Atualmente',\n",
       "       'Início: 2003 – atualmente', 'Início: 2019',\n",
       "       'Inicio: 2016 - atualmente', '2013 e 2017',\n",
       "       'Início: 2000 - atualmente.', 'Início: 2015 - Atualmente ',\n",
       "       'Início: 2013 - Término: 2016', 'Início: 2006 - atualmente.',\n",
       "       'Início: 2006 - Término: 2006; Início: 2008 - Término: 2008; Início: 2012 - Término: 2018',\n",
       "       'Início: 2007 - término: 2017', 'Início: 2018 - atual',\n",
       "       'Início: 2020 - atual', 'Início: 2017.',\n",
       "       'Início: 2002 - Atualmente', 'Início: 2018 - Atualmente ',\n",
       "       'Inicio: 2013 - atualmente', 'Início: 2014 - Atualmente',\n",
       "       'Inicio: 2018 - atualmente', 'Início: 2001 - atualmente',\n",
       "       'Início: 2009 - atualmente ', '2021.',\n",
       "       'Início: 2017 - Atualmente ', 'Início: 2000 - Término: 2019',\n",
       "       'Inicio: 2015 - Atualmente', 'Início: 2006 - 2021'], dtype=object)"
      ]
     },
     "execution_count": 37,
     "metadata": {},
     "output_type": "execute_result"
    }
   ],
   "source": [
    "indi['dc_serie_historica'].unique()"
   ]
  },
  {
   "cell_type": "code",
   "execution_count": 38,
   "id": "c7fc4239-b1f2-4f4f-9262-4749de96c38a",
   "metadata": {},
   "outputs": [],
   "source": [
    "fname = 'report_variaveis.xlsx'"
   ]
  },
  {
   "cell_type": "code",
   "execution_count": 39,
   "id": "bb8088f1-77cf-4f9e-ad64-d1f6e85779d7",
   "metadata": {},
   "outputs": [],
   "source": [
    "variaveis.to_excel(fname, index=False)"
   ]
  },
  {
   "cell_type": "code",
   "execution_count": null,
   "id": "85845b0c-4cf2-4f6f-a23d-eca8982c3db9",
   "metadata": {},
   "outputs": [],
   "source": []
  }
 ],
 "metadata": {
  "kernelspec": {
   "display_name": "Python 3 (ipykernel)",
   "language": "python",
   "name": "python3"
  },
  "language_info": {
   "codemirror_mode": {
    "name": "ipython",
    "version": 3
   },
   "file_extension": ".py",
   "mimetype": "text/x-python",
   "name": "python",
   "nbconvert_exporter": "python",
   "pygments_lexer": "ipython3",
   "version": "3.11.1"
  }
 },
 "nbformat": 4,
 "nbformat_minor": 5
}
